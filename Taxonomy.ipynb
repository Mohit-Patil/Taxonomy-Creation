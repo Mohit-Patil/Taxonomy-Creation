{
  "nbformat": 4,
  "nbformat_minor": 0,
  "metadata": {
    "colab": {
      "name": "TaxonomyUpd.ipynb",
      "provenance": [],
      "collapsed_sections": [],
      "machine_shape": "hm",
      "include_colab_link": true
    },
    "kernelspec": {
      "name": "python3",
      "display_name": "Python 3"
    },
    "accelerator": "GPU"
  },
  "cells": [
    {
      "cell_type": "markdown",
      "metadata": {
        "id": "view-in-github",
        "colab_type": "text"
      },
      "source": [
        "<a href=\"https://colab.research.google.com/github/Mohit-Patil/Taxonomy-Creation/blob/master/Taxonomy.ipynb\" target=\"_parent\"><img src=\"https://colab.research.google.com/assets/colab-badge.svg\" alt=\"Open In Colab\"/></a>"
      ]
    },
    {
      "cell_type": "markdown",
      "metadata": {
        "id": "QLV0bQuJghCU",
        "colab_type": "text"
      },
      "source": [
        "# **-----TAXONOMY CREATION-----**"
      ]
    },
    {
      "cell_type": "markdown",
      "metadata": {
        "id": "GYeCFsOYnqwr",
        "colab_type": "text"
      },
      "source": [
        "## 1. Importing Libraries."
      ]
    },
    {
      "cell_type": "code",
      "metadata": {
        "id": "WnRokUZmCAl6",
        "colab_type": "code",
        "outputId": "ecaaaa3c-cf12-4a5d-b0ca-c7ec455615a4",
        "colab": {
          "base_uri": "https://localhost:8080/",
          "height": 101
        }
      },
      "source": [
        "import pandas as pd\n",
        "import collections\n",
        "import random\n",
        "from bs4 import BeautifulSoup\n",
        "from nltk.corpus import stopwords\n",
        "import re\n",
        "from sklearn.preprocessing import MultiLabelBinarizer\n",
        "from sklearn.utils import shuffle\n",
        "import tensorflow as tf \n",
        "import nltk\n",
        "nltk.download('stopwords')\n",
        "nltk.download('punkt')\n"
      ],
      "execution_count": 0,
      "outputs": [
        {
          "output_type": "stream",
          "text": [
            "[nltk_data] Downloading package stopwords to /root/nltk_data...\n",
            "[nltk_data]   Unzipping corpora/stopwords.zip.\n",
            "[nltk_data] Downloading package punkt to /root/nltk_data...\n",
            "[nltk_data]   Unzipping tokenizers/punkt.zip.\n"
          ],
          "name": "stdout"
        },
        {
          "output_type": "execute_result",
          "data": {
            "text/plain": [
              "True"
            ]
          },
          "metadata": {
            "tags": []
          },
          "execution_count": 1
        }
      ]
    },
    {
      "cell_type": "markdown",
      "metadata": {
        "id": "hoLuFPY_sU9Y",
        "colab_type": "text"
      },
      "source": [
        "\n",
        "##2. Connecting Google Drive to Save Processed Data sets.\n",
        "\n",
        "* Used to Store Data and Model on the Google Drive.\n",
        "* Data can be recovered if the Run time crashes."
      ]
    },
    {
      "cell_type": "code",
      "metadata": {
        "id": "ME48IUdFYrT-",
        "colab_type": "code",
        "outputId": "9a0dcaeb-ac81-4541-fa96-c09c993430f5",
        "colab": {
          "base_uri": "https://localhost:8080/",
          "height": 121
        }
      },
      "source": [
        "from google.colab import drive\n",
        "drive.mount('/content/drive')"
      ],
      "execution_count": 0,
      "outputs": [
        {
          "output_type": "stream",
          "text": [
            "Go to this URL in a browser: https://accounts.google.com/o/oauth2/auth?client_id=947318989803-6bn6qk8qdgf4n4g3pfee6491hc0brc4i.apps.googleusercontent.com&redirect_uri=urn%3Aietf%3Awg%3Aoauth%3A2.0%3Aoob&scope=email%20https%3A%2F%2Fwww.googleapis.com%2Fauth%2Fdocs.test%20https%3A%2F%2Fwww.googleapis.com%2Fauth%2Fdrive%20https%3A%2F%2Fwww.googleapis.com%2Fauth%2Fdrive.photos.readonly%20https%3A%2F%2Fwww.googleapis.com%2Fauth%2Fpeopleapi.readonly&response_type=code\n",
            "\n",
            "Enter your authorization code:\n",
            "··········\n",
            "Mounted at /content/drive\n"
          ],
          "name": "stdout"
        }
      ]
    },
    {
      "cell_type": "markdown",
      "metadata": {
        "id": "0NyAPdAlhQe1",
        "colab_type": "text"
      },
      "source": [
        "## 3. Downloading Dataset from Kaggle.\n",
        "\n",
        "* Instead of Downloading the dataset locally, we download it to Colab Runtime utilizing the network speed and storage constraints.\n",
        "1. Install Kaggle API.\n",
        "2. Download the Dataset from the Competition list.\n",
        "3. Unzip the Train and Test Data."
      ]
    },
    {
      "cell_type": "code",
      "metadata": {
        "id": "EsOuCMjTge6S",
        "colab_type": "code",
        "outputId": "c5d0efa9-765c-42fa-fef8-b450c8f9c8c4",
        "colab": {
          "resources": {
            "http://localhost:8080/nbextensions/google.colab/files.js": {
              "data": "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",
              "ok": true,
              "headers": [
                [
                  "content-type",
                  "application/javascript"
                ]
              ],
              "status": 200,
              "status_text": ""
            }
          },
          "base_uri": "https://localhost:8080/",
          "height": 310
        }
      },
      "source": [
        "!pip install -q kaggle\n",
        "from google.colab import files\n",
        "files.upload()\n",
        "!mkdir ~/.kaggle\n",
        "!cp kaggle.json ~/.kaggle/\n",
        "!chmod 600 ~/.kaggle/kaggle.json\n",
        "!kaggle competitions download -c facebook-recruiting-iii-keyword-extraction\n",
        "!unzip Train.zip\n",
        "!unzip Test.zip"
      ],
      "execution_count": 0,
      "outputs": [
        {
          "output_type": "display_data",
          "data": {
            "text/html": [
              "\n",
              "     <input type=\"file\" id=\"files-15bf9803-2e2f-43a8-92eb-5534a49e40be\" name=\"files[]\" multiple disabled />\n",
              "     <output id=\"result-15bf9803-2e2f-43a8-92eb-5534a49e40be\">\n",
              "      Upload widget is only available when the cell has been executed in the\n",
              "      current browser session. Please rerun this cell to enable.\n",
              "      </output>\n",
              "      <script src=\"/nbextensions/google.colab/files.js\"></script> "
            ],
            "text/plain": [
              "<IPython.core.display.HTML object>"
            ]
          },
          "metadata": {
            "tags": []
          }
        },
        {
          "output_type": "stream",
          "text": [
            "Saving kaggle.json to kaggle.json\n",
            "Warning: Looks like you're using an outdated API Version, please consider updating (server 1.5.6 / client 1.5.4)\n",
            "Downloading Train.zip to /content\n",
            "100% 2.18G/2.19G [00:20<00:00, 169MB/s]\n",
            "100% 2.19G/2.19G [00:20<00:00, 113MB/s]\n",
            "Downloading Test.zip to /content\n",
            " 98% 707M/725M [00:04<00:00, 157MB/s]\n",
            "100% 725M/725M [00:04<00:00, 161MB/s]\n",
            "Downloading SampleSubmission.csv to /content\n",
            " 83% 65.0M/78.7M [00:00<00:00, 81.0MB/s]\n",
            "100% 78.7M/78.7M [00:00<00:00, 160MB/s] \n",
            "Archive:  Train.zip\n",
            "  inflating: Train.csv               \n",
            "Archive:  Test.zip\n",
            "  inflating: Test.csv                \n"
          ],
          "name": "stdout"
        }
      ]
    },
    {
      "cell_type": "markdown",
      "metadata": {
        "id": "pEY2SjrftFtP",
        "colab_type": "text"
      },
      "source": [
        "\n",
        "## 4. Preproceesing and Cleaning the Data\n",
        "\n",
        "### Dataset Description\n",
        "- **Id** - Unique identifier for each question.\n",
        "- **Title** - The question's title.\n",
        "- **Body** - The body of the question.\n",
        "- **Tags** - The tags associated with the question.\n",
        "\n",
        "- *Size(Compressed)*: 2.19GB\n",
        "- *Size(Actual)*: 6.76GB\n",
        "- *No. of Rows*: 6034195 \n",
        "- *No. of Columns*: 4\n",
        "\n",
        "\n",
        "### Dataset Link\n",
        "Dataset: [Facebook Recruiting III - Keyword Extraction](https://www.kaggle.com/c/facebook-recruiting-iii-keyword-extraction/data) competition on Kaggle.\n",
        "\n",
        "</br>"
      ]
    },
    {
      "cell_type": "markdown",
      "metadata": {
        "id": "LvHN3pdiyDHw",
        "colab_type": "text"
      },
      "source": [
        "\n",
        "### Loading Datasets into Dataframe\n",
        "\n",
        " - Using Pandas Library\n"
      ]
    },
    {
      "cell_type": "code",
      "metadata": {
        "id": "55S9gnLjmpry",
        "colab_type": "code",
        "outputId": "b2a419b8-e2e9-4e34-cb1e-5be23294009f",
        "colab": {
          "base_uri": "https://localhost:8080/",
          "height": 34
        }
      },
      "source": [
        "df = pd.read_csv(\"Train.csv\")\n",
        "print(\"Dimensions of Data:\",df.shape)"
      ],
      "execution_count": 0,
      "outputs": [
        {
          "output_type": "stream",
          "text": [
            "Dimensions of Data: (6034195, 4)\n"
          ],
          "name": "stdout"
        }
      ]
    },
    {
      "cell_type": "markdown",
      "metadata": {
        "id": "kVaE4Ck4tPe_",
        "colab_type": "text"
      },
      "source": [
        "\n",
        "### 4.1 Deleting Missing data from the Rows\n",
        "\n",
        " - Using Inbuilt Functions of Pandas library.\n"
      ]
    },
    {
      "cell_type": "code",
      "metadata": {
        "id": "-zRQ_mth-i49",
        "colab_type": "code",
        "outputId": "59a6aea7-4b3a-4f56-967f-92eff1584f47",
        "colab": {
          "base_uri": "https://localhost:8080/",
          "height": 279
        }
      },
      "source": [
        "df.dropna(inplace = True)\n",
        "df.reset_index(inplace = True)\n",
        "df.head()"
      ],
      "execution_count": 0,
      "outputs": [
        {
          "output_type": "execute_result",
          "data": {
            "text/html": [
              "<div>\n",
              "<style scoped>\n",
              "    .dataframe tbody tr th:only-of-type {\n",
              "        vertical-align: middle;\n",
              "    }\n",
              "\n",
              "    .dataframe tbody tr th {\n",
              "        vertical-align: top;\n",
              "    }\n",
              "\n",
              "    .dataframe thead th {\n",
              "        text-align: right;\n",
              "    }\n",
              "</style>\n",
              "<table border=\"1\" class=\"dataframe\">\n",
              "  <thead>\n",
              "    <tr style=\"text-align: right;\">\n",
              "      <th></th>\n",
              "      <th>index</th>\n",
              "      <th>Id</th>\n",
              "      <th>Title</th>\n",
              "      <th>Body</th>\n",
              "      <th>Tags</th>\n",
              "    </tr>\n",
              "  </thead>\n",
              "  <tbody>\n",
              "    <tr>\n",
              "      <th>0</th>\n",
              "      <td>0</td>\n",
              "      <td>1</td>\n",
              "      <td>How to check if an uploaded file is an image w...</td>\n",
              "      <td>&lt;p&gt;I'd like to check if an uploaded file is an...</td>\n",
              "      <td>php image-processing file-upload upload mime-t...</td>\n",
              "    </tr>\n",
              "    <tr>\n",
              "      <th>1</th>\n",
              "      <td>1</td>\n",
              "      <td>2</td>\n",
              "      <td>How can I prevent firefox from closing when I ...</td>\n",
              "      <td>&lt;p&gt;In my favorite editor (vim), I regularly us...</td>\n",
              "      <td>firefox</td>\n",
              "    </tr>\n",
              "    <tr>\n",
              "      <th>2</th>\n",
              "      <td>2</td>\n",
              "      <td>3</td>\n",
              "      <td>R Error Invalid type (list) for variable</td>\n",
              "      <td>&lt;p&gt;I am import matlab file and construct a dat...</td>\n",
              "      <td>r matlab machine-learning</td>\n",
              "    </tr>\n",
              "    <tr>\n",
              "      <th>3</th>\n",
              "      <td>3</td>\n",
              "      <td>4</td>\n",
              "      <td>How do I replace special characters in a URL?</td>\n",
              "      <td>&lt;p&gt;This is probably very simple, but I simply ...</td>\n",
              "      <td>c# url encoding</td>\n",
              "    </tr>\n",
              "    <tr>\n",
              "      <th>4</th>\n",
              "      <td>4</td>\n",
              "      <td>5</td>\n",
              "      <td>How to modify whois contact details?</td>\n",
              "      <td>&lt;pre&gt;&lt;code&gt;function modify(.......)\\n{\\n  $mco...</td>\n",
              "      <td>php api file-get-contents</td>\n",
              "    </tr>\n",
              "  </tbody>\n",
              "</table>\n",
              "</div>"
            ],
            "text/plain": [
              "   index  ...                                               Tags\n",
              "0      0  ...  php image-processing file-upload upload mime-t...\n",
              "1      1  ...                                            firefox\n",
              "2      2  ...                          r matlab machine-learning\n",
              "3      3  ...                                    c# url encoding\n",
              "4      4  ...                          php api file-get-contents\n",
              "\n",
              "[5 rows x 5 columns]"
            ]
          },
          "metadata": {
            "tags": []
          },
          "execution_count": 6
        }
      ]
    },
    {
      "cell_type": "code",
      "metadata": {
        "id": "XYShKngGCzwu",
        "colab_type": "code",
        "outputId": "3e69ef9c-1613-4605-d4c6-4d470d1024a2",
        "colab": {
          "base_uri": "https://localhost:8080/",
          "height": 34
        }
      },
      "source": [
        "print(\"Dimensions of Data after Removing Null Rows:\",df.shape)"
      ],
      "execution_count": 0,
      "outputs": [
        {
          "output_type": "stream",
          "text": [
            "Dimensions of Data after Removing Null Rows: (6034187, 5)\n"
          ],
          "name": "stdout"
        }
      ]
    },
    {
      "cell_type": "markdown",
      "metadata": {
        "id": "HFQYk8fet-vu",
        "colab_type": "text"
      },
      "source": [
        "\n",
        "### 4.2: Deleting Unnecessary Columns.\n",
        "\n",
        " - The Columns \"Id\" and \"Index\" are of no use\n",
        " - Removing them using drop(...) function of Pandas Library\n"
      ]
    },
    {
      "cell_type": "code",
      "metadata": {
        "id": "2JB6xvyk-1bl",
        "colab_type": "code",
        "outputId": "bb015ff2-46c9-4aa4-f9b6-a1c5f60008e1",
        "colab": {
          "base_uri": "https://localhost:8080/",
          "height": 195
        }
      },
      "source": [
        "df.drop(columns = ['Id','index'],inplace = True)\n",
        "df.head()"
      ],
      "execution_count": 0,
      "outputs": [
        {
          "output_type": "execute_result",
          "data": {
            "text/html": [
              "<div>\n",
              "<style scoped>\n",
              "    .dataframe tbody tr th:only-of-type {\n",
              "        vertical-align: middle;\n",
              "    }\n",
              "\n",
              "    .dataframe tbody tr th {\n",
              "        vertical-align: top;\n",
              "    }\n",
              "\n",
              "    .dataframe thead th {\n",
              "        text-align: right;\n",
              "    }\n",
              "</style>\n",
              "<table border=\"1\" class=\"dataframe\">\n",
              "  <thead>\n",
              "    <tr style=\"text-align: right;\">\n",
              "      <th></th>\n",
              "      <th>Title</th>\n",
              "      <th>Body</th>\n",
              "      <th>Tags</th>\n",
              "    </tr>\n",
              "  </thead>\n",
              "  <tbody>\n",
              "    <tr>\n",
              "      <th>0</th>\n",
              "      <td>How to check if an uploaded file is an image w...</td>\n",
              "      <td>&lt;p&gt;I'd like to check if an uploaded file is an...</td>\n",
              "      <td>php image-processing file-upload upload mime-t...</td>\n",
              "    </tr>\n",
              "    <tr>\n",
              "      <th>1</th>\n",
              "      <td>How can I prevent firefox from closing when I ...</td>\n",
              "      <td>&lt;p&gt;In my favorite editor (vim), I regularly us...</td>\n",
              "      <td>firefox</td>\n",
              "    </tr>\n",
              "    <tr>\n",
              "      <th>2</th>\n",
              "      <td>R Error Invalid type (list) for variable</td>\n",
              "      <td>&lt;p&gt;I am import matlab file and construct a dat...</td>\n",
              "      <td>r matlab machine-learning</td>\n",
              "    </tr>\n",
              "    <tr>\n",
              "      <th>3</th>\n",
              "      <td>How do I replace special characters in a URL?</td>\n",
              "      <td>&lt;p&gt;This is probably very simple, but I simply ...</td>\n",
              "      <td>c# url encoding</td>\n",
              "    </tr>\n",
              "    <tr>\n",
              "      <th>4</th>\n",
              "      <td>How to modify whois contact details?</td>\n",
              "      <td>&lt;pre&gt;&lt;code&gt;function modify(.......)\\n{\\n  $mco...</td>\n",
              "      <td>php api file-get-contents</td>\n",
              "    </tr>\n",
              "  </tbody>\n",
              "</table>\n",
              "</div>"
            ],
            "text/plain": [
              "                                               Title  ...                                               Tags\n",
              "0  How to check if an uploaded file is an image w...  ...  php image-processing file-upload upload mime-t...\n",
              "1  How can I prevent firefox from closing when I ...  ...                                            firefox\n",
              "2           R Error Invalid type (list) for variable  ...                          r matlab machine-learning\n",
              "3      How do I replace special characters in a URL?  ...                                    c# url encoding\n",
              "4               How to modify whois contact details?  ...                          php api file-get-contents\n",
              "\n",
              "[5 rows x 3 columns]"
            ]
          },
          "metadata": {
            "tags": []
          },
          "execution_count": 8
        }
      ]
    },
    {
      "cell_type": "code",
      "metadata": {
        "id": "59jMPqgkC5yb",
        "colab_type": "code",
        "outputId": "099b7ddd-aff9-48f7-c7e3-586629030f07",
        "colab": {
          "base_uri": "https://localhost:8080/",
          "height": 34
        }
      },
      "source": [
        "print(\"Dimensions of Data After Dropping Unnecessary Columns:\",df.shape)"
      ],
      "execution_count": 0,
      "outputs": [
        {
          "output_type": "stream",
          "text": [
            "Dimensions of Data After Dropping Unnecessary Columns: (6034187, 3)\n"
          ],
          "name": "stdout"
        }
      ]
    },
    {
      "cell_type": "markdown",
      "metadata": {
        "id": "224ARGRiu47e",
        "colab_type": "text"
      },
      "source": [
        "\n",
        "### 4.3: Removing Duplicates.\n",
        "\n",
        " - Dataset contains duplicates in it.\n",
        " - We only remove duplicates from only the \"Body\" column because the \"Title\" may be same for many data points but they may have different \"Body\"\n",
        " - Also \"Tags\" may be same for 2 Questions so we do not remove duplicates from \"Tags\" column\n",
        " - After Removing Duplicates we reset the index values.\n"
      ]
    },
    {
      "cell_type": "code",
      "metadata": {
        "id": "tSsgSk6E_8ct",
        "colab_type": "code",
        "colab": {}
      },
      "source": [
        "df.drop_duplicates(subset='Body',keep = 'first',inplace=True)"
      ],
      "execution_count": 0,
      "outputs": []
    },
    {
      "cell_type": "code",
      "metadata": {
        "id": "G6TLV7cuAsVy",
        "colab_type": "code",
        "outputId": "683b38aa-b823-41c8-a960-101985425c0c",
        "colab": {
          "base_uri": "https://localhost:8080/",
          "height": 34
        }
      },
      "source": [
        "print(\"Dimensions of Data After Removing Duplicates\",df.shape)"
      ],
      "execution_count": 0,
      "outputs": [
        {
          "output_type": "stream",
          "text": [
            "Dimensions of Data After Removing Duplicates (4154374, 3)\n"
          ],
          "name": "stdout"
        }
      ]
    },
    {
      "cell_type": "code",
      "metadata": {
        "id": "ZISS8636DWaS",
        "colab_type": "code",
        "outputId": "7eae448f-accc-4f31-f817-f9b591e26c9b",
        "colab": {
          "base_uri": "https://localhost:8080/",
          "height": 279
        }
      },
      "source": [
        "df.reset_index(inplace = True)\n",
        "df.head()"
      ],
      "execution_count": 0,
      "outputs": [
        {
          "output_type": "execute_result",
          "data": {
            "text/html": [
              "<div>\n",
              "<style scoped>\n",
              "    .dataframe tbody tr th:only-of-type {\n",
              "        vertical-align: middle;\n",
              "    }\n",
              "\n",
              "    .dataframe tbody tr th {\n",
              "        vertical-align: top;\n",
              "    }\n",
              "\n",
              "    .dataframe thead th {\n",
              "        text-align: right;\n",
              "    }\n",
              "</style>\n",
              "<table border=\"1\" class=\"dataframe\">\n",
              "  <thead>\n",
              "    <tr style=\"text-align: right;\">\n",
              "      <th></th>\n",
              "      <th>index</th>\n",
              "      <th>Title</th>\n",
              "      <th>Body</th>\n",
              "      <th>Tags</th>\n",
              "    </tr>\n",
              "  </thead>\n",
              "  <tbody>\n",
              "    <tr>\n",
              "      <th>0</th>\n",
              "      <td>0</td>\n",
              "      <td>How to check if an uploaded file is an image w...</td>\n",
              "      <td>&lt;p&gt;I'd like to check if an uploaded file is an...</td>\n",
              "      <td>php image-processing file-upload upload mime-t...</td>\n",
              "    </tr>\n",
              "    <tr>\n",
              "      <th>1</th>\n",
              "      <td>1</td>\n",
              "      <td>How can I prevent firefox from closing when I ...</td>\n",
              "      <td>&lt;p&gt;In my favorite editor (vim), I regularly us...</td>\n",
              "      <td>firefox</td>\n",
              "    </tr>\n",
              "    <tr>\n",
              "      <th>2</th>\n",
              "      <td>2</td>\n",
              "      <td>R Error Invalid type (list) for variable</td>\n",
              "      <td>&lt;p&gt;I am import matlab file and construct a dat...</td>\n",
              "      <td>r matlab machine-learning</td>\n",
              "    </tr>\n",
              "    <tr>\n",
              "      <th>3</th>\n",
              "      <td>3</td>\n",
              "      <td>How do I replace special characters in a URL?</td>\n",
              "      <td>&lt;p&gt;This is probably very simple, but I simply ...</td>\n",
              "      <td>c# url encoding</td>\n",
              "    </tr>\n",
              "    <tr>\n",
              "      <th>4</th>\n",
              "      <td>4</td>\n",
              "      <td>How to modify whois contact details?</td>\n",
              "      <td>&lt;pre&gt;&lt;code&gt;function modify(.......)\\n{\\n  $mco...</td>\n",
              "      <td>php api file-get-contents</td>\n",
              "    </tr>\n",
              "  </tbody>\n",
              "</table>\n",
              "</div>"
            ],
            "text/plain": [
              "   index  ...                                               Tags\n",
              "0      0  ...  php image-processing file-upload upload mime-t...\n",
              "1      1  ...                                            firefox\n",
              "2      2  ...                          r matlab machine-learning\n",
              "3      3  ...                                    c# url encoding\n",
              "4      4  ...                          php api file-get-contents\n",
              "\n",
              "[5 rows x 4 columns]"
            ]
          },
          "metadata": {
            "tags": []
          },
          "execution_count": 12
        }
      ]
    },
    {
      "cell_type": "markdown",
      "metadata": {
        "id": "_OQlHMdWvlE0",
        "colab_type": "text"
      },
      "source": [
        "###4.4: Calculating Total Tags Present"
      ]
    },
    {
      "cell_type": "code",
      "metadata": {
        "id": "3S5SBeEEcnSw",
        "colab_type": "code",
        "outputId": "ffba5a73-ff4e-420b-ca4b-b294803c036d",
        "colab": {
          "base_uri": "https://localhost:8080/",
          "height": 50
        }
      },
      "source": [
        "Available_tags = [tag for slist in df[\"Tags\"].values for tag in slist.split()]\n",
        "print(\"Total Tags Present\",len(Available_tags))\n",
        "print(\"Average Number of Tags Present per Row\",float(len(Available_tags))/df.shape[0])"
      ],
      "execution_count": 0,
      "outputs": [
        {
          "output_type": "stream",
          "text": [
            "Total Tags Present 12030708\n",
            "Average Number of Tags Present per Row 2.8959135600213175\n"
          ],
          "name": "stdout"
        }
      ]
    },
    {
      "cell_type": "markdown",
      "metadata": {
        "id": "Nz5q5olkwHuk",
        "colab_type": "text"
      },
      "source": [
        "\n",
        "### 4.5: Frequently Occurring Tags\n",
        "\n",
        " - List of tags which occur the most number of times.\n",
        " - Freq_Tags : *size* = 200.\n",
        " - We take 200 frequent tags to limit the data size.\n"
      ]
    },
    {
      "cell_type": "code",
      "metadata": {
        "id": "My3FVVtOFd__",
        "colab_type": "code",
        "colab": {}
      },
      "source": [
        "Counter = collections.Counter(Available_tags)\n",
        "Counter = { x:y for x, y in sorted(Counter.items(), key=lambda x: x[1], reverse=True) }\n",
        "Freq_tags = set(list(Counter.keys())[:200])"
      ],
      "execution_count": 0,
      "outputs": []
    },
    {
      "cell_type": "code",
      "metadata": {
        "id": "fGkk5HuWGnIn",
        "colab_type": "code",
        "outputId": "30d79422-3b60-4a2e-c9a1-d44eafb83f49",
        "colab": {
          "base_uri": "https://localhost:8080/",
          "height": 54
        }
      },
      "source": [
        "print(Freq_tags)"
      ],
      "execution_count": 0,
      "outputs": [
        {
          "output_type": "stream",
          "text": [
            "{'java', 'jquery', 'sql-server', 'r', 'sharepoint', 'ipad', 'sqlite', '.net', 'vim', 'mysql', 'svn', 'matlab', 'c', 'session', 'node.js', 'real-analysis', 'android', 'servlets', 'cakephp', 'spring', 'delphi', 'generics', 'zend-framework', 'pointers', 'wpf', 'web-services', 'redirect', 'powershell', 'ios5', 'sockets', 'django', 'iphone', 'java-ee', 'windows', 'jsp', 'ajax', 'iis', 'c++', 'phonegap', 'eclipse', 'apache', 'wordpress', 'visual-studio-2010', 'multithreading', 'mvc', 'facebook', 'ms-access', 'gwt', 'algorithm', 'bash', 'google-chrome', 'table', 'logging', 'visual-c++', 'asp.net-mvc', 'winforms', 'windows-8', 'dom', 'debugging', 'networking', 'tsql', 'performance', 'optimization', 'exception', 'http', 'apache2', 'javascript', 'drupal', 'perl', 'html5', 'winapi', 'google-maps', 'vb.net', 'git', 'jquery-mobile', 'tomcat', 'database-design', 'calculus', 'wcf', 'permissions', 'database', 'flex', 'class', 'linux', 'objective-c', 'validation', 'url', 'asp.net', 'jquery-ui', 'image', 'windows-phone-7', 'google-app-engine', 'osx', 'dns', 'qt', '.htaccess', 'query', 'magento', 'object', 'pdf', 'postgresql', 'function', 'uitableview', 'parsing', 'memory', 'math', 'c#', 'ssl', 'xaml', 'testing', 'excel', 'entity-framework', 'sql', 'ruby', 'opengl', 'mod-rewrite', 'caching', 'visual-studio-2008', 'rest', 'shell', 'mongodb', 'listview', 'windows-server-2008', 'jquery-ajax', 'gui', 'c#-4.0', 'arrays', 'flash', 'internet-explorer', 'variables', 'actionscript-3', 'oracle', 'forms', 'windows-7', 'html', 'google', 'xml', 'oop', 'linq', 'cocoa', 'search', 'linear-algebra', 'jsf', 'plugins', 'api', 'templates', 'python', 'hibernate', 'json', 'xcode', 'swing', 'windows-xp', 'web-applications', 'css', 'firefox', 'unit-testing', 'sql-server-2008', 'datetime', 'sql-server-2005', 'ruby-on-rails', 'homework', 'authentication', 'sorting', 'ruby-on-rails-3', 'visual-studio', 'date', 'ubuntu', 'design', 'string', 'file', 'regex', 'codeigniter', 'silverlight', 'facebook-graph-api', 'maven', 'android-layout', 'xslt', 'haskell', 'asp.net-mvc-3', 'vba', 'nhibernate', 'ssh', 'email', 'unix', 'ios', 'security', 'command-line', 'grails', 'css3', 'events', 'design-patterns', 'animation', 'core-data', 'scala', 'video', 'audio', 'php', 'cocoa-touch', 'list', 'loops'}\n"
          ],
          "name": "stdout"
        }
      ]
    },
    {
      "cell_type": "markdown",
      "metadata": {
        "id": "a-ovU2tWxbE5",
        "colab_type": "text"
      },
      "source": [
        "\n",
        "### 4.6: Storing Indices of the Rows which Contain Frequent Tags\n",
        "\n",
        " - We store the Indices of the data points which contain the most frequent tags.\n",
        " - We do this by comparing Tags of each data point and storing the data point's index into Sample_Index.\n"
      ]
    },
    {
      "cell_type": "code",
      "metadata": {
        "id": "2VTMhGXkdLHX",
        "colab_type": "code",
        "colab": {}
      },
      "source": [
        "Sample_Index = []\n",
        "for data in range(0,df.shape[0]):\n",
        "  tags = set(df[\"Tags\"][data].split())\n",
        "  if tags.issubset(Freq_tags):\n",
        "    Sample_Index.append(data)"
      ],
      "execution_count": 0,
      "outputs": []
    },
    {
      "cell_type": "code",
      "metadata": {
        "id": "VbyZIVMP-2VB",
        "colab_type": "code",
        "outputId": "6a990fca-9786-4a39-8969-69212248e03b",
        "colab": {
          "base_uri": "https://localhost:8080/",
          "height": 34
        }
      },
      "source": [
        "print(\"Number of Rows which contain Frequent Tags\",len(Sample_Index))"
      ],
      "execution_count": 0,
      "outputs": [
        {
          "output_type": "stream",
          "text": [
            "Number of Rows which contain Frequent Tags 927034\n"
          ],
          "name": "stdout"
        }
      ]
    },
    {
      "cell_type": "markdown",
      "metadata": {
        "id": "WM5537b3yqfW",
        "colab_type": "text"
      },
      "source": [
        "\n",
        "###  Randomly Choosing Indices with Frequent Tags\n",
        "\n",
        " - Sample_Index now contains indices of *927034* data points.\n",
        " - So we choose *700000* random data points out of those.\n"
      ]
    },
    {
      "cell_type": "code",
      "metadata": {
        "id": "ObAGaL36eXYT",
        "colab_type": "code",
        "colab": {}
      },
      "source": [
        "Pre_index = random.sample(Sample_Index,k = 700000)"
      ],
      "execution_count": 0,
      "outputs": []
    },
    {
      "cell_type": "markdown",
      "metadata": {
        "id": "4pIUuE5vy_64",
        "colab_type": "text"
      },
      "source": [
        "\n",
        "### 4.7: Choosing Data with the above Randomly Chosen Indices\n",
        "\n",
        " - Now we select the data points which match the indices in the above randomly fetched indices which have frequent tags.\n",
        " - Using iloc(..) function present in pandas Library.\n",
        " - Then, we reset the indices and drop the unwanted \"index\" column.\n"
      ]
    },
    {
      "cell_type": "code",
      "metadata": {
        "id": "Lt1h04VFfGML",
        "colab_type": "code",
        "colab": {}
      },
      "source": [
        "df_Final = df.iloc[Pre_index, :]"
      ],
      "execution_count": 0,
      "outputs": []
    },
    {
      "cell_type": "code",
      "metadata": {
        "id": "vpv2agl4mI55",
        "colab_type": "code",
        "outputId": "b85f0aa4-c9d9-439a-c787-035aed6e42e2",
        "colab": {
          "base_uri": "https://localhost:8080/",
          "height": 195
        }
      },
      "source": [
        "df_Final.head()"
      ],
      "execution_count": 0,
      "outputs": [
        {
          "output_type": "execute_result",
          "data": {
            "text/html": [
              "<div>\n",
              "<style scoped>\n",
              "    .dataframe tbody tr th:only-of-type {\n",
              "        vertical-align: middle;\n",
              "    }\n",
              "\n",
              "    .dataframe tbody tr th {\n",
              "        vertical-align: top;\n",
              "    }\n",
              "\n",
              "    .dataframe thead th {\n",
              "        text-align: right;\n",
              "    }\n",
              "</style>\n",
              "<table border=\"1\" class=\"dataframe\">\n",
              "  <thead>\n",
              "    <tr style=\"text-align: right;\">\n",
              "      <th></th>\n",
              "      <th>index</th>\n",
              "      <th>Title</th>\n",
              "      <th>Body</th>\n",
              "      <th>Tags</th>\n",
              "    </tr>\n",
              "  </thead>\n",
              "  <tbody>\n",
              "    <tr>\n",
              "      <th>449047</th>\n",
              "      <td>461556</td>\n",
              "      <td>Getting a word predecent a regular expression ...</td>\n",
              "      <td>&lt;p&gt;I want to evaluate an expression similar to...</td>\n",
              "      <td>regex</td>\n",
              "    </tr>\n",
              "    <tr>\n",
              "      <th>3706205</th>\n",
              "      <td>5062026</td>\n",
              "      <td>Previous link remain not highlighted</td>\n",
              "      <td>&lt;p&gt;I am using an sqlite database in my app. Th...</td>\n",
              "      <td>iphone ios</td>\n",
              "    </tr>\n",
              "    <tr>\n",
              "      <th>2308466</th>\n",
              "      <td>2724499</td>\n",
              "      <td>Numberguessing class and client</td>\n",
              "      <td>&lt;p&gt;I am trying to code a number guessing class...</td>\n",
              "      <td>java homework</td>\n",
              "    </tr>\n",
              "    <tr>\n",
              "      <th>1144782</th>\n",
              "      <td>1232871</td>\n",
              "      <td>Why do reads in MongoDB sometimes wait for lock?</td>\n",
              "      <td>&lt;p&gt;While using db.currentOp(), I sometimes see...</td>\n",
              "      <td>mongodb</td>\n",
              "    </tr>\n",
              "    <tr>\n",
              "      <th>2820083</th>\n",
              "      <td>3490910</td>\n",
              "      <td>How can i send just two parameters to a web se...</td>\n",
              "      <td>&lt;p&gt;The application is based on GPS tracking wh...</td>\n",
              "      <td>java android xml json</td>\n",
              "    </tr>\n",
              "  </tbody>\n",
              "</table>\n",
              "</div>"
            ],
            "text/plain": [
              "           index  ...                   Tags\n",
              "449047    461556  ...                  regex\n",
              "3706205  5062026  ...             iphone ios\n",
              "2308466  2724499  ...          java homework\n",
              "1144782  1232871  ...                mongodb\n",
              "2820083  3490910  ...  java android xml json\n",
              "\n",
              "[5 rows x 4 columns]"
            ]
          },
          "metadata": {
            "tags": []
          },
          "execution_count": 20
        }
      ]
    },
    {
      "cell_type": "code",
      "metadata": {
        "id": "5YCd6COXkPwt",
        "colab_type": "code",
        "colab": {}
      },
      "source": [
        "df_Final.reset_index(inplace=True)"
      ],
      "execution_count": 0,
      "outputs": []
    },
    {
      "cell_type": "code",
      "metadata": {
        "id": "Q3LhYjtFkd2m",
        "colab_type": "code",
        "outputId": "9c4999fd-6214-49f8-d39e-f4f4544ef2f5",
        "colab": {
          "base_uri": "https://localhost:8080/",
          "height": 121
        }
      },
      "source": [
        "df_Final.drop(columns = ['level_0','index'],inplace = True)"
      ],
      "execution_count": 0,
      "outputs": [
        {
          "output_type": "stream",
          "text": [
            "/usr/local/lib/python3.6/dist-packages/pandas/core/frame.py:3940: SettingWithCopyWarning: \n",
            "A value is trying to be set on a copy of a slice from a DataFrame\n",
            "\n",
            "See the caveats in the documentation: http://pandas.pydata.org/pandas-docs/stable/indexing.html#indexing-view-versus-copy\n",
            "  errors=errors)\n"
          ],
          "name": "stderr"
        }
      ]
    },
    {
      "cell_type": "code",
      "metadata": {
        "id": "51Y6_i4zkjyf",
        "colab_type": "code",
        "outputId": "41108f8c-48e7-4910-f3b2-389e18ed69e3",
        "colab": {
          "base_uri": "https://localhost:8080/",
          "height": 195
        }
      },
      "source": [
        "df_Final.head()"
      ],
      "execution_count": 0,
      "outputs": [
        {
          "output_type": "execute_result",
          "data": {
            "text/html": [
              "<div>\n",
              "<style scoped>\n",
              "    .dataframe tbody tr th:only-of-type {\n",
              "        vertical-align: middle;\n",
              "    }\n",
              "\n",
              "    .dataframe tbody tr th {\n",
              "        vertical-align: top;\n",
              "    }\n",
              "\n",
              "    .dataframe thead th {\n",
              "        text-align: right;\n",
              "    }\n",
              "</style>\n",
              "<table border=\"1\" class=\"dataframe\">\n",
              "  <thead>\n",
              "    <tr style=\"text-align: right;\">\n",
              "      <th></th>\n",
              "      <th>Title</th>\n",
              "      <th>Body</th>\n",
              "      <th>Tags</th>\n",
              "    </tr>\n",
              "  </thead>\n",
              "  <tbody>\n",
              "    <tr>\n",
              "      <th>0</th>\n",
              "      <td>Getting a word predecent a regular expression ...</td>\n",
              "      <td>&lt;p&gt;I want to evaluate an expression similar to...</td>\n",
              "      <td>regex</td>\n",
              "    </tr>\n",
              "    <tr>\n",
              "      <th>1</th>\n",
              "      <td>Previous link remain not highlighted</td>\n",
              "      <td>&lt;p&gt;I am using an sqlite database in my app. Th...</td>\n",
              "      <td>iphone ios</td>\n",
              "    </tr>\n",
              "    <tr>\n",
              "      <th>2</th>\n",
              "      <td>Numberguessing class and client</td>\n",
              "      <td>&lt;p&gt;I am trying to code a number guessing class...</td>\n",
              "      <td>java homework</td>\n",
              "    </tr>\n",
              "    <tr>\n",
              "      <th>3</th>\n",
              "      <td>Why do reads in MongoDB sometimes wait for lock?</td>\n",
              "      <td>&lt;p&gt;While using db.currentOp(), I sometimes see...</td>\n",
              "      <td>mongodb</td>\n",
              "    </tr>\n",
              "    <tr>\n",
              "      <th>4</th>\n",
              "      <td>How can i send just two parameters to a web se...</td>\n",
              "      <td>&lt;p&gt;The application is based on GPS tracking wh...</td>\n",
              "      <td>java android xml json</td>\n",
              "    </tr>\n",
              "  </tbody>\n",
              "</table>\n",
              "</div>"
            ],
            "text/plain": [
              "                                               Title  ...                   Tags\n",
              "0  Getting a word predecent a regular expression ...  ...                  regex\n",
              "1               Previous link remain not highlighted  ...             iphone ios\n",
              "2                    Numberguessing class and client  ...          java homework\n",
              "3   Why do reads in MongoDB sometimes wait for lock?  ...                mongodb\n",
              "4  How can i send just two parameters to a web se...  ...  java android xml json\n",
              "\n",
              "[5 rows x 3 columns]"
            ]
          },
          "metadata": {
            "tags": []
          },
          "execution_count": 23
        }
      ]
    },
    {
      "cell_type": "markdown",
      "metadata": {
        "id": "uQc8oy1Z0dNX",
        "colab_type": "text"
      },
      "source": [
        "\n",
        "### 4.8: Separating Tags in a row\n",
        "\n",
        " - We separate space separated tags in each data point to comma spearated.\n",
        " > Example: [c++ clion array] now becomes [c++, clion, array]\n",
        "\n",
        "\n"
      ]
    },
    {
      "cell_type": "code",
      "metadata": {
        "id": "GF0WU0EVgZPy",
        "colab_type": "code",
        "outputId": "227e9a50-dd66-4d56-9474-7ef87c4b89f0",
        "colab": {
          "base_uri": "https://localhost:8080/",
          "height": 134
        }
      },
      "source": [
        "Tags_Sep = []\n",
        "for tags in range(0,df_Final.shape[0]):\n",
        "  Tags_Sep.append(df_Final['Tags'][tags].replace(\" \",\",\"))\n",
        "  if tags % 100000 == 0:\n",
        "    print(tags)\n",
        "tags_split = [Tags.split(\",\") for Tags in Tags_Sep]"
      ],
      "execution_count": 0,
      "outputs": [
        {
          "output_type": "stream",
          "text": [
            "0\n",
            "100000\n",
            "200000\n",
            "300000\n",
            "400000\n",
            "500000\n",
            "600000\n"
          ],
          "name": "stdout"
        }
      ]
    },
    {
      "cell_type": "code",
      "metadata": {
        "id": "isZPv6bwimrE",
        "colab_type": "code",
        "outputId": "4e75cbbb-4f44-48cd-a8d4-81dd2f156e4c",
        "colab": {
          "base_uri": "https://localhost:8080/",
          "height": 154
        }
      },
      "source": [
        "df_Final[\"Tags\"] = Tags_Sep\n",
        "Tags_Sep.clear"
      ],
      "execution_count": 0,
      "outputs": [
        {
          "output_type": "stream",
          "text": [
            "/usr/local/lib/python3.6/dist-packages/ipykernel_launcher.py:1: SettingWithCopyWarning: \n",
            "A value is trying to be set on a copy of a slice from a DataFrame.\n",
            "Try using .loc[row_indexer,col_indexer] = value instead\n",
            "\n",
            "See the caveats in the documentation: http://pandas.pydata.org/pandas-docs/stable/indexing.html#indexing-view-versus-copy\n",
            "  \"\"\"Entry point for launching an IPython kernel.\n"
          ],
          "name": "stderr"
        },
        {
          "output_type": "execute_result",
          "data": {
            "text/plain": [
              "<function list.clear>"
            ]
          },
          "metadata": {
            "tags": []
          },
          "execution_count": 25
        }
      ]
    },
    {
      "cell_type": "code",
      "metadata": {
        "id": "86aSYsdzn1PR",
        "colab_type": "code",
        "outputId": "f5a6f089-f649-41f8-a857-b1e6b6fe3f1f",
        "colab": {
          "base_uri": "https://localhost:8080/",
          "height": 195
        }
      },
      "source": [
        "df_Final.head()"
      ],
      "execution_count": 0,
      "outputs": [
        {
          "output_type": "execute_result",
          "data": {
            "text/html": [
              "<div>\n",
              "<style scoped>\n",
              "    .dataframe tbody tr th:only-of-type {\n",
              "        vertical-align: middle;\n",
              "    }\n",
              "\n",
              "    .dataframe tbody tr th {\n",
              "        vertical-align: top;\n",
              "    }\n",
              "\n",
              "    .dataframe thead th {\n",
              "        text-align: right;\n",
              "    }\n",
              "</style>\n",
              "<table border=\"1\" class=\"dataframe\">\n",
              "  <thead>\n",
              "    <tr style=\"text-align: right;\">\n",
              "      <th></th>\n",
              "      <th>Title</th>\n",
              "      <th>Body</th>\n",
              "      <th>Tags</th>\n",
              "    </tr>\n",
              "  </thead>\n",
              "  <tbody>\n",
              "    <tr>\n",
              "      <th>0</th>\n",
              "      <td>Getting a word predecent a regular expression ...</td>\n",
              "      <td>&lt;p&gt;I want to evaluate an expression similar to...</td>\n",
              "      <td>regex</td>\n",
              "    </tr>\n",
              "    <tr>\n",
              "      <th>1</th>\n",
              "      <td>Previous link remain not highlighted</td>\n",
              "      <td>&lt;p&gt;I am using an sqlite database in my app. Th...</td>\n",
              "      <td>iphone,ios</td>\n",
              "    </tr>\n",
              "    <tr>\n",
              "      <th>2</th>\n",
              "      <td>Numberguessing class and client</td>\n",
              "      <td>&lt;p&gt;I am trying to code a number guessing class...</td>\n",
              "      <td>java,homework</td>\n",
              "    </tr>\n",
              "    <tr>\n",
              "      <th>3</th>\n",
              "      <td>Why do reads in MongoDB sometimes wait for lock?</td>\n",
              "      <td>&lt;p&gt;While using db.currentOp(), I sometimes see...</td>\n",
              "      <td>mongodb</td>\n",
              "    </tr>\n",
              "    <tr>\n",
              "      <th>4</th>\n",
              "      <td>How can i send just two parameters to a web se...</td>\n",
              "      <td>&lt;p&gt;The application is based on GPS tracking wh...</td>\n",
              "      <td>java,android,xml,json</td>\n",
              "    </tr>\n",
              "  </tbody>\n",
              "</table>\n",
              "</div>"
            ],
            "text/plain": [
              "                                               Title  ...                   Tags\n",
              "0  Getting a word predecent a regular expression ...  ...                  regex\n",
              "1               Previous link remain not highlighted  ...             iphone,ios\n",
              "2                    Numberguessing class and client  ...          java,homework\n",
              "3   Why do reads in MongoDB sometimes wait for lock?  ...                mongodb\n",
              "4  How can i send just two parameters to a web se...  ...  java,android,xml,json\n",
              "\n",
              "[5 rows x 3 columns]"
            ]
          },
          "metadata": {
            "tags": []
          },
          "execution_count": 26
        }
      ]
    },
    {
      "cell_type": "markdown",
      "metadata": {
        "id": "cVtWZFYH0s5x",
        "colab_type": "text"
      },
      "source": [
        "\n",
        "### 4.9: Removing Html Tags From the Body Column\n",
        "\n",
        " - Html Tags are removed as they add too much noise to the data and can make model to perform abruptly\n",
        " - Removed using 're' function.\n"
      ]
    },
    {
      "cell_type": "code",
      "metadata": {
        "id": "mJy8ureqtE4a",
        "colab_type": "code",
        "colab": {}
      },
      "source": [
        "import re\n",
        "\n",
        "def cleanhtml(raw_html):\n",
        "  cleanr = re.compile('<.*?>|&([a-z0-9]+|#[0-9]{1,6}|#x[0-9a-f]{1,6});')\n",
        "  cleantext = re.sub(cleanr, '', raw_html)\n",
        "  return cleantext"
      ],
      "execution_count": 0,
      "outputs": []
    },
    {
      "cell_type": "code",
      "metadata": {
        "id": "r4j91Yhptxxu",
        "colab_type": "code",
        "outputId": "3d1220af-82be-4d46-9008-49322b8184a9",
        "colab": {
          "base_uri": "https://localhost:8080/",
          "height": 474
        }
      },
      "source": [
        "Body_Final = []\n",
        "Title_Final = []\n",
        "Tags_Final = []\n",
        "for b in range(0,df_Final.shape[0]):\n",
        "    Title_Final.append(cleanhtml(df_Final[\"Title\"][b].lower()))\n",
        "    Tags_Final.append(cleanhtml(df_Final[\"Tags\"][b].lower()))\n",
        "    Body_Final.append(cleanhtml(df_Final[\"Body\"][b].lower()))\n",
        "    if b % 100000 == 0:\n",
        "      print(b)\n",
        "df_Final[\"Body\"] = Body_Final\n",
        "df_Final[\"Tags\"] = Tags_Final\n",
        "df_Final[\"Title\"] = Title_Final\n",
        "Body_Final.clear\n",
        "Title_Final.clear\n",
        "Tags_Final.clear"
      ],
      "execution_count": 0,
      "outputs": [
        {
          "output_type": "stream",
          "text": [
            "0\n",
            "100000\n",
            "200000\n",
            "300000\n",
            "400000\n",
            "500000\n",
            "600000\n"
          ],
          "name": "stdout"
        },
        {
          "output_type": "stream",
          "text": [
            "/usr/local/lib/python3.6/dist-packages/ipykernel_launcher.py:10: SettingWithCopyWarning: \n",
            "A value is trying to be set on a copy of a slice from a DataFrame.\n",
            "Try using .loc[row_indexer,col_indexer] = value instead\n",
            "\n",
            "See the caveats in the documentation: http://pandas.pydata.org/pandas-docs/stable/indexing.html#indexing-view-versus-copy\n",
            "  # Remove the CWD from sys.path while we load stuff.\n",
            "/usr/local/lib/python3.6/dist-packages/ipykernel_launcher.py:11: SettingWithCopyWarning: \n",
            "A value is trying to be set on a copy of a slice from a DataFrame.\n",
            "Try using .loc[row_indexer,col_indexer] = value instead\n",
            "\n",
            "See the caveats in the documentation: http://pandas.pydata.org/pandas-docs/stable/indexing.html#indexing-view-versus-copy\n",
            "  # This is added back by InteractiveShellApp.init_path()\n",
            "/usr/local/lib/python3.6/dist-packages/ipykernel_launcher.py:12: SettingWithCopyWarning: \n",
            "A value is trying to be set on a copy of a slice from a DataFrame.\n",
            "Try using .loc[row_indexer,col_indexer] = value instead\n",
            "\n",
            "See the caveats in the documentation: http://pandas.pydata.org/pandas-docs/stable/indexing.html#indexing-view-versus-copy\n",
            "  if sys.path[0] == '':\n"
          ],
          "name": "stderr"
        },
        {
          "output_type": "execute_result",
          "data": {
            "text/plain": [
              "<function list.clear>"
            ]
          },
          "metadata": {
            "tags": []
          },
          "execution_count": 28
        }
      ]
    },
    {
      "cell_type": "code",
      "metadata": {
        "id": "gNqcsB7O4lkD",
        "colab_type": "code",
        "outputId": "ff4d61be-23ed-4c5a-a1bd-0d96db5d5ad4",
        "colab": {
          "base_uri": "https://localhost:8080/",
          "height": 195
        }
      },
      "source": [
        "df_Final.head()"
      ],
      "execution_count": 0,
      "outputs": [
        {
          "output_type": "execute_result",
          "data": {
            "text/html": [
              "<div>\n",
              "<style scoped>\n",
              "    .dataframe tbody tr th:only-of-type {\n",
              "        vertical-align: middle;\n",
              "    }\n",
              "\n",
              "    .dataframe tbody tr th {\n",
              "        vertical-align: top;\n",
              "    }\n",
              "\n",
              "    .dataframe thead th {\n",
              "        text-align: right;\n",
              "    }\n",
              "</style>\n",
              "<table border=\"1\" class=\"dataframe\">\n",
              "  <thead>\n",
              "    <tr style=\"text-align: right;\">\n",
              "      <th></th>\n",
              "      <th>Title</th>\n",
              "      <th>Body</th>\n",
              "      <th>Tags</th>\n",
              "    </tr>\n",
              "  </thead>\n",
              "  <tbody>\n",
              "    <tr>\n",
              "      <th>0</th>\n",
              "      <td>getting a word predecent a regular expression ...</td>\n",
              "      <td>i want to evaluate an expression similar to th...</td>\n",
              "      <td>regex</td>\n",
              "    </tr>\n",
              "    <tr>\n",
              "      <th>1</th>\n",
              "      <td>previous link remain not highlighted</td>\n",
              "      <td>i am using an sqlite database in my app. the a...</td>\n",
              "      <td>iphone,ios</td>\n",
              "    </tr>\n",
              "    <tr>\n",
              "      <th>2</th>\n",
              "      <td>numberguessing class and client</td>\n",
              "      <td>i am trying to code a number guessing class an...</td>\n",
              "      <td>java,homework</td>\n",
              "    </tr>\n",
              "    <tr>\n",
              "      <th>3</th>\n",
              "      <td>why do reads in mongodb sometimes wait for lock?</td>\n",
              "      <td>while using db.currentop(), i sometimes see op...</td>\n",
              "      <td>mongodb</td>\n",
              "    </tr>\n",
              "    <tr>\n",
              "      <th>4</th>\n",
              "      <td>how can i send just two parameters to a web se...</td>\n",
              "      <td>the application is based on gps tracking where...</td>\n",
              "      <td>java,android,xml,json</td>\n",
              "    </tr>\n",
              "  </tbody>\n",
              "</table>\n",
              "</div>"
            ],
            "text/plain": [
              "                                               Title  ...                   Tags\n",
              "0  getting a word predecent a regular expression ...  ...                  regex\n",
              "1               previous link remain not highlighted  ...             iphone,ios\n",
              "2                    numberguessing class and client  ...          java,homework\n",
              "3   why do reads in mongodb sometimes wait for lock?  ...                mongodb\n",
              "4  how can i send just two parameters to a web se...  ...  java,android,xml,json\n",
              "\n",
              "[5 rows x 3 columns]"
            ]
          },
          "metadata": {
            "tags": []
          },
          "execution_count": 29
        }
      ]
    },
    {
      "cell_type": "markdown",
      "metadata": {
        "id": "z1TRGIvm1Dte",
        "colab_type": "text"
      },
      "source": [
        "\n",
        "### 4.10: Concatenating Title And Body Into One Column\n",
        "\n",
        " - Joining both \"Title\" and \"Body\" Columns of every data point to form a single Column.\n",
        " - Also converting them to lowercase to maintain uniformity.\n"
      ]
    },
    {
      "cell_type": "code",
      "metadata": {
        "id": "sfMXXXwbC3pq",
        "colab_type": "code",
        "outputId": "4bd72251-b6bf-4b5e-a5f4-f03ff57b8acb",
        "colab": {
          "base_uri": "https://localhost:8080/",
          "height": 272
        }
      },
      "source": [
        "Body_Final = []\n",
        "for b in range(0,df_Final.shape[0]):\n",
        "    Body_Final.append(cleanhtml(df_Final[\"Title\"][b].lower()) + \" \" + df_Final[\"Body\"][b].lower())\n",
        "    if b % 100000 == 0:\n",
        "      print(b)\n",
        "df_Final[\"Body\"] = Body_Final\n",
        "Body_Final.clear"
      ],
      "execution_count": 0,
      "outputs": [
        {
          "output_type": "stream",
          "text": [
            "0\n",
            "100000\n",
            "200000\n",
            "300000\n",
            "400000\n",
            "500000\n",
            "600000\n"
          ],
          "name": "stdout"
        },
        {
          "output_type": "stream",
          "text": [
            "/usr/local/lib/python3.6/dist-packages/ipykernel_launcher.py:6: SettingWithCopyWarning: \n",
            "A value is trying to be set on a copy of a slice from a DataFrame.\n",
            "Try using .loc[row_indexer,col_indexer] = value instead\n",
            "\n",
            "See the caveats in the documentation: http://pandas.pydata.org/pandas-docs/stable/indexing.html#indexing-view-versus-copy\n",
            "  \n"
          ],
          "name": "stderr"
        },
        {
          "output_type": "execute_result",
          "data": {
            "text/plain": [
              "<function list.clear>"
            ]
          },
          "metadata": {
            "tags": []
          },
          "execution_count": 30
        }
      ]
    },
    {
      "cell_type": "code",
      "metadata": {
        "id": "J_dSjNgkN7EU",
        "colab_type": "code",
        "outputId": "45c99e6a-21d7-4640-8b50-afe9bed43dda",
        "colab": {
          "base_uri": "https://localhost:8080/",
          "height": 195
        }
      },
      "source": [
        "df_Final.head()"
      ],
      "execution_count": 0,
      "outputs": [
        {
          "output_type": "execute_result",
          "data": {
            "text/html": [
              "<div>\n",
              "<style scoped>\n",
              "    .dataframe tbody tr th:only-of-type {\n",
              "        vertical-align: middle;\n",
              "    }\n",
              "\n",
              "    .dataframe tbody tr th {\n",
              "        vertical-align: top;\n",
              "    }\n",
              "\n",
              "    .dataframe thead th {\n",
              "        text-align: right;\n",
              "    }\n",
              "</style>\n",
              "<table border=\"1\" class=\"dataframe\">\n",
              "  <thead>\n",
              "    <tr style=\"text-align: right;\">\n",
              "      <th></th>\n",
              "      <th>Title</th>\n",
              "      <th>Body</th>\n",
              "      <th>Tags</th>\n",
              "    </tr>\n",
              "  </thead>\n",
              "  <tbody>\n",
              "    <tr>\n",
              "      <th>0</th>\n",
              "      <td>getting a word predecent a regular expression ...</td>\n",
              "      <td>getting a word predecent a regular expression ...</td>\n",
              "      <td>regex</td>\n",
              "    </tr>\n",
              "    <tr>\n",
              "      <th>1</th>\n",
              "      <td>previous link remain not highlighted</td>\n",
              "      <td>previous link remain not highlighted i am usin...</td>\n",
              "      <td>iphone,ios</td>\n",
              "    </tr>\n",
              "    <tr>\n",
              "      <th>2</th>\n",
              "      <td>numberguessing class and client</td>\n",
              "      <td>numberguessing class and client i am trying to...</td>\n",
              "      <td>java,homework</td>\n",
              "    </tr>\n",
              "    <tr>\n",
              "      <th>3</th>\n",
              "      <td>why do reads in mongodb sometimes wait for lock?</td>\n",
              "      <td>why do reads in mongodb sometimes wait for loc...</td>\n",
              "      <td>mongodb</td>\n",
              "    </tr>\n",
              "    <tr>\n",
              "      <th>4</th>\n",
              "      <td>how can i send just two parameters to a web se...</td>\n",
              "      <td>how can i send just two parameters to a web se...</td>\n",
              "      <td>java,android,xml,json</td>\n",
              "    </tr>\n",
              "  </tbody>\n",
              "</table>\n",
              "</div>"
            ],
            "text/plain": [
              "                                               Title  ...                   Tags\n",
              "0  getting a word predecent a regular expression ...  ...                  regex\n",
              "1               previous link remain not highlighted  ...             iphone,ios\n",
              "2                    numberguessing class and client  ...          java,homework\n",
              "3   why do reads in mongodb sometimes wait for lock?  ...                mongodb\n",
              "4  how can i send just two parameters to a web se...  ...  java,android,xml,json\n",
              "\n",
              "[5 rows x 3 columns]"
            ]
          },
          "metadata": {
            "tags": []
          },
          "execution_count": 31
        }
      ]
    },
    {
      "cell_type": "code",
      "metadata": {
        "id": "df_rZZOjN9UX",
        "colab_type": "code",
        "outputId": "7aaaf70d-8e18-43ac-ec7e-cea23d3642e9",
        "colab": {
          "base_uri": "https://localhost:8080/",
          "height": 121
        }
      },
      "source": [
        "df_Final.drop(columns= 'Title',inplace = True)"
      ],
      "execution_count": 0,
      "outputs": [
        {
          "output_type": "stream",
          "text": [
            "/usr/local/lib/python3.6/dist-packages/pandas/core/frame.py:3940: SettingWithCopyWarning: \n",
            "A value is trying to be set on a copy of a slice from a DataFrame\n",
            "\n",
            "See the caveats in the documentation: http://pandas.pydata.org/pandas-docs/stable/indexing.html#indexing-view-versus-copy\n",
            "  errors=errors)\n"
          ],
          "name": "stderr"
        }
      ]
    },
    {
      "cell_type": "code",
      "metadata": {
        "id": "oyak7WHAznHR",
        "colab_type": "code",
        "outputId": "b5085692-46c8-4689-b702-90ead7eda7ff",
        "colab": {
          "base_uri": "https://localhost:8080/",
          "height": 195
        }
      },
      "source": [
        "df_Final.head()"
      ],
      "execution_count": 0,
      "outputs": [
        {
          "output_type": "execute_result",
          "data": {
            "text/html": [
              "<div>\n",
              "<style scoped>\n",
              "    .dataframe tbody tr th:only-of-type {\n",
              "        vertical-align: middle;\n",
              "    }\n",
              "\n",
              "    .dataframe tbody tr th {\n",
              "        vertical-align: top;\n",
              "    }\n",
              "\n",
              "    .dataframe thead th {\n",
              "        text-align: right;\n",
              "    }\n",
              "</style>\n",
              "<table border=\"1\" class=\"dataframe\">\n",
              "  <thead>\n",
              "    <tr style=\"text-align: right;\">\n",
              "      <th></th>\n",
              "      <th>Body</th>\n",
              "      <th>Tags</th>\n",
              "    </tr>\n",
              "  </thead>\n",
              "  <tbody>\n",
              "    <tr>\n",
              "      <th>0</th>\n",
              "      <td>getting a word predecent a regular expression ...</td>\n",
              "      <td>regex</td>\n",
              "    </tr>\n",
              "    <tr>\n",
              "      <th>1</th>\n",
              "      <td>previous link remain not highlighted i am usin...</td>\n",
              "      <td>iphone,ios</td>\n",
              "    </tr>\n",
              "    <tr>\n",
              "      <th>2</th>\n",
              "      <td>numberguessing class and client i am trying to...</td>\n",
              "      <td>java,homework</td>\n",
              "    </tr>\n",
              "    <tr>\n",
              "      <th>3</th>\n",
              "      <td>why do reads in mongodb sometimes wait for loc...</td>\n",
              "      <td>mongodb</td>\n",
              "    </tr>\n",
              "    <tr>\n",
              "      <th>4</th>\n",
              "      <td>how can i send just two parameters to a web se...</td>\n",
              "      <td>java,android,xml,json</td>\n",
              "    </tr>\n",
              "  </tbody>\n",
              "</table>\n",
              "</div>"
            ],
            "text/plain": [
              "                                                Body                   Tags\n",
              "0  getting a word predecent a regular expression ...                  regex\n",
              "1  previous link remain not highlighted i am usin...             iphone,ios\n",
              "2  numberguessing class and client i am trying to...          java,homework\n",
              "3  why do reads in mongodb sometimes wait for loc...                mongodb\n",
              "4  how can i send just two parameters to a web se...  java,android,xml,json"
            ]
          },
          "metadata": {
            "tags": []
          },
          "execution_count": 33
        }
      ]
    },
    {
      "cell_type": "markdown",
      "metadata": {
        "id": "GeXSJDEB1oIa",
        "colab_type": "text"
      },
      "source": [
        "\n",
        "### 4.11: Removing Stop Words and Frequent Tags from The Body Column\n",
        "\n",
        " - Removing words such as I, am, he, was, .... from the \"Body\" of each data point as it adds noise and can cause model to overfit.\n",
        " - We also remove the frequent tags so that the model does not closely train on the frequent occurring words.\n",
        " - Also the reason is some Questions have the tags in their question itself but some do not have any tag mentioned in the Question. So to avoid this, we remove stopwords and frequent tags also.\n",
        " - Using NLTK Library and its Tokenizer and StopWords.\n"
      ]
    },
    {
      "cell_type": "code",
      "metadata": {
        "id": "-xKWBbys9Olr",
        "colab_type": "code",
        "outputId": "ae2055de-e82b-42cd-d715-77c4bfc9b0ba",
        "colab": {
          "base_uri": "https://localhost:8080/",
          "height": 134
        }
      },
      "source": [
        "from nltk.corpus import stopwords\n",
        "from nltk.tokenize import word_tokenize\n",
        "\n",
        "alphabets = {'a','b','c','d','e','f','g','h','i','j','k','l','m','n','o','p','q','r','s','t','u','v','w','x','y','z','[',']','{','}','?','.'}\n",
        "\n",
        "stop_words = set(stopwords.words('english'))\n",
        "\n",
        "stop_words = stop_words.union(Freq_tags)\n",
        "\n",
        "stop_words = stop_words.union(alphabets)\n",
        "\n",
        "Body_Final = []\n",
        "#print(stop_words)\n",
        "\n",
        "for b in range(0,df_Final.shape[0]):\n",
        "    word_tokens = word_tokenize(df_Final[\"Body\"][b])\n",
        "    filtered_sentence = []\n",
        "    filtered_sentence = [w for w in word_tokens if not w in alphabets]\n",
        "    Body_Final.append(\" \".join(filtered_sentence))\n",
        "    if b % 100000 == 0:\n",
        "      print(b)"
      ],
      "execution_count": 0,
      "outputs": [
        {
          "output_type": "stream",
          "text": [
            "0\n",
            "100000\n",
            "200000\n",
            "300000\n",
            "400000\n",
            "500000\n",
            "600000\n"
          ],
          "name": "stdout"
        }
      ]
    },
    {
      "cell_type": "code",
      "metadata": {
        "id": "1R8cVtwBGqBV",
        "colab_type": "code",
        "colab": {}
      },
      "source": [
        "df_Final[\"Body\"] = Body_Final"
      ],
      "execution_count": 0,
      "outputs": []
    },
    {
      "cell_type": "code",
      "metadata": {
        "id": "uBcE3FgHOLqE",
        "colab_type": "code",
        "colab": {}
      },
      "source": [
        "df_Final = shuffle(df_Final, random_state = 40)"
      ],
      "execution_count": 0,
      "outputs": []
    },
    {
      "cell_type": "code",
      "metadata": {
        "id": "U2sLA7hGz7Eu",
        "colab_type": "code",
        "outputId": "b86486a8-d194-4a0a-925d-cf6513f13de8",
        "colab": {
          "base_uri": "https://localhost:8080/",
          "height": 195
        }
      },
      "source": [
        "#df_Final.reset_index(inplace = True)\n",
        "df_Final.drop(columns = ['level_0','index'],inplace = True)\n",
        "df_Final.head()"
      ],
      "execution_count": 0,
      "outputs": [
        {
          "output_type": "execute_result",
          "data": {
            "text/html": [
              "<div>\n",
              "<style scoped>\n",
              "    .dataframe tbody tr th:only-of-type {\n",
              "        vertical-align: middle;\n",
              "    }\n",
              "\n",
              "    .dataframe tbody tr th {\n",
              "        vertical-align: top;\n",
              "    }\n",
              "\n",
              "    .dataframe thead th {\n",
              "        text-align: right;\n",
              "    }\n",
              "</style>\n",
              "<table border=\"1\" class=\"dataframe\">\n",
              "  <thead>\n",
              "    <tr style=\"text-align: right;\">\n",
              "      <th></th>\n",
              "      <th>Body</th>\n",
              "      <th>Tags</th>\n",
              "    </tr>\n",
              "  </thead>\n",
              "  <tbody>\n",
              "    <tr>\n",
              "      <th>0</th>\n",
              "      <td>detect log outs seen , 5 open tabs , `` log ''...</td>\n",
              "      <td>php,facebook</td>\n",
              "    </tr>\n",
              "    <tr>\n",
              "      <th>1</th>\n",
              "      <td>good looking web application developer way cre...</td>\n",
              "      <td>java</td>\n",
              "    </tr>\n",
              "    <tr>\n",
              "      <th>2</th>\n",
              "      <td>get profile 's outlook plugin called xobni rea...</td>\n",
              "      <td>facebook</td>\n",
              "    </tr>\n",
              "    <tr>\n",
              "      <th>3</th>\n",
              "      <td>synchronize data server local made application...</td>\n",
              "      <td>ios,objective-c</td>\n",
              "    </tr>\n",
              "    <tr>\n",
              "      <th>4</th>\n",
              "      <td>get first value comma separated 'm looking qui...</td>\n",
              "      <td>php,arrays</td>\n",
              "    </tr>\n",
              "  </tbody>\n",
              "</table>\n",
              "</div>"
            ],
            "text/plain": [
              "                                                Body             Tags\n",
              "0  detect log outs seen , 5 open tabs , `` log ''...     php,facebook\n",
              "1  good looking web application developer way cre...             java\n",
              "2  get profile 's outlook plugin called xobni rea...         facebook\n",
              "3  synchronize data server local made application...  ios,objective-c\n",
              "4  get first value comma separated 'm looking qui...       php,arrays"
            ]
          },
          "metadata": {
            "tags": []
          },
          "execution_count": 54
        }
      ]
    },
    {
      "cell_type": "code",
      "metadata": {
        "id": "LEwvztpBlCPb",
        "colab_type": "code",
        "outputId": "de00391c-57b1-4d5a-ce1d-12086bb7128d",
        "colab": {
          "base_uri": "https://localhost:8080/",
          "height": 195
        }
      },
      "source": [
        "df_Final.to_csv(\"Train_Processed.csv\", index=False)\n",
        "df_Final.head()"
      ],
      "execution_count": 0,
      "outputs": [
        {
          "output_type": "execute_result",
          "data": {
            "text/html": [
              "<div>\n",
              "<style scoped>\n",
              "    .dataframe tbody tr th:only-of-type {\n",
              "        vertical-align: middle;\n",
              "    }\n",
              "\n",
              "    .dataframe tbody tr th {\n",
              "        vertical-align: top;\n",
              "    }\n",
              "\n",
              "    .dataframe thead th {\n",
              "        text-align: right;\n",
              "    }\n",
              "</style>\n",
              "<table border=\"1\" class=\"dataframe\">\n",
              "  <thead>\n",
              "    <tr style=\"text-align: right;\">\n",
              "      <th></th>\n",
              "      <th>Body</th>\n",
              "      <th>Tags</th>\n",
              "    </tr>\n",
              "  </thead>\n",
              "  <tbody>\n",
              "    <tr>\n",
              "      <th>0</th>\n",
              "      <td>detect log outs seen , 5 open tabs , `` log ''...</td>\n",
              "      <td>php,facebook</td>\n",
              "    </tr>\n",
              "    <tr>\n",
              "      <th>1</th>\n",
              "      <td>good looking web application developer way cre...</td>\n",
              "      <td>java</td>\n",
              "    </tr>\n",
              "    <tr>\n",
              "      <th>2</th>\n",
              "      <td>get profile 's outlook plugin called xobni rea...</td>\n",
              "      <td>facebook</td>\n",
              "    </tr>\n",
              "    <tr>\n",
              "      <th>3</th>\n",
              "      <td>synchronize data server local made application...</td>\n",
              "      <td>ios,objective-c</td>\n",
              "    </tr>\n",
              "    <tr>\n",
              "      <th>4</th>\n",
              "      <td>get first value comma separated 'm looking qui...</td>\n",
              "      <td>php,arrays</td>\n",
              "    </tr>\n",
              "  </tbody>\n",
              "</table>\n",
              "</div>"
            ],
            "text/plain": [
              "                                                Body             Tags\n",
              "0  detect log outs seen , 5 open tabs , `` log ''...     php,facebook\n",
              "1  good looking web application developer way cre...             java\n",
              "2  get profile 's outlook plugin called xobni rea...         facebook\n",
              "3  synchronize data server local made application...  ios,objective-c\n",
              "4  get first value comma separated 'm looking qui...       php,arrays"
            ]
          },
          "metadata": {
            "tags": []
          },
          "execution_count": 55
        }
      ]
    },
    {
      "cell_type": "code",
      "metadata": {
        "id": "0k72VjCLrMYF",
        "colab_type": "code",
        "outputId": "3c3c1038-e8c5-41bd-82fd-c5958840fba6",
        "colab": {
          "base_uri": "https://localhost:8080/",
          "height": 1000
        }
      },
      "source": [
        "df_Final[:-1]\n"
      ],
      "execution_count": 0,
      "outputs": [
        {
          "output_type": "execute_result",
          "data": {
            "text/html": [
              "<div>\n",
              "<style scoped>\n",
              "    .dataframe tbody tr th:only-of-type {\n",
              "        vertical-align: middle;\n",
              "    }\n",
              "\n",
              "    .dataframe tbody tr th {\n",
              "        vertical-align: top;\n",
              "    }\n",
              "\n",
              "    .dataframe thead th {\n",
              "        text-align: right;\n",
              "    }\n",
              "</style>\n",
              "<table border=\"1\" class=\"dataframe\">\n",
              "  <thead>\n",
              "    <tr style=\"text-align: right;\">\n",
              "      <th></th>\n",
              "      <th>Body</th>\n",
              "      <th>Tags</th>\n",
              "    </tr>\n",
              "  </thead>\n",
              "  <tbody>\n",
              "    <tr>\n",
              "      <th>0</th>\n",
              "      <td>detect log outs seen , 5 open tabs , `` log ''...</td>\n",
              "      <td>php,facebook</td>\n",
              "    </tr>\n",
              "    <tr>\n",
              "      <th>1</th>\n",
              "      <td>good looking web application developer way cre...</td>\n",
              "      <td>java</td>\n",
              "    </tr>\n",
              "    <tr>\n",
              "      <th>2</th>\n",
              "      <td>get profile 's outlook plugin called xobni rea...</td>\n",
              "      <td>facebook</td>\n",
              "    </tr>\n",
              "    <tr>\n",
              "      <th>3</th>\n",
              "      <td>synchronize data server local made application...</td>\n",
              "      <td>ios,objective-c</td>\n",
              "    </tr>\n",
              "    <tr>\n",
              "      <th>4</th>\n",
              "      <td>get first value comma separated 'm looking qui...</td>\n",
              "      <td>php,arrays</td>\n",
              "    </tr>\n",
              "    <tr>\n",
              "      <th>5</th>\n",
              "      <td>prevent application freezing - ( void ) test i...</td>\n",
              "      <td>cocoa,osx</td>\n",
              "    </tr>\n",
              "    <tr>\n",
              "      <th>6</th>\n",
              "      <td>able process response getting back , need disp...</td>\n",
              "      <td>jquery,ajax,json</td>\n",
              "    </tr>\n",
              "    <tr>\n",
              "      <th>7</th>\n",
              "      <td># template get panel parent form form created ...</td>\n",
              "      <td>c#,winforms</td>\n",
              "    </tr>\n",
              "    <tr>\n",
              "      <th>8</th>\n",
              "      <td>fix font issue ( hello.html ) like bellow xmln...</td>\n",
              "      <td>html</td>\n",
              "    </tr>\n",
              "    <tr>\n",
              "      <th>9</th>\n",
              "      <td>wrapper method block want use combination meth...</td>\n",
              "      <td>ruby</td>\n",
              "    </tr>\n",
              "    <tr>\n",
              "      <th>10</th>\n",
              "      <td>learn exact version platform code : console.wr...</td>\n",
              "      <td>c#,.net</td>\n",
              "    </tr>\n",
              "    <tr>\n",
              "      <th>11</th>\n",
              "      <td>free system free reports 12318288 total bytes ...</td>\n",
              "      <td>linux,ubuntu,memory</td>\n",
              "    </tr>\n",
              "    <tr>\n",
              "      <th>12</th>\n",
              "      <td>font type tag page : tag want set font-family ...</td>\n",
              "      <td>css,spring,jsp</td>\n",
              "    </tr>\n",
              "    <tr>\n",
              "      <th>13</th>\n",
              "      <td>read line execute line cat js.txt contains pat...</td>\n",
              "      <td>bash</td>\n",
              "    </tr>\n",
              "    <tr>\n",
              "      <th>14</th>\n",
              "      <td>copy type text cell form need setup somebody t...</td>\n",
              "      <td>excel</td>\n",
              "    </tr>\n",
              "    <tr>\n",
              "      <th>15</th>\n",
              "      <td>hear clip playing hear clip playing place snip...</td>\n",
              "      <td>html,html5,audio</td>\n",
              "    </tr>\n",
              "    <tr>\n",
              "      <th>16</th>\n",
              "      <td>finding several consecutive sessions users log...</td>\n",
              "      <td>perl</td>\n",
              "    </tr>\n",
              "    <tr>\n",
              "      <th>17</th>\n",
              "      <td>could resolve property : propertyname : error ...</td>\n",
              "      <td>c#,asp.net-mvc-3,nhibernate</td>\n",
              "    </tr>\n",
              "    <tr>\n",
              "      <th>18</th>\n",
              "      <td>access higher level $ _ pipeline variable nest...</td>\n",
              "      <td>powershell</td>\n",
              "    </tr>\n",
              "    <tr>\n",
              "      <th>19</th>\n",
              "      <td>extract name shared library possible get name/...</td>\n",
              "      <td>c++,linux</td>\n",
              "    </tr>\n",
              "    <tr>\n",
              "      <th>20</th>\n",
              "      <td>select characters group together joins followi...</td>\n",
              "      <td>mysql,sql</td>\n",
              "    </tr>\n",
              "    <tr>\n",
              "      <th>21</th>\n",
              "      <td>using window part unit test code uses get titl...</td>\n",
              "      <td>c++,qt,unit-testing,winapi,gui</td>\n",
              "    </tr>\n",
              "    <tr>\n",
              "      <th>22</th>\n",
              "      <td>possible causes automatically generated delete...</td>\n",
              "      <td>c#,asp.net,sql,database</td>\n",
              "    </tr>\n",
              "    <tr>\n",
              "      <th>23</th>\n",
              "      <td>users login ( rails ) user logs , automaticall...</td>\n",
              "      <td>ruby-on-rails,ruby-on-rails-3,html5</td>\n",
              "    </tr>\n",
              "    <tr>\n",
              "      <th>24</th>\n",
              "      <td>determine runtime application using uinavigati...</td>\n",
              "      <td>iphone,ios,ipad</td>\n",
              "    </tr>\n",
              "    <tr>\n",
              "      <th>25</th>\n",
              "      <td>convert strings like `` example '' `` this-is-...</td>\n",
              "      <td>ruby</td>\n",
              "    </tr>\n",
              "    <tr>\n",
              "      <th>26</th>\n",
              "      <td>rails used ror done features one easier setup</td>\n",
              "      <td>php,ruby-on-rails,spring</td>\n",
              "    </tr>\n",
              "    <tr>\n",
              "      <th>27</th>\n",
              "      <td>ddmmyyyy need convert nvarchar value t-sql val...</td>\n",
              "      <td>sql,sql-server</td>\n",
              "    </tr>\n",
              "    <tr>\n",
              "      <th>28</th>\n",
              "      <td>picture share working nsmutabledictionary *par...</td>\n",
              "      <td>iphone,objective-c,ios,facebook</td>\n",
              "    </tr>\n",
              "    <tr>\n",
              "      <th>29</th>\n",
              "      <td>searching variable directory setting test proc...</td>\n",
              "      <td>python</td>\n",
              "    </tr>\n",
              "    <tr>\n",
              "      <th>...</th>\n",
              "      <td>...</td>\n",
              "      <td>...</td>\n",
              "    </tr>\n",
              "    <tr>\n",
              "      <th>699969</th>\n",
              "      <td>'bad request ' downloading files time recently...</td>\n",
              "      <td>ruby,http</td>\n",
              "    </tr>\n",
              "    <tr>\n",
              "      <th>699970</th>\n",
              "      <td>secure sensitive data client app web service c...</td>\n",
              "      <td>.net,wcf,security</td>\n",
              "    </tr>\n",
              "    <tr>\n",
              "      <th>699971</th>\n",
              "      <td>update records utc time server server ~1000 ta...</td>\n",
              "      <td>sql,sql-server,tsql</td>\n",
              "    </tr>\n",
              "    <tr>\n",
              "      <th>699972</th>\n",
              "      <td>autostart boot 7 wondering way start program b...</td>\n",
              "      <td>windows-7</td>\n",
              "    </tr>\n",
              "    <tr>\n",
              "      <th>699973</th>\n",
              "      <td>nested inheriting styles parent styling top le...</td>\n",
              "      <td>html,css</td>\n",
              "    </tr>\n",
              "    <tr>\n",
              "      <th>699974</th>\n",
              "      <td>scale text view fit n't believe exists , wante...</td>\n",
              "      <td>android</td>\n",
              "    </tr>\n",
              "    <tr>\n",
              "      <th>699975</th>\n",
              "      <td>segmentation would like perform segmentation n...</td>\n",
              "      <td>java</td>\n",
              "    </tr>\n",
              "    <tr>\n",
              "      <th>699976</th>\n",
              "      <td>display error one radio button unchecked 'm so...</td>\n",
              "      <td>php,html,mysql</td>\n",
              "    </tr>\n",
              "    <tr>\n",
              "      <th>699977</th>\n",
              "      <td>waiting pthread_create finish without using pt...</td>\n",
              "      <td>c++,multithreading</td>\n",
              "    </tr>\n",
              "    <tr>\n",
              "      <th>699978</th>\n",
              "      <td>desc confused word 'desc ' 's purpose could ma...</td>\n",
              "      <td>php,sql</td>\n",
              "    </tr>\n",
              "    <tr>\n",
              "      <th>699979</th>\n",
              "      <td>handler click button keeps adding everytime re...</td>\n",
              "      <td>jquery</td>\n",
              "    </tr>\n",
              "    <tr>\n",
              "      <th>699980</th>\n",
              "      <td>try get current next schedule make program pro...</td>\n",
              "      <td>php,mysql</td>\n",
              "    </tr>\n",
              "    <tr>\n",
              "      <th>699981</th>\n",
              "      <td>create control .aspx dynamicly create series c...</td>\n",
              "      <td>asp.net</td>\n",
              "    </tr>\n",
              "    <tr>\n",
              "      <th>699982</th>\n",
              "      <td>regular expression match text contains specifi...</td>\n",
              "      <td>regex</td>\n",
              "    </tr>\n",
              "    <tr>\n",
              "      <th>699983</th>\n",
              "      <td>call another activity activity 1 activity 2. a...</td>\n",
              "      <td>android</td>\n",
              "    </tr>\n",
              "    <tr>\n",
              "      <th>699984</th>\n",
              "      <td>view images via lightbox ( similiar ) hyperlin...</td>\n",
              "      <td>javascript,html,css</td>\n",
              "    </tr>\n",
              "    <tr>\n",
              "      <th>699985</th>\n",
              "      <td>simple regular expression replace question sim...</td>\n",
              "      <td>java,regex</td>\n",
              "    </tr>\n",
              "    <tr>\n",
              "      <th>699986</th>\n",
              "      <td>stack implementation typedef struct pilha pilh...</td>\n",
              "      <td>c</td>\n",
              "    </tr>\n",
              "    <tr>\n",
              "      <th>699987</th>\n",
              "      <td>way use button multiple functions trying creat...</td>\n",
              "      <td>php,jquery,html,css,ajax</td>\n",
              "    </tr>\n",
              "    <tr>\n",
              "      <th>699988</th>\n",
              "      <td>loaded doe n't show images loaded async $ .aja...</td>\n",
              "      <td>jquery,ajax,firefox</td>\n",
              "    </tr>\n",
              "    <tr>\n",
              "      <th>699989</th>\n",
              "      <td>question related state maintenance new objecti...</td>\n",
              "      <td>objective-c,cocoa-touch</td>\n",
              "    </tr>\n",
              "    <tr>\n",
              "      <th>699990</th>\n",
              "      <td>'s difference varchar char 's difference varch...</td>\n",
              "      <td>sql,mysql</td>\n",
              "    </tr>\n",
              "    <tr>\n",
              "      <th>699991</th>\n",
              "      <td>read remote machine read text remote machine (...</td>\n",
              "      <td>asp.net</td>\n",
              "    </tr>\n",
              "    <tr>\n",
              "      <th>699992</th>\n",
              "      <td>settimout help small piece would like use need...</td>\n",
              "      <td>javascript</td>\n",
              "    </tr>\n",
              "    <tr>\n",
              "      <th>699993</th>\n",
              "      <td>display page element set period time quick que...</td>\n",
              "      <td>php,javascript,jquery,html,css</td>\n",
              "    </tr>\n",
              "    <tr>\n",
              "      <th>699994</th>\n",
              "      <td>solution configurations drop wp7 'm running mi...</td>\n",
              "      <td>windows-phone-7</td>\n",
              "    </tr>\n",
              "    <tr>\n",
              "      <th>699995</th>\n",
              "      <td>custom post button page users submit entries s...</td>\n",
              "      <td>php,html,facebook,facebook-graph-api</td>\n",
              "    </tr>\n",
              "    <tr>\n",
              "      <th>699996</th>\n",
              "      <td>select day ( monday ) server field dd-mm-yy hh...</td>\n",
              "      <td>sql-server</td>\n",
              "    </tr>\n",
              "    <tr>\n",
              "      <th>699997</th>\n",
              "      <td>layout adding rows hi creating layout adding r...</td>\n",
              "      <td>android,android-layout</td>\n",
              "    </tr>\n",
              "    <tr>\n",
              "      <th>699998</th>\n",
              "      <td>return method accept multiple arguments , argu...</td>\n",
              "      <td>javascript,arrays</td>\n",
              "    </tr>\n",
              "  </tbody>\n",
              "</table>\n",
              "<p>699999 rows × 2 columns</p>\n",
              "</div>"
            ],
            "text/plain": [
              "                                                     Body                                  Tags\n",
              "0       detect log outs seen , 5 open tabs , `` log ''...                          php,facebook\n",
              "1       good looking web application developer way cre...                                  java\n",
              "2       get profile 's outlook plugin called xobni rea...                              facebook\n",
              "3       synchronize data server local made application...                       ios,objective-c\n",
              "4       get first value comma separated 'm looking qui...                            php,arrays\n",
              "5       prevent application freezing - ( void ) test i...                             cocoa,osx\n",
              "6       able process response getting back , need disp...                      jquery,ajax,json\n",
              "7       # template get panel parent form form created ...                           c#,winforms\n",
              "8       fix font issue ( hello.html ) like bellow xmln...                                  html\n",
              "9       wrapper method block want use combination meth...                                  ruby\n",
              "10      learn exact version platform code : console.wr...                               c#,.net\n",
              "11      free system free reports 12318288 total bytes ...                   linux,ubuntu,memory\n",
              "12      font type tag page : tag want set font-family ...                        css,spring,jsp\n",
              "13      read line execute line cat js.txt contains pat...                                  bash\n",
              "14      copy type text cell form need setup somebody t...                                 excel\n",
              "15      hear clip playing hear clip playing place snip...                      html,html5,audio\n",
              "16      finding several consecutive sessions users log...                                  perl\n",
              "17      could resolve property : propertyname : error ...           c#,asp.net-mvc-3,nhibernate\n",
              "18      access higher level $ _ pipeline variable nest...                            powershell\n",
              "19      extract name shared library possible get name/...                             c++,linux\n",
              "20      select characters group together joins followi...                             mysql,sql\n",
              "21      using window part unit test code uses get titl...        c++,qt,unit-testing,winapi,gui\n",
              "22      possible causes automatically generated delete...               c#,asp.net,sql,database\n",
              "23      users login ( rails ) user logs , automaticall...   ruby-on-rails,ruby-on-rails-3,html5\n",
              "24      determine runtime application using uinavigati...                       iphone,ios,ipad\n",
              "25      convert strings like `` example '' `` this-is-...                                  ruby\n",
              "26          rails used ror done features one easier setup              php,ruby-on-rails,spring\n",
              "27      ddmmyyyy need convert nvarchar value t-sql val...                        sql,sql-server\n",
              "28      picture share working nsmutabledictionary *par...       iphone,objective-c,ios,facebook\n",
              "29      searching variable directory setting test proc...                                python\n",
              "...                                                   ...                                   ...\n",
              "699969  'bad request ' downloading files time recently...                             ruby,http\n",
              "699970  secure sensitive data client app web service c...                     .net,wcf,security\n",
              "699971  update records utc time server server ~1000 ta...                   sql,sql-server,tsql\n",
              "699972  autostart boot 7 wondering way start program b...                             windows-7\n",
              "699973  nested inheriting styles parent styling top le...                              html,css\n",
              "699974  scale text view fit n't believe exists , wante...                               android\n",
              "699975  segmentation would like perform segmentation n...                                  java\n",
              "699976  display error one radio button unchecked 'm so...                        php,html,mysql\n",
              "699977  waiting pthread_create finish without using pt...                    c++,multithreading\n",
              "699978  desc confused word 'desc ' 's purpose could ma...                               php,sql\n",
              "699979  handler click button keeps adding everytime re...                                jquery\n",
              "699980  try get current next schedule make program pro...                             php,mysql\n",
              "699981  create control .aspx dynamicly create series c...                               asp.net\n",
              "699982  regular expression match text contains specifi...                                 regex\n",
              "699983  call another activity activity 1 activity 2. a...                               android\n",
              "699984  view images via lightbox ( similiar ) hyperlin...                   javascript,html,css\n",
              "699985  simple regular expression replace question sim...                            java,regex\n",
              "699986  stack implementation typedef struct pilha pilh...                                     c\n",
              "699987  way use button multiple functions trying creat...              php,jquery,html,css,ajax\n",
              "699988  loaded doe n't show images loaded async $ .aja...                   jquery,ajax,firefox\n",
              "699989  question related state maintenance new objecti...               objective-c,cocoa-touch\n",
              "699990  's difference varchar char 's difference varch...                             sql,mysql\n",
              "699991  read remote machine read text remote machine (...                               asp.net\n",
              "699992  settimout help small piece would like use need...                            javascript\n",
              "699993  display page element set period time quick que...        php,javascript,jquery,html,css\n",
              "699994  solution configurations drop wp7 'm running mi...                       windows-phone-7\n",
              "699995  custom post button page users submit entries s...  php,html,facebook,facebook-graph-api\n",
              "699996  select day ( monday ) server field dd-mm-yy hh...                            sql-server\n",
              "699997  layout adding rows hi creating layout adding r...                android,android-layout\n",
              "699998  return method accept multiple arguments , argu...                     javascript,arrays\n",
              "\n",
              "[699999 rows x 2 columns]"
            ]
          },
          "metadata": {
            "tags": []
          },
          "execution_count": 56
        }
      ]
    },
    {
      "cell_type": "code",
      "metadata": {
        "id": "ICU_0q7MlGuR",
        "colab_type": "code",
        "colab": {}
      },
      "source": [
        "df_Final = pd.read_csv(\"Train_Processed.csv\")"
      ],
      "execution_count": 0,
      "outputs": []
    },
    {
      "cell_type": "markdown",
      "metadata": {
        "id": "LpokVnNV2Ixd",
        "colab_type": "text"
      },
      "source": [
        "\n",
        "# 5. Data Preparation\n",
        " - Now that our data is cleaned we now divide the dependent and independent columns from each other."
      ]
    },
    {
      "cell_type": "markdown",
      "metadata": {
        "id": "U_kdDWSh2Qqj",
        "colab_type": "text"
      },
      "source": [
        "\n",
        "### 5.1 Encoding Tags</br>\n",
        "\n",
        " - We now Encode top tags to multi-hot array.</br>\n",
        " - We first split the tag values of each dataset and the multi-hot encode them using MultiLabelBinarizer() from sklearn library.</br>\n"
      ]
    },
    {
      "cell_type": "code",
      "metadata": {
        "id": "T2pTgk0BUUcM",
        "colab_type": "code",
        "outputId": "d3634254-c2e0-4b88-94c0-ab9bb11344b0",
        "colab": {
          "base_uri": "https://localhost:8080/",
          "height": 185
        }
      },
      "source": [
        "tags_split = [tags.split(',') for tags in df_Final['Tags'].values]\n",
        "tags_split[0:10]"
      ],
      "execution_count": 0,
      "outputs": [
        {
          "output_type": "execute_result",
          "data": {
            "text/plain": [
              "[['php', 'facebook'],\n",
              " ['java'],\n",
              " ['facebook'],\n",
              " ['ios', 'objective-c'],\n",
              " ['php', 'arrays'],\n",
              " ['cocoa', 'osx'],\n",
              " ['jquery', 'ajax', 'json'],\n",
              " ['c#', 'winforms'],\n",
              " ['html'],\n",
              " ['ruby']]"
            ]
          },
          "metadata": {
            "tags": []
          },
          "execution_count": 57
        }
      ]
    },
    {
      "cell_type": "code",
      "metadata": {
        "id": "Q9Yg5coBZZF5",
        "colab_type": "code",
        "outputId": "1ec1e7c1-fe69-4342-87fb-8ac39cb2ced7",
        "colab": {
          "base_uri": "https://localhost:8080/",
          "height": 675
        }
      },
      "source": [
        "tag_encoder = MultiLabelBinarizer()\n",
        "tags_encoded = tag_encoder.fit_transform(tags_split)\n",
        "num_tags = len(tags_encoded[0])\n",
        "print(df_Final['Body'].values[0])\n",
        "print(tag_encoder.classes_)\n",
        "print(tags_encoded[0])"
      ],
      "execution_count": 0,
      "outputs": [
        {
          "output_type": "stream",
          "text": [
            "detect log outs seen , 5 open tabs , `` log '' one go another tab , detects 're logged inform us user login page working want make thing web app php/jquery need hint ... thanks advance\n",
            "['.htaccess' '.net' 'actionscript-3' 'ajax' 'algorithm' 'android'\n",
            " 'android-layout' 'animation' 'apache' 'apache2' 'api' 'arrays' 'asp.net'\n",
            " 'asp.net-mvc' 'asp.net-mvc-3' 'audio' 'authentication' 'bash' 'c' 'c#'\n",
            " 'c#-4.0' 'c++' 'caching' 'cakephp' 'calculus' 'class' 'cocoa'\n",
            " 'cocoa-touch' 'codeigniter' 'command-line' 'core-data' 'css' 'css3'\n",
            " 'database' 'database-design' 'date' 'datetime' 'debugging' 'delphi'\n",
            " 'design' 'design-patterns' 'django' 'dns' 'dom' 'drupal' 'eclipse'\n",
            " 'email' 'entity-framework' 'events' 'excel' 'exception' 'facebook'\n",
            " 'facebook-graph-api' 'file' 'firefox' 'flash' 'flex' 'forms' 'function'\n",
            " 'generics' 'git' 'google' 'google-app-engine' 'google-chrome'\n",
            " 'google-maps' 'grails' 'gui' 'gwt' 'haskell' 'hibernate' 'homework'\n",
            " 'html' 'html5' 'http' 'iis' 'image' 'internet-explorer' 'ios' 'ios5'\n",
            " 'ipad' 'iphone' 'java' 'java-ee' 'javascript' 'jquery' 'jquery-ajax'\n",
            " 'jquery-mobile' 'jquery-ui' 'jsf' 'json' 'jsp' 'linear-algebra' 'linq'\n",
            " 'linux' 'list' 'listview' 'logging' 'loops' 'magento' 'math' 'matlab'\n",
            " 'maven' 'memory' 'mod-rewrite' 'mongodb' 'ms-access' 'multithreading'\n",
            " 'mvc' 'mysql' 'networking' 'nhibernate' 'node.js' 'object' 'objective-c'\n",
            " 'oop' 'opengl' 'optimization' 'oracle' 'osx' 'parsing' 'pdf'\n",
            " 'performance' 'perl' 'permissions' 'phonegap' 'php' 'plugins' 'pointers'\n",
            " 'postgresql' 'powershell' 'python' 'qt' 'query' 'r' 'real-analysis'\n",
            " 'redirect' 'regex' 'rest' 'ruby' 'ruby-on-rails' 'ruby-on-rails-3'\n",
            " 'scala' 'search' 'security' 'servlets' 'session' 'sharepoint' 'shell'\n",
            " 'silverlight' 'sockets' 'sorting' 'spring' 'sql' 'sql-server'\n",
            " 'sql-server-2005' 'sql-server-2008' 'sqlite' 'ssh' 'ssl' 'string' 'svn'\n",
            " 'swing' 'table' 'templates' 'testing' 'tomcat' 'tsql' 'ubuntu'\n",
            " 'uitableview' 'unit-testing' 'unix' 'url' 'validation' 'variables'\n",
            " 'vb.net' 'vba' 'video' 'vim' 'visual-c++' 'visual-studio'\n",
            " 'visual-studio-2008' 'visual-studio-2010' 'wcf' 'web-applications'\n",
            " 'web-services' 'winapi' 'windows' 'windows-7' 'windows-8'\n",
            " 'windows-phone-7' 'windows-server-2008' 'windows-xp' 'winforms'\n",
            " 'wordpress' 'wpf' 'xaml' 'xcode' 'xml' 'xslt' 'zend-framework']\n",
            "[0 0 0 0 0 0 0 0 0 0 0 0 0 0 0 0 0 0 0 0 0 0 0 0 0 0 0 0 0 0 0 0 0 0 0 0 0\n",
            " 0 0 0 0 0 0 0 0 0 0 0 0 0 0 1 0 0 0 0 0 0 0 0 0 0 0 0 0 0 0 0 0 0 0 0 0 0\n",
            " 0 0 0 0 0 0 0 0 0 0 0 0 0 0 0 0 0 0 0 0 0 0 0 0 0 0 0 0 0 0 0 0 0 0 0 0 0\n",
            " 0 0 0 0 0 0 0 0 0 0 0 0 0 0 1 0 0 0 0 0 0 0 0 0 0 0 0 0 0 0 0 0 0 0 0 0 0\n",
            " 0 0 0 0 0 0 0 0 0 0 0 0 0 0 0 0 0 0 0 0 0 0 0 0 0 0 0 0 0 0 0 0 0 0 0 0 0\n",
            " 0 0 0 0 0 0 0 0 0 0 0 0 0 0 0]\n"
          ],
          "name": "stdout"
        }
      ]
    },
    {
      "cell_type": "markdown",
      "metadata": {
        "id": "_WXTg3gN25IX",
        "colab_type": "text"
      },
      "source": [
        "### 5.2: Splitting Prepared Data into Train and Cross Validation Set\n",
        "\n",
        " - We now Split the data into Train and Test Set using 80/20 split.</br>\n"
      ]
    },
    {
      "cell_type": "code",
      "metadata": {
        "id": "wN9DBKucZvIf",
        "colab_type": "code",
        "outputId": "bf7872bd-19dd-4a7f-ab88-25c081addc32",
        "colab": {
          "base_uri": "https://localhost:8080/",
          "height": 50
        }
      },
      "source": [
        "train_size = int(len(df_Final) * .8)\n",
        "print (\"Train size: %d\" % train_size)\n",
        "print (\"Test size: %d\" % (len(df_Final) - train_size))"
      ],
      "execution_count": 0,
      "outputs": [
        {
          "output_type": "stream",
          "text": [
            "Train size: 560000\n",
            "Test size: 140000\n"
          ],
          "name": "stdout"
        }
      ]
    },
    {
      "cell_type": "code",
      "metadata": {
        "id": "tjWX5PWYazY9",
        "colab_type": "code",
        "colab": {}
      },
      "source": [
        "train_tags = tags_encoded[:train_size]\n",
        "test_tags = tags_encoded[train_size:]"
      ],
      "execution_count": 0,
      "outputs": []
    },
    {
      "cell_type": "markdown",
      "metadata": {
        "id": "muHlZHv_sPK1",
        "colab_type": "text"
      },
      "source": [
        "### 5.3: Tokenizing and Transforming.</br>\n",
        "\n",
        " - First \"Body\" of each Data Point is Tokenized and then transformed to matrices of 0's and 1's depending if the word is in Bag of Words.</br>\n"
      ]
    },
    {
      "cell_type": "code",
      "metadata": {
        "id": "84V6PYHja7Y3",
        "colab_type": "code",
        "outputId": "14c9ddd2-1954-476c-cb2f-3d4d6f74609a",
        "colab": {
          "base_uri": "https://localhost:8080/",
          "height": 34
        }
      },
      "source": [
        "%%writefile preprocess.py\n",
        "from tensorflow.keras.preprocessing import text\n",
        "\n",
        "class TextPreprocessor(object):\n",
        "  def __init__(self, vocab_size):\n",
        "    self._vocab_size = vocab_size\n",
        "    self._tokenizer = None\n",
        "  \n",
        "  def create_tokenizer(self, text_list):\n",
        "    tokenizer = text.Tokenizer(num_words=self._vocab_size)\n",
        "    tokenizer.fit_on_texts(text_list)\n",
        "    #print(tokenizer.word_index)\n",
        "    self._tokenizer = tokenizer\n",
        "\n",
        "  def transform_text(self, text_list):\n",
        "    text_matrix = self._tokenizer.texts_to_matrix(text_list)\n",
        "    return text_matrix\n",
        "  "
      ],
      "execution_count": 0,
      "outputs": [
        {
          "output_type": "stream",
          "text": [
            "Overwriting preprocess.py\n"
          ],
          "name": "stdout"
        }
      ]
    },
    {
      "cell_type": "code",
      "metadata": {
        "id": "WLS7DCe2bCeU",
        "colab_type": "code",
        "colab": {}
      },
      "source": [
        "from preprocess import TextPreprocessor\n",
        "\n",
        "VOCAB_SIZE = 500\n",
        "\n",
        "train_qs = df_Final['Body'].values[:train_size]\n",
        "test_qs = df_Final['Body'].values[train_size:]\n",
        "\n",
        "processor = TextPreprocessor(VOCAB_SIZE)\n",
        "processor.create_tokenizer(train_qs)\n",
        "\n",
        "body_train = processor.transform_text(train_qs)\n",
        "body_test = processor.transform_text(test_qs)"
      ],
      "execution_count": 0,
      "outputs": []
    },
    {
      "cell_type": "code",
      "metadata": {
        "id": "a6U4Vwq0bbvp",
        "colab_type": "code",
        "outputId": "ea8bf331-654d-4daf-8992-14b7daf3f7c1",
        "colab": {
          "base_uri": "https://localhost:8080/",
          "height": 423
        }
      },
      "source": [
        "print(len(body_train[0]))\n",
        "print(train_qs[0])\n",
        "print(body_train[0])"
      ],
      "execution_count": 0,
      "outputs": [
        {
          "output_type": "stream",
          "text": [
            "500\n",
            "detect log outs seen , 5 open tabs , `` log '' one go another tab , detects 're logged inform us user login page working want make thing web app php/jquery need hint ... thanks advance\n",
            "[0. 1. 0. 0. 0. 0. 0. 0. 0. 0. 0. 0. 0. 0. 0. 0. 0. 0. 1. 0. 1. 0. 0. 0.\n",
            " 0. 0. 0. 0. 0. 1. 0. 1. 0. 0. 0. 0. 0. 0. 1. 0. 0. 0. 0. 0. 0. 0. 1. 0.\n",
            " 0. 0. 0. 0. 0. 0. 0. 0. 0. 0. 1. 0. 0. 1. 0. 0. 0. 0. 0. 0. 0. 0. 0. 0.\n",
            " 0. 0. 0. 0. 0. 0. 0. 0. 0. 0. 0. 1. 0. 1. 0. 1. 0. 0. 0. 0. 0. 0. 0. 0.\n",
            " 0. 0. 0. 0. 0. 0. 0. 0. 1. 0. 0. 0. 0. 0. 0. 0. 0. 0. 0. 0. 0. 0. 0. 0.\n",
            " 0. 0. 0. 0. 0. 0. 0. 0. 0. 0. 0. 0. 0. 0. 0. 0. 0. 0. 0. 0. 0. 0. 1. 0.\n",
            " 0. 0. 0. 0. 0. 0. 0. 0. 0. 0. 0. 0. 1. 0. 0. 0. 0. 0. 0. 0. 0. 0. 0. 0.\n",
            " 0. 0. 0. 0. 0. 0. 0. 1. 0. 0. 0. 0. 0. 0. 0. 0. 0. 0. 0. 0. 0. 0. 0. 0.\n",
            " 0. 0. 0. 0. 0. 0. 0. 0. 0. 0. 0. 0. 0. 0. 0. 0. 0. 0. 0. 0. 0. 0. 0. 0.\n",
            " 0. 0. 0. 0. 0. 0. 0. 0. 0. 0. 0. 0. 0. 0. 0. 0. 0. 0. 0. 0. 0. 0. 0. 0.\n",
            " 1. 0. 0. 0. 0. 0. 0. 0. 0. 0. 0. 0. 0. 0. 0. 0. 0. 0. 0. 0. 0. 0. 0. 0.\n",
            " 0. 0. 0. 0. 0. 0. 0. 0. 0. 0. 1. 0. 0. 1. 0. 0. 0. 0. 0. 0. 0. 0. 0. 0.\n",
            " 0. 0. 0. 0. 0. 0. 0. 0. 0. 0. 0. 0. 0. 0. 0. 0. 0. 0. 0. 0. 0. 0. 0. 0.\n",
            " 0. 0. 0. 0. 0. 0. 0. 0. 0. 0. 0. 0. 0. 0. 0. 0. 0. 0. 0. 0. 0. 0. 0. 0.\n",
            " 0. 0. 0. 0. 0. 0. 0. 0. 0. 0. 0. 0. 0. 0. 0. 0. 0. 0. 0. 0. 0. 0. 0. 0.\n",
            " 0. 0. 0. 0. 0. 0. 0. 0. 0. 0. 0. 0. 0. 0. 0. 0. 0. 0. 0. 0. 0. 0. 0. 0.\n",
            " 0. 0. 0. 1. 0. 0. 0. 0. 0. 0. 0. 0. 0. 0. 0. 0. 0. 0. 0. 0. 0. 0. 0. 0.\n",
            " 0. 0. 0. 0. 0. 0. 0. 0. 0. 0. 0. 0. 0. 0. 0. 0. 0. 0. 1. 0. 0. 0. 0. 0.\n",
            " 0. 0. 0. 0. 0. 0. 0. 0. 0. 0. 0. 0. 0. 0. 0. 0. 0. 0. 0. 0. 0. 0. 0. 0.\n",
            " 0. 0. 0. 0. 0. 0. 0. 0. 0. 0. 0. 0. 0. 0. 0. 0. 0. 0. 0. 0. 0. 0. 0. 0.\n",
            " 0. 0. 0. 0. 0. 0. 0. 0. 0. 0. 0. 0. 0. 0. 0. 0. 0. 0. 0. 0.]\n"
          ],
          "name": "stdout"
        }
      ]
    },
    {
      "cell_type": "code",
      "metadata": {
        "id": "nhy_j5XaCTj6",
        "colab_type": "code",
        "outputId": "d13380d9-7776-4c31-fcb7-b114bb1a9fab",
        "colab": {
          "base_uri": "https://localhost:8080/",
          "height": 1000
        }
      },
      "source": [
        "from tensorflow.keras.preprocessing import text\n",
        "testizer = text.Tokenizer(500)\n",
        "testizer.fit_on_texts(train_qs)\n",
        "testizer.word_index"
      ],
      "execution_count": 0,
      "outputs": [
        {
          "output_type": "execute_result",
          "data": {
            "text/plain": [
              "{\"''\": 1,\n",
              " \"'\": 2,\n",
              " '0': 3,\n",
              " '1': 4,\n",
              " 'id': 5,\n",
              " 'name': 6,\n",
              " 'new': 7,\n",
              " '2': 8,\n",
              " 'code': 9,\n",
              " 'get': 10,\n",
              " 'data': 11,\n",
              " 'using': 12,\n",
              " 'like': 13,\n",
              " 'value': 14,\n",
              " \"n't\": 15,\n",
              " 'div': 16,\n",
              " 'text': 17,\n",
              " 'want': 18,\n",
              " \"'m\": 19,\n",
              " 'user': 20,\n",
              " 'type': 21,\n",
              " \"'s\": 22,\n",
              " 'error': 23,\n",
              " 'public': 24,\n",
              " '3': 25,\n",
              " 'int': 26,\n",
              " 'would': 27,\n",
              " 'return': 28,\n",
              " 'page': 29,\n",
              " 'use': 30,\n",
              " 'one': 31,\n",
              " 'var': 32,\n",
              " 'array': 33,\n",
              " 'class': 34,\n",
              " 'com': 35,\n",
              " 'way': 36,\n",
              " 'select': 37,\n",
              " 'need': 38,\n",
              " 'server': 39,\n",
              " 'set': 40,\n",
              " 'java': 41,\n",
              " 'null': 42,\n",
              " 'form': 43,\n",
              " 'system': 44,\n",
              " 'add': 45,\n",
              " 'thanks': 46,\n",
              " 'method': 47,\n",
              " 'view': 48,\n",
              " 'script': 49,\n",
              " 'problem': 50,\n",
              " '4': 51,\n",
              " 'application': 52,\n",
              " 'a': 53,\n",
              " 'void': 54,\n",
              " 'input': 55,\n",
              " 'time': 56,\n",
              " 'help': 57,\n",
              " '5': 58,\n",
              " 'button': 59,\n",
              " 'this': 60,\n",
              " 'app': 61,\n",
              " 'know': 62,\n",
              " 'td': 63,\n",
              " 'content': 64,\n",
              " 'create': 65,\n",
              " 'width': 66,\n",
              " 'true': 67,\n",
              " 'end': 68,\n",
              " 'post': 69,\n",
              " 'trying': 70,\n",
              " 'i': 71,\n",
              " 'work': 72,\n",
              " 'first': 73,\n",
              " 'following': 74,\n",
              " 'example': 75,\n",
              " '10': 76,\n",
              " 'e': 77,\n",
              " 'line': 78,\n",
              " 'else': 79,\n",
              " 'row': 80,\n",
              " 'find': 81,\n",
              " 'result': 82,\n",
              " 'php': 83,\n",
              " 'something': 84,\n",
              " 'make': 85,\n",
              " 'height': 86,\n",
              " 'web': 87,\n",
              " 'number': 88,\n",
              " 'option': 89,\n",
              " \"'ve\": 90,\n",
              " 'item': 91,\n",
              " 'layout': 92,\n",
              " 'test': 93,\n",
              " 'click': 94,\n",
              " 'values': 95,\n",
              " 'android': 96,\n",
              " 'html': 97,\n",
              " 'could': 98,\n",
              " 'echo': 99,\n",
              " 'two': 100,\n",
              " 'false': 101,\n",
              " 'key': 102,\n",
              " 'also': 103,\n",
              " 'working': 104,\n",
              " 'show': 105,\n",
              " 'style': 106,\n",
              " 'please': 107,\n",
              " 'run': 108,\n",
              " 'main': 109,\n",
              " 'display': 110,\n",
              " 'document': 111,\n",
              " 'files': 112,\n",
              " 'li': 113,\n",
              " 'size': 114,\n",
              " 'question': 115,\n",
              " 'right': 116,\n",
              " 'tried': 117,\n",
              " 'possible': 118,\n",
              " 'call': 119,\n",
              " 'index': 120,\n",
              " 'self': 121,\n",
              " 'request': 122,\n",
              " 'n': 123,\n",
              " 'works': 124,\n",
              " 'message': 125,\n",
              " '8': 126,\n",
              " 'title': 127,\n",
              " 'private': 128,\n",
              " 'org': 129,\n",
              " 'left': 130,\n",
              " 'import': 131,\n",
              " 'change': 132,\n",
              " 'db': 133,\n",
              " 'see': 134,\n",
              " 'event': 135,\n",
              " 'update': 136,\n",
              " 'href': 137,\n",
              " 'r': 138,\n",
              " 'link': 139,\n",
              " 'try': 140,\n",
              " 'tr': 141,\n",
              " 'another': 142,\n",
              " '6': 143,\n",
              " '00': 144,\n",
              " 'start': 145,\n",
              " 'www': 146,\n",
              " '7': 147,\n",
              " 'project': 148,\n",
              " 'field': 149,\n",
              " 'count': 150,\n",
              " 'different': 151,\n",
              " 'column': 152,\n",
              " 'length': 153,\n",
              " 'background': 154,\n",
              " 'users': 155,\n",
              " 'log': 156,\n",
              " 'color': 157,\n",
              " 'access': 158,\n",
              " 'mysql': 159,\n",
              " 'ca': 160,\n",
              " 'write': 161,\n",
              " 'static': 162,\n",
              " 'case': 163,\n",
              " 'load': 164,\n",
              " 'images': 165,\n",
              " 'src': 166,\n",
              " 'edit': 167,\n",
              " 'model': 168,\n",
              " 'p': 169,\n",
              " 'getting': 170,\n",
              " 'action': 171,\n",
              " 'x': 172,\n",
              " 'used': 173,\n",
              " 'check': 174,\n",
              " 'open': 175,\n",
              " 'element': 176,\n",
              " 'however': 177,\n",
              " 'output': 178,\n",
              " 'variable': 179,\n",
              " '9': 180,\n",
              " 'window': 181,\n",
              " 'read': 182,\n",
              " 'c': 183,\n",
              " 'order': 184,\n",
              " 'without': 185,\n",
              " 'js': 186,\n",
              " 'top': 187,\n",
              " '12': 188,\n",
              " 'path': 189,\n",
              " 'label': 190,\n",
              " 'anyone': 191,\n",
              " 'version': 192,\n",
              " 'parent': 193,\n",
              " 'service': 194,\n",
              " 'rows': 195,\n",
              " '11': 196,\n",
              " 'created': 197,\n",
              " 'site': 198,\n",
              " 'current': 199,\n",
              " '100': 200,\n",
              " 'able': 201,\n",
              " 'simple': 202,\n",
              " 'found': 203,\n",
              " 'client': 204,\n",
              " 'default': 205,\n",
              " 'body': 206,\n",
              " 'print': 207,\n",
              " 'property': 208,\n",
              " 'program': 209,\n",
              " 'insert': 210,\n",
              " 'response': 211,\n",
              " 'fine': 212,\n",
              " 'position': 213,\n",
              " 'span': 214,\n",
              " 'thread': 215,\n",
              " 'include': 216,\n",
              " 'put': 217,\n",
              " 'wrong': 218,\n",
              " 'password': 219,\n",
              " 'format': 220,\n",
              " 's': 221,\n",
              " '20': 222,\n",
              " 'tag': 223,\n",
              " 'controller': 224,\n",
              " 'many': 225,\n",
              " 'sure': 226,\n",
              " 'back': 227,\n",
              " 'called': 228,\n",
              " 'alert': 229,\n",
              " 'items': 230,\n",
              " 'source': 231,\n",
              " 'd': 232,\n",
              " 'last': 233,\n",
              " 'img': 234,\n",
              " 'context': 235,\n",
              " 'asp': 236,\n",
              " 'next': 237,\n",
              " 'box': 238,\n",
              " 'second': 239,\n",
              " 'go': 240,\n",
              " 'etc': 241,\n",
              " 'results': 242,\n",
              " 'menu': 243,\n",
              " 'solution': 244,\n",
              " 'b': 245,\n",
              " '01': 246,\n",
              " 'string': 247,\n",
              " 'close': 248,\n",
              " 'location': 249,\n",
              " 'multiple': 250,\n",
              " 'inside': 251,\n",
              " 't': 252,\n",
              " 'submit': 253,\n",
              " 'activity': 254,\n",
              " 'running': 255,\n",
              " 'out': 256,\n",
              " 'username': 257,\n",
              " 'seems': 258,\n",
              " 'to': 259,\n",
              " 'best': 260,\n",
              " 'address': 261,\n",
              " 'still': 262,\n",
              " 'every': 263,\n",
              " 'date': 264,\n",
              " 'issue': 265,\n",
              " 'info': 266,\n",
              " 'ul': 267,\n",
              " 'even': 268,\n",
              " 'match': 269,\n",
              " 'file': 270,\n",
              " 'send': 271,\n",
              " 'header': 272,\n",
              " 'ui': 273,\n",
              " 'login': 274,\n",
              " 'status': 275,\n",
              " 'remove': 276,\n",
              " 'advance': 277,\n",
              " 'information': 278,\n",
              " 'control': 279,\n",
              " 'loop': 280,\n",
              " 'save': 281,\n",
              " 'got': 282,\n",
              " 'connection': 283,\n",
              " 'char': 284,\n",
              " 'table': 285,\n",
              " 'done': 286,\n",
              " 'product': 287,\n",
              " '15': 288,\n",
              " 'delete': 289,\n",
              " 'group': 290,\n",
              " 'think': 291,\n",
              " 'query': 292,\n",
              " 'instead': 293,\n",
              " \"'d\": 294,\n",
              " 'command': 295,\n",
              " 'part': 296,\n",
              " 'border': 297,\n",
              " 'h': 298,\n",
              " 'androidruntime': 299,\n",
              " 'process': 300,\n",
              " 'long': 301,\n",
              " 'point': 302,\n",
              " 'm': 303,\n",
              " 'really': 304,\n",
              " 'tables': 305,\n",
              " 'css': 306,\n",
              " 'val': 307,\n",
              " 'tostring': 308,\n",
              " 'based': 309,\n",
              " 'join': 310,\n",
              " 'br': 311,\n",
              " 'selected': 312,\n",
              " 'font': 313,\n",
              " 'directory': 314,\n",
              " 'catch': 315,\n",
              " 'objects': 316,\n",
              " 'console': 317,\n",
              " 'convert': 318,\n",
              " 'say': 319,\n",
              " 'contains': 320,\n",
              " 'correct': 321,\n",
              " 'store': 322,\n",
              " 'custom': 323,\n",
              " 'replace': 324,\n",
              " 'pass': 325,\n",
              " 'website': 326,\n",
              " 'net': 327,\n",
              " 'elements': 328,\n",
              " 'fields': 329,\n",
              " 'instance': 330,\n",
              " 'map': 331,\n",
              " 'screen': 332,\n",
              " 'returns': 333,\n",
              " '30': 334,\n",
              " 'folder': 335,\n",
              " 'idea': 336,\n",
              " 'rails': 337,\n",
              " 'lib': 338,\n",
              " 'looking': 339,\n",
              " '2012': 340,\n",
              " 'good': 341,\n",
              " 'added': 342,\n",
              " 'home': 343,\n",
              " 'auto': 344,\n",
              " 'template': 345,\n",
              " 'none': 346,\n",
              " 'within': 347,\n",
              " 'library': 348,\n",
              " 'xml': 349,\n",
              " 'head': 350,\n",
              " 'margin': 351,\n",
              " 'options': 352,\n",
              " 'category': 353,\n",
              " 'javascript': 354,\n",
              " 'image': 355,\n",
              " 'already': 356,\n",
              " 'someone': 357,\n",
              " 'png': 358,\n",
              " 'empty': 359,\n",
              " 'better': 360,\n",
              " 'list': 361,\n",
              " 'browser': 362,\n",
              " 'well': 363,\n",
              " 'double': 364,\n",
              " 'in': 365,\n",
              " '16': 366,\n",
              " 'columns': 367,\n",
              " 'state': 368,\n",
              " 'block': 369,\n",
              " 'def': 370,\n",
              " 'specific': 371,\n",
              " '13': 372,\n",
              " 'float': 373,\n",
              " 'since': 374,\n",
              " 'override': 375,\n",
              " 'much': 376,\n",
              " 'intent': 377,\n",
              " 'looks': 378,\n",
              " 'url': 379,\n",
              " 'g': 380,\n",
              " 'currently': 381,\n",
              " 'single': 382,\n",
              " '50': 383,\n",
              " 'thank': 384,\n",
              " 'println': 385,\n",
              " 'bar': 386,\n",
              " 'jquery': 387,\n",
              " 'local': 388,\n",
              " 'appreciated': 389,\n",
              " 'connect': 390,\n",
              " 'cell': 391,\n",
              " 'statement': 392,\n",
              " 'foo': 393,\n",
              " 'answer': 394,\n",
              " 'creating': 395,\n",
              " 'let': 396,\n",
              " 'give': 397,\n",
              " 'xsl': 398,\n",
              " 'str': 399,\n",
              " 'may': 400,\n",
              " 'center': 401,\n",
              " 'wrap': 402,\n",
              " 'sub': 403,\n",
              " 'f': 404,\n",
              " 'session': 405,\n",
              " 'final': 406,\n",
              " 'given': 407,\n",
              " 'build': 408,\n",
              " 'look': 409,\n",
              " 'jpg': 410,\n",
              " 'onclick': 411,\n",
              " 'root': 412,\n",
              " 'break': 413,\n",
              " 'enter': 414,\n",
              " 'errors': 415,\n",
              " 'integer': 416,\n",
              " 'description': 417,\n",
              " '14': 418,\n",
              " 'os': 419,\n",
              " 'node': 420,\n",
              " 'understand': 421,\n",
              " 'must': 422,\n",
              " 'max': 423,\n",
              " 'always': 424,\n",
              " 'seem': 425,\n",
              " 'thing': 426,\n",
              " 'reference': 427,\n",
              " 'via': 428,\n",
              " 'dialog': 429,\n",
              " 'total': 430,\n",
              " 'ideas': 431,\n",
              " 'ok': 432,\n",
              " 'sort': 433,\n",
              " 'record': 434,\n",
              " 'anything': 435,\n",
              " 'going': 436,\n",
              " 'take': 437,\n",
              " 'ajax': 438,\n",
              " 'append': 439,\n",
              " 'debug': 440,\n",
              " 'pages': 441,\n",
              " 'init': 442,\n",
              " 'filename': 443,\n",
              " '02': 444,\n",
              " 'everything': 445,\n",
              " 'yes': 446,\n",
              " 'align': 447,\n",
              " 'fill': 448,\n",
              " 'execute': 449,\n",
              " 'success': 450,\n",
              " 'lang': 451,\n",
              " 'foreach': 452,\n",
              " 'base': 453,\n",
              " 'config': 454,\n",
              " 'y': 455,\n",
              " 'functions': 456,\n",
              " 'methods': 457,\n",
              " 'txt': 458,\n",
              " 'nsstring': 459,\n",
              " 'child': 460,\n",
              " 'attr': 461,\n",
              " '05': 462,\n",
              " 'hide': 463,\n",
              " 'hidden': 464,\n",
              " 'day': 465,\n",
              " 'getelementbyid': 466,\n",
              " 'side': 467,\n",
              " 'classes': 468,\n",
              " 'tell': 469,\n",
              " 'domain': 470,\n",
              " 'textbox': 471,\n",
              " 'textview': 472,\n",
              " 'far': 473,\n",
              " '09': 474,\n",
              " 'parameters': 475,\n",
              " 'fetch': 476,\n",
              " 'bit': 477,\n",
              " 'visual': 478,\n",
              " 'ie': 479,\n",
              " 'parse': 480,\n",
              " 'changes': 481,\n",
              " 'nothing': 482,\n",
              " '03': 483,\n",
              " 'json': 484,\n",
              " 'phone': 485,\n",
              " '04': 486,\n",
              " 'core': 487,\n",
              " '2010': 488,\n",
              " 'shows': 489,\n",
              " '25': 490,\n",
              " 'framework': 491,\n",
              " '2011': 492,\n",
              " 'bottom': 493,\n",
              " 'numbers': 494,\n",
              " 'filter': 495,\n",
              " '17': 496,\n",
              " 'missing': 497,\n",
              " 'google': 498,\n",
              " 'adding': 499,\n",
              " 'handle': 500,\n",
              " 'around': 501,\n",
              " 'sender': 502,\n",
              " 'word': 503,\n",
              " 'padding': 504,\n",
              " 'figure': 505,\n",
              " '18': 506,\n",
              " 'generated': 507,\n",
              " 'parameter': 508,\n",
              " 'copy': 509,\n",
              " 'gets': 510,\n",
              " 'tab': 511,\n",
              " 'required': 512,\n",
              " 'records': 513,\n",
              " 'reason': 514,\n",
              " 'stored': 515,\n",
              " '22': 516,\n",
              " 'lines': 517,\n",
              " 'attribute': 518,\n",
              " 'times': 519,\n",
              " 'tags': 520,\n",
              " 'keep': 521,\n",
              " 'names': 522,\n",
              " 'lot': 523,\n",
              " 'grid': 524,\n",
              " 'made': 525,\n",
              " 'http': 526,\n",
              " 'nil': 527,\n",
              " 'sum': 528,\n",
              " 'runat': 529,\n",
              " 'level': 530,\n",
              " 'super': 531,\n",
              " 'exists': 532,\n",
              " 'boolean': 533,\n",
              " 'apache': 534,\n",
              " 'checkbox': 535,\n",
              " 'varchar': 536,\n",
              " 'note': 537,\n",
              " 'checked': 538,\n",
              " 'target': 539,\n",
              " 'place': 540,\n",
              " 'similar': 541,\n",
              " 'things': 542,\n",
              " 'container': 543,\n",
              " 'for': 544,\n",
              " 'settings': 545,\n",
              " 'studio': 546,\n",
              " '23': 547,\n",
              " 'cursor': 548,\n",
              " 'cache': 549,\n",
              " 'price': 550,\n",
              " 'section': 551,\n",
              " 'entity': 552,\n",
              " 'properties': 553,\n",
              " '08': 554,\n",
              " 'host': 555,\n",
              " 'alloc': 556,\n",
              " 'num': 557,\n",
              " '07': 558,\n",
              " 'microsoft': 559,\n",
              " 'protected': 560,\n",
              " 'clear': 561,\n",
              " 'actually': 562,\n",
              " 'admin': 563,\n",
              " 'pattern': 564,\n",
              " 'implement': 565,\n",
              " 'upload': 566,\n",
              " 'year': 567,\n",
              " 'module': 568,\n",
              " 'ready': 569,\n",
              " 'plugin': 570,\n",
              " 'stop': 571,\n",
              " 'allow': 572,\n",
              " 'const': 573,\n",
              " 'details': 574,\n",
              " 'expression': 575,\n",
              " '21': 576,\n",
              " 'buttons': 577,\n",
              " 'either': 578,\n",
              " 'rb': 579,\n",
              " 'min': 580,\n",
              " 'fix': 581,\n",
              " 'comment': 582,\n",
              " 'extends': 583,\n",
              " 'language': 584,\n",
              " 'interface': 585,\n",
              " 'might': 586,\n",
              " 'uses': 587,\n",
              " 'aspx': 588,\n",
              " 'im': 589,\n",
              " 'temp': 590,\n",
              " 'th': 591,\n",
              " 'active': 592,\n",
              " 'obj': 593,\n",
              " 'structure': 594,\n",
              " 'move': 595,\n",
              " 'xmlns': 596,\n",
              " 'support': 597,\n",
              " 'basically': 598,\n",
              " 'links': 599,\n",
              " 'duplicate': 600,\n",
              " 'defined': 601,\n",
              " 'w': 602,\n",
              " 'loading': 603,\n",
              " 'space': 604,\n",
              " 'localhost': 605,\n",
              " 'characters': 606,\n",
              " 'setting': 607,\n",
              " 'internal': 608,\n",
              " 'split': 609,\n",
              " 'changed': 610,\n",
              " 'handler': 611,\n",
              " 'wondering': 612,\n",
              " 'account': 613,\n",
              " 'month': 614,\n",
              " 'device': 615,\n",
              " 'posts': 616,\n",
              " 'frame': 617,\n",
              " '06': 618,\n",
              " 'sample': 619,\n",
              " 'params': 620,\n",
              " 'full': 621,\n",
              " 'failed': 622,\n",
              " 'person': 623,\n",
              " 'servlet': 624,\n",
              " '19': 625,\n",
              " 'mode': 626,\n",
              " 'msg': 627,\n",
              " 'bundle': 628,\n",
              " 'available': 629,\n",
              " 'chrome': 630,\n",
              " 'socket': 631,\n",
              " 'widget': 632,\n",
              " 'syntax': 633,\n",
              " 'non': 634,\n",
              " 'loaded': 635,\n",
              " 'no': 636,\n",
              " 'strings': 637,\n",
              " 'character': 638,\n",
              " 'writing': 639,\n",
              " 'hello': 640,\n",
              " 'my': 641,\n",
              " 'mobile': 642,\n",
              " 'needs': 643,\n",
              " 'contents': 644,\n",
              " 'each': 645,\n",
              " '24': 646,\n",
              " 'models': 647,\n",
              " 'args': 648,\n",
              " 'random': 649,\n",
              " 'certain': 650,\n",
              " 'correctly': 651,\n",
              " 'difference': 652,\n",
              " 'valid': 653,\n",
              " 'gives': 654,\n",
              " 'entry': 655,\n",
              " 'task': 656,\n",
              " 'std': 657,\n",
              " 'questions': 658,\n",
              " 'calling': 659,\n",
              " 'three': 660,\n",
              " 'z': 661,\n",
              " 'contact': 662,\n",
              " 'package': 663,\n",
              " 'clicked': 664,\n",
              " 'views': 665,\n",
              " 'game': 666,\n",
              " 'making': 667,\n",
              " 'controls': 668,\n",
              " 'small': 669,\n",
              " 'primary': 670,\n",
              " 'findviewbyid': 671,\n",
              " '200': 672,\n",
              " 'limit': 673,\n",
              " 'icon': 674,\n",
              " 'real': 675,\n",
              " 'regular': 676,\n",
              " 'utf': 677,\n",
              " 'configuration': 678,\n",
              " 'param': 679,\n",
              " 'py': 680,\n",
              " 'mean': 681,\n",
              " 'mail': 682,\n",
              " 'amount': 683,\n",
              " 'dim': 684,\n",
              " 'bool': 685,\n",
              " 'though': 686,\n",
              " 'res': 687,\n",
              " '2008': 688,\n",
              " 'uri': 689,\n",
              " 'products': 690,\n",
              " 'drop': 691,\n",
              " 'customer': 692,\n",
              " 'oncreate': 693,\n",
              " 'email': 694,\n",
              " 'stuff': 695,\n",
              " 'suggestions': 696,\n",
              " 'range': 697,\n",
              " 'kind': 698,\n",
              " 'inner': 699,\n",
              " 'solve': 700,\n",
              " 'machine': 701,\n",
              " 'several': 702,\n",
              " 'words': 703,\n",
              " 'dynamically': 704,\n",
              " 'basic': 705,\n",
              " 'release': 706,\n",
              " 'maybe': 707,\n",
              " 'displayed': 708,\n",
              " 'large': 709,\n",
              " 'collection': 710,\n",
              " 'database': 711,\n",
              " 'visible': 712,\n",
              " '40': 713,\n",
              " 'generate': 714,\n",
              " 'per': 715,\n",
              " 'thought': 716,\n",
              " 'resources': 717,\n",
              " 'problems': 718,\n",
              " 'showing': 719,\n",
              " 'usr': 720,\n",
              " 'ip': 721,\n",
              " 'profile': 722,\n",
              " 'download': 723,\n",
              " 'byte': 724,\n",
              " 'drawable': 725,\n",
              " 'written': 726,\n",
              " 'is': 727,\n",
              " 'install': 728,\n",
              " 'gems': 729,\n",
              " 'updated': 730,\n",
              " 'calls': 731,\n",
              " 'previous': 732,\n",
              " 'people': 733,\n",
              " 'old': 734,\n",
              " 'reading': 735,\n",
              " 'define': 736,\n",
              " 'v': 737,\n",
              " 'installed': 738,\n",
              " 'attributes': 739,\n",
              " 'printf': 740,\n",
              " 'types': 741,\n",
              " 'require': 742,\n",
              " 'development': 743,\n",
              " 'particular': 744,\n",
              " 'comments': 745,\n",
              " 'achieve': 746,\n",
              " 'push': 747,\n",
              " 'returned': 748,\n",
              " 'expected': 749,\n",
              " 'object': 750,\n",
              " 'whole': 751,\n",
              " 'original': 752,\n",
              " 'o': 753,\n",
              " 'takes': 754,\n",
              " 'binding': 755,\n",
              " 'scroll': 756,\n",
              " 'render': 757,\n",
              " 'cout': 758,\n",
              " 'whether': 759,\n",
              " 'util': 760,\n",
              " 'never': 761,\n",
              " 'little': 762,\n",
              " 'exist': 763,\n",
              " 'dynamic': 764,\n",
              " 'windows': 765,\n",
              " 'unique': 766,\n",
              " 'buffer': 767,\n",
              " 'nbsp': 768,\n",
              " 'lia': 769,\n",
              " 'remote': 770,\n",
              " 'normal': 771,\n",
              " 'global': 772,\n",
              " '1000': 773,\n",
              " 'retrieve': 774,\n",
              " '32': 775,\n",
              " 'undefined': 776,\n",
              " 'approach': 777,\n",
              " 'ex': 778,\n",
              " 'encoding': 779,\n",
              " 'messages': 780,\n",
              " 'automatically': 781,\n",
              " 'exit': 782,\n",
              " 'namespace': 783,\n",
              " 'book': 784,\n",
              " 'seconds': 785,\n",
              " 'activitythread': 786,\n",
              " 'explain': 787,\n",
              " 'unable': 788,\n",
              " 'begin': 789,\n",
              " 'area': 790,\n",
              " 'radio': 791,\n",
              " 'city': 792,\n",
              " 'started': 793,\n",
              " 'easy': 794,\n",
              " 'red': 795,\n",
              " 'switch': 796,\n",
              " 'port': 797,\n",
              " 'bin': 798,\n",
              " 'springframework': 799,\n",
              " '31': 800,\n",
              " 'ruby': 801,\n",
              " 'come': 802,\n",
              " 'step': 803,\n",
              " 'days': 804,\n",
              " 'meta': 805,\n",
              " 'search': 806,\n",
              " 'token': 807,\n",
              " 'alt': 808,\n",
              " 'projects': 809,\n",
              " 'company': 810,\n",
              " 'simply': 811,\n",
              " 'resource': 812,\n",
              " 'dll': 813,\n",
              " 'pointer': 814,\n",
              " 'of': 815,\n",
              " 'properly': 816,\n",
              " 'services': 817,\n",
              " 'en': 818,\n",
              " 'goes': 819,\n",
              " '000': 820,\n",
              " 'contain': 821,\n",
              " 'https': 822,\n",
              " 'rather': 823,\n",
              " 'player': 824,\n",
              " 'hover': 825,\n",
              " 'tableview': 826,\n",
              " 'userid': 827,\n",
              " 'separate': 828,\n",
              " 'setup': 829,\n",
              " 'us': 830,\n",
              " 'stack': 831,\n",
              " 'j': 832,\n",
              " 'network': 833,\n",
              " 'dont': 834,\n",
              " 'sql': 835,\n",
              " 'maps': 836,\n",
              " 'course': 837,\n",
              " 'sent': 838,\n",
              " 'warning': 839,\n",
              " 'blank': 840,\n",
              " 'ms': 841,\n",
              " '0px': 842,\n",
              " 'follows': 843,\n",
              " 'vs': 844,\n",
              " 'says': 845,\n",
              " 'shown': 846,\n",
              " 'happens': 847,\n",
              " 'except': 848,\n",
              " 'existing': 849,\n",
              " 'hi': 850,\n",
              " 'member': 851,\n",
              " 'stream': 852,\n",
              " 'nslog': 853,\n",
              " 'complete': 854,\n",
              " 'queries': 855,\n",
              " 'related': 856,\n",
              " 'great': 857,\n",
              " 'invoke': 858,\n",
              " 'linearlayout': 859,\n",
              " '27': 860,\n",
              " 'appear': 861,\n",
              " 'io': 862,\n",
              " 'the': 863,\n",
              " 'bind': 864,\n",
              " 'makes': 865,\n",
              " 'role': 866,\n",
              " '28': 867,\n",
              " 'cmd': 868,\n",
              " 'die': 869,\n",
              " 'invalid': 870,\n",
              " 'panel': 871,\n",
              " 'means': 872,\n",
              " 'changing': 873,\n",
              " 'validate': 874,\n",
              " 'country': 875,\n",
              " 'all': 876,\n",
              " 'white': 877,\n",
              " 'external': 878,\n",
              " 'standard': 879,\n",
              " 'canvas': 880,\n",
              " 'counter': 881,\n",
              " 'apply': 882,\n",
              " '26': 883,\n",
              " 'savedinstancestate': 884,\n",
              " 'wp': 885,\n",
              " 'appears': 886,\n",
              " 'facebook': 887,\n",
              " 'actual': 888,\n",
              " 'constructor': 889,\n",
              " 'native': 890,\n",
              " \"'a\": 891,\n",
              " '29': 892,\n",
              " 'play': 893,\n",
              " 'master': 894,\n",
              " \"'ll\": 895,\n",
              " 'pretty': 896,\n",
              " 're': 897,\n",
              " '1px': 898,\n",
              " 'children': 899,\n",
              " 'points': 900,\n",
              " 'runtime': 901,\n",
              " \"'id\": 902,\n",
              " 'compile': 903,\n",
              " 'engine': 904,\n",
              " 'keys': 905,\n",
              " 'imageview': 906,\n",
              " 'hibernate': 907,\n",
              " 'on': 908,\n",
              " 'wo': 909,\n",
              " 'rewriterule': 910,\n",
              " 'runs': 911,\n",
              " 'solid': 912,\n",
              " 'implementation': 913,\n",
              " 'programming': 914,\n",
              " 'provide': 915,\n",
              " 'bad': 916,\n",
              " 'weight': 917,\n",
              " 'abc': 918,\n",
              " 'exactly': 919,\n",
              " '’': 920,\n",
              " 'dbo': 921,\n",
              " 'internet': 922,\n",
              " 'media': 923,\n",
              " '500': 924,\n",
              " 'quite': 925,\n",
              " 'callback': 926,\n",
              " 'desc': 927,\n",
              " 'fixed': 928,\n",
              " 'generic': 929,\n",
              " 'equals': 930,\n",
              " '255': 931,\n",
              " 'common': 932,\n",
              " 'struct': 933,\n",
              " 'matrix': 934,\n",
              " 'starting': 935,\n",
              " 'cat': 936,\n",
              " 'wanted': 937,\n",
              " 'picture': 938,\n",
              " '60': 939,\n",
              " 'thinking': 940,\n",
              " 'getstring': 941,\n",
              " 'computer': 942,\n",
              " 'comes': 943,\n",
              " 'exe': 944,\n",
              " 'scripts': 945,\n",
              " 'hours': 946,\n",
              " 'procedure': 947,\n",
              " 'firstname': 948,\n",
              " 'free': 949,\n",
              " 'permission': 950,\n",
              " 'seen': 951,\n",
              " 'selector': 952,\n",
              " 'directly': 953,\n",
              " 'yet': 954,\n",
              " 'hash': 955,\n",
              " 'article': 956,\n",
              " 'settext': 957,\n",
              " 'throws': 958,\n",
              " 'tabs': 959,\n",
              " 'eventargs': 960,\n",
              " 'passed': 961,\n",
              " 'matches': 962,\n",
              " 'unit': 963,\n",
              " 'jsfiddle': 964,\n",
              " 'javax': 965,\n",
              " 'dropdown': 966,\n",
              " 'apps': 967,\n",
              " 'building': 968,\n",
              " 'issues': 969,\n",
              " 'condition': 970,\n",
              " 'needed': 971,\n",
              " 'sun': 972,\n",
              " 'effect': 973,\n",
              " 'con': 974,\n",
              " 'textarea': 975,\n",
              " 'anybody': 976,\n",
              " 'passing': 977,\n",
              " 'named': 978,\n",
              " 'environment': 979,\n",
              " 'relative': 980,\n",
              " 'dir': 981,\n",
              " 'partial': 982,\n",
              " 'requests': 983,\n",
              " 'nav': 984,\n",
              " 'mouse': 985,\n",
              " 'job': 986,\n",
              " 'unknown': 987,\n",
              " 'live': 988,\n",
              " 'applications': 989,\n",
              " 'gif': 990,\n",
              " 'guess': 991,\n",
              " 'refresh': 992,\n",
              " 'extra': 993,\n",
              " 'avoid': 994,\n",
              " 'sdk': 995,\n",
              " 'arr': 996,\n",
              " 'toast': 997,\n",
              " 'rewrite': 998,\n",
              " 'delegate': 999,\n",
              " 'student': 1000,\n",
              " ...}"
            ]
          },
          "metadata": {
            "tags": []
          },
          "execution_count": 64
        }
      ]
    },
    {
      "cell_type": "markdown",
      "metadata": {
        "id": "fYQZWtjmtJe4",
        "colab_type": "text"
      },
      "source": [
        "When all the data is converted and transformed, we then save the Processed Data"
      ]
    },
    {
      "cell_type": "markdown",
      "metadata": {
        "id": "5XDrlCXfb08B",
        "colab_type": "text"
      },
      "source": [
        "# 6. Building and Training the Model"
      ]
    },
    {
      "cell_type": "code",
      "metadata": {
        "id": "l4Vw4VfNb31I",
        "colab_type": "code",
        "colab": {}
      },
      "source": [
        "import pickle\n",
        "\n",
        "with open('/content/processor_state.pkl', 'wb') as f:\n",
        "  pickle.dump(processor, f)"
      ],
      "execution_count": 0,
      "outputs": []
    },
    {
      "cell_type": "markdown",
      "metadata": {
        "id": "Ks2M4fbgtdwL",
        "colab_type": "text"
      },
      "source": [
        "\n",
        "### Model</br>\n",
        "\n",
        " - The Model is a sequential model comprising of different Layers\n",
        "\t\t - Input Layer(shape = 50)\n",
        "\t\t - Dense/ Fully Connected Layer(shape = 80)\n",
        "\t\t - Dense/ Fully Connected Layer(shape = 140)\n",
        "\t\t - Output Layer(shape = 100)\n",
        "\t\n",
        " - The First Three Layers use Relu Activation function whereas the last layer uses Sigmoid Activation function to output if a tag is related or not.</br>\n",
        " - Sigmoid outputs values between [0,1], so this tells of strong or how weak is a tag related.</br>\n",
        " - Extensively uses Tensorflow and keras.</br>\n"
      ]
    },
    {
      "cell_type": "code",
      "metadata": {
        "id": "kiY3HZ2Wb8QU",
        "colab_type": "code",
        "colab": {}
      },
      "source": [
        "def create_model(vocab_size, num_tags):\n",
        "  \n",
        "  model = tf.keras.models.Sequential()\n",
        "  model.add(tf.keras.layers.Dense(480, input_shape=(VOCAB_SIZE,), activation='relu'))\n",
        "  model.add(tf.keras.layers.Dense(360, activation='relu'))\n",
        "  model.add(tf.keras.layers.Dense(320, activation='relu'))\n",
        "  model.add(tf.keras.layers.Dense(num_tags, activation='sigmoid'))\n",
        "\n",
        "\n",
        "  model.compile(loss='binary_crossentropy', optimizer='adam', metrics=['accuracy'])\n",
        "  return model"
      ],
      "execution_count": 0,
      "outputs": []
    },
    {
      "cell_type": "code",
      "metadata": {
        "id": "r1Slq9llcDao",
        "colab_type": "code",
        "outputId": "02335d4a-9389-4d31-8013-ec4d853bd2f0",
        "colab": {
          "base_uri": "https://localhost:8080/",
          "height": 558
        }
      },
      "source": [
        "model = create_model(VOCAB_SIZE, num_tags)\n",
        "model.summary()\n",
        "\n",
        "# Train and evaluate the model\n",
        "model.fit(body_train, train_tags, epochs=3, batch_size=256, validation_split=0.1)\n",
        "print('Eval loss/accuracy:{}'.format(\n",
        "model.evaluate(body_test, test_tags, batch_size=256)))\n",
        "\n",
        "# Export the model to a file\n",
        "model.save('keras_saved_model.h5')"
      ],
      "execution_count": 0,
      "outputs": [
        {
          "output_type": "stream",
          "text": [
            "WARNING:tensorflow:From /usr/local/lib/python3.6/dist-packages/tensorflow/python/ops/init_ops.py:1251: calling VarianceScaling.__init__ (from tensorflow.python.ops.init_ops) with dtype is deprecated and will be removed in a future version.\n",
            "Instructions for updating:\n",
            "Call initializer instance with the dtype argument instead of passing it to the constructor\n",
            "WARNING:tensorflow:From /usr/local/lib/python3.6/dist-packages/tensorflow/python/ops/nn_impl.py:180: add_dispatch_support.<locals>.wrapper (from tensorflow.python.ops.array_ops) is deprecated and will be removed in a future version.\n",
            "Instructions for updating:\n",
            "Use tf.where in 2.0, which has the same broadcast rule as np.where\n",
            "Model: \"sequential\"\n",
            "_________________________________________________________________\n",
            "Layer (type)                 Output Shape              Param #   \n",
            "=================================================================\n",
            "dense (Dense)                (None, 480)               240480    \n",
            "_________________________________________________________________\n",
            "dense_1 (Dense)              (None, 360)               173160    \n",
            "_________________________________________________________________\n",
            "dense_2 (Dense)              (None, 320)               115520    \n",
            "_________________________________________________________________\n",
            "dense_3 (Dense)              (None, 200)               64200     \n",
            "=================================================================\n",
            "Total params: 593,360\n",
            "Trainable params: 593,360\n",
            "Non-trainable params: 0\n",
            "_________________________________________________________________\n",
            "Train on 504000 samples, validate on 56000 samples\n",
            "Epoch 1/3\n",
            "504000/504000 [==============================] - 23s 45us/sample - loss: 0.0367 - acc: 0.9904 - val_loss: 0.0298 - val_acc: 0.9916\n",
            "Epoch 2/3\n",
            "504000/504000 [==============================] - 8s 17us/sample - loss: 0.0287 - acc: 0.9917 - val_loss: 0.0287 - val_acc: 0.9917\n",
            "Epoch 3/3\n",
            "504000/504000 [==============================] - 8s 17us/sample - loss: 0.0275 - acc: 0.9919 - val_loss: 0.0283 - val_acc: 0.9918\n",
            "140000/140000 [==============================] - 1s 9us/sample - loss: 0.0283 - acc: 0.9918\n",
            "Eval loss/accuracy:[0.02833904701088156, 0.9917958]\n"
          ],
          "name": "stdout"
        }
      ]
    },
    {
      "cell_type": "markdown",
      "metadata": {
        "id": "KTfWQCwYDrO9",
        "colab_type": "text"
      },
      "source": [
        "\n",
        "### Performance on Validation Set\n",
        "\n",
        " - The Model performs well on the cross validation set while training as well as on test set.\n",
        " - Accuracy = 98%\n"
      ]
    },
    {
      "cell_type": "code",
      "metadata": {
        "id": "d68ILGe5Dpkp",
        "colab_type": "code",
        "outputId": "608e94ef-db20-4bbf-f413-aa3f76cd500c",
        "colab": {
          "base_uri": "https://localhost:8080/",
          "height": 50
        }
      },
      "source": [
        "print('Eval loss/accuracy:{}'.format(\n",
        "model.evaluate(body_test, test_tags, batch_size=2048)))"
      ],
      "execution_count": 0,
      "outputs": [
        {
          "output_type": "stream",
          "text": [
            "140000/140000 [==============================] - 2s 13us/sample - loss: 0.0283 - acc: 0.9918\n",
            "Eval loss/accuracy:[0.028339047020248004, 0.9917963]\n"
          ],
          "name": "stdout"
        }
      ]
    },
    {
      "cell_type": "markdown",
      "metadata": {
        "id": "gtQHvlX03xtn",
        "colab_type": "text"
      },
      "source": [
        "#7. Predictions"
      ]
    },
    {
      "cell_type": "code",
      "metadata": {
        "id": "IOi0kmhTcy86",
        "colab_type": "code",
        "outputId": "dfee4a36-98ea-4e93-f1f3-1372aa7e9d38",
        "colab": {
          "base_uri": "https://localhost:8080/",
          "height": 34
        }
      },
      "source": [
        "%%writefile model_prediction.py\n",
        "import pickle\n",
        "import os\n",
        "import numpy as np\n",
        "\n",
        "class CustomModelPrediction(object):\n",
        "\n",
        "  def __init__(self, model, processor):\n",
        "    self._model = model\n",
        "    self._processor = processor\n",
        "  \n",
        "  def predict(self, instances, **kwargs):\n",
        "    preprocessed_data = self._processor.transform_text(instances)\n",
        "    predictions = self._model.predict(preprocessed_data)\n",
        "    return predictions.tolist()\n",
        "\n",
        "  @classmethod\n",
        "  def from_path(cls, model_dir):\n",
        "    import tensorflow.keras as keras\n",
        "    model = keras.models.load_model(\n",
        "      os.path.join(model_dir,'keras_saved_model.h5'))\n",
        "    with open(os.path.join(model_dir, 'processor_state.pkl'), 'rb') as f:\n",
        "      processor = pickle.load(f)\n",
        "\n",
        "    return cls(model, processor)"
      ],
      "execution_count": 0,
      "outputs": [
        {
          "output_type": "stream",
          "text": [
            "Writing model_prediction.py\n"
          ],
          "name": "stdout"
        }
      ]
    },
    {
      "cell_type": "markdown",
      "metadata": {
        "id": "NcYillAD9Qfs",
        "colab_type": "text"
      },
      "source": [
        "## Write the Question in the test_request Variable"
      ]
    },
    {
      "cell_type": "code",
      "metadata": {
        "id": "liIYwljF9Xy3",
        "colab_type": "code",
        "colab": {}
      },
      "source": [
        "test_requests = [\"enter image description hererecently I had this problem while starting a new project, and while working on dependencies I had to import DaggerApplicationInjection class from java generated, but I can't .. has anyone an Idea how to resolve it or know what it is about ?\"]"
      ],
      "execution_count": 0,
      "outputs": []
    },
    {
      "cell_type": "code",
      "metadata": {
        "id": "RLg7V3-Qc2li",
        "colab_type": "code",
        "outputId": "08310563-e9fb-4ef5-d5fd-ffb7c6ef4658",
        "colab": {
          "base_uri": "https://localhost:8080/",
          "height": 168
        }
      },
      "source": [
        "from model_prediction import CustomModelPrediction\n",
        "\n",
        "classifier = CustomModelPrediction.from_path('/content')\n",
        "results = classifier.predict(test_requests)\n",
        "#print(results)\n",
        "\n",
        "for i in range(len(results)):\n",
        "  print('Predicted labels:')\n",
        "  for idx,val in enumerate(results[i]):\n",
        "    if val > 0.1:\n",
        "      print(tag_encoder.classes_[idx])\n",
        "      print(val)\n",
        "  print('\\n')"
      ],
      "execution_count": 0,
      "outputs": [
        {
          "output_type": "stream",
          "text": [
            "Predicted labels:\n",
            "android\n",
            "0.3953574299812317\n",
            "eclipse\n",
            "0.20225611329078674\n",
            "java\n",
            "0.6330957412719727\n",
            "\n",
            "\n"
          ],
          "name": "stdout"
        }
      ]
    },
    {
      "cell_type": "markdown",
      "metadata": {
        "id": "BSpTNEHz8k9v",
        "colab_type": "text"
      },
      "source": [
        "# Hardware and Software Used:\n",
        "\n",
        "\n",
        "*   GPU: Tesla T4\n",
        "\n",
        "*   RAM: 25.81 GB\n",
        "*   Softwares: Pandas, Keras, Tensorflow, Sklearn, nltk, pickle\n",
        "\n",
        "\n",
        "\n"
      ]
    },
    {
      "cell_type": "code",
      "metadata": {
        "id": "UVnwtjI0zIv2",
        "colab_type": "code",
        "outputId": "ce00d75f-c3c1-4125-ab8c-1afb03cd63f4",
        "colab": {
          "base_uri": "https://localhost:8080/",
          "height": 470
        }
      },
      "source": [
        "from tensorflow.python.client import device_lib\n",
        "device_lib.list_local_devices()"
      ],
      "execution_count": 0,
      "outputs": [
        {
          "output_type": "execute_result",
          "data": {
            "text/plain": [
              "[name: \"/device:CPU:0\"\n",
              " device_type: \"CPU\"\n",
              " memory_limit: 268435456\n",
              " locality {\n",
              " }\n",
              " incarnation: 8798907438853032785, name: \"/device:XLA_CPU:0\"\n",
              " device_type: \"XLA_CPU\"\n",
              " memory_limit: 17179869184\n",
              " locality {\n",
              " }\n",
              " incarnation: 17654958511962880217\n",
              " physical_device_desc: \"device: XLA_CPU device\", name: \"/device:XLA_GPU:0\"\n",
              " device_type: \"XLA_GPU\"\n",
              " memory_limit: 17179869184\n",
              " locality {\n",
              " }\n",
              " incarnation: 9744206611959780222\n",
              " physical_device_desc: \"device: XLA_GPU device\", name: \"/device:GPU:0\"\n",
              " device_type: \"GPU\"\n",
              " memory_limit: 14912199066\n",
              " locality {\n",
              "   bus_id: 1\n",
              "   links {\n",
              "   }\n",
              " }\n",
              " incarnation: 12613631813494626021\n",
              " physical_device_desc: \"device: 0, name: Tesla T4, pci bus id: 0000:00:04.0, compute capability: 7.5\"]"
            ]
          },
          "metadata": {
            "tags": []
          },
          "execution_count": 53
        }
      ]
    },
    {
      "cell_type": "code",
      "metadata": {
        "id": "Vxz-_WPmi3ve",
        "colab_type": "code",
        "colab": {}
      },
      "source": [
        "!cp Train_Processed.csv /content/drive/My\\ Drive/Syn"
      ],
      "execution_count": 0,
      "outputs": []
    },
    {
      "cell_type": "code",
      "metadata": {
        "id": "tPw0hPz_LHiO",
        "colab_type": "code",
        "colab": {}
      },
      "source": [
        "!cp processor_state.pkl /content/drive/My\\ Drive/Syn"
      ],
      "execution_count": 0,
      "outputs": []
    },
    {
      "cell_type": "code",
      "metadata": {
        "id": "CdIb7NCHjXwQ",
        "colab_type": "code",
        "colab": {}
      },
      "source": [
        "!cp keras_saved_model.h5 /content/drive/My\\ Drive/Syn"
      ],
      "execution_count": 0,
      "outputs": []
    },
    {
      "cell_type": "code",
      "metadata": {
        "id": "sRXKyHvfjc1c",
        "colab_type": "code",
        "colab": {}
      },
      "source": [
        "!cp preprocess.py /content/drive/My\\ Drive/Syn"
      ],
      "execution_count": 0,
      "outputs": []
    },
    {
      "cell_type": "code",
      "metadata": {
        "id": "NwJZo0RJj5c9",
        "colab_type": "code",
        "colab": {}
      },
      "source": [
        "!cp model_prediction.py /content/drive/My\\ Drive/Syn"
      ],
      "execution_count": 0,
      "outputs": []
    },
    {
      "cell_type": "code",
      "metadata": {
        "id": "-_Oawxdd4zbM",
        "colab_type": "code",
        "colab": {}
      },
      "source": [
        "\n",
        "# Authenticate to your cloud account\n",
        "from google.colab import auth\n",
        "auth.authenticate_user()"
      ],
      "execution_count": 0,
      "outputs": []
    },
    {
      "cell_type": "code",
      "metadata": {
        "id": "nrrayGuYkBKI",
        "colab_type": "code",
        "outputId": "dbce53f9-d8eb-4246-a7cb-90f4714d748c",
        "colab": {
          "base_uri": "https://localhost:8080/",
          "height": 34
        }
      },
      "source": [
        "%%writefile setup.py\n",
        "\n",
        "from setuptools import setup\n",
        "\n",
        "setup(\n",
        "  name=\"so_predict\",\n",
        "  version=\"0.1\",\n",
        "  include_package_data=True,\n",
        "  scripts=[\"preprocess.py\", \"model_prediction.py\"]\n",
        ")"
      ],
      "execution_count": 0,
      "outputs": [
        {
          "output_type": "stream",
          "text": [
            "Writing setup.py\n"
          ],
          "name": "stdout"
        }
      ]
    },
    {
      "cell_type": "code",
      "metadata": {
        "id": "au7EYD5a38LY",
        "colab_type": "code",
        "outputId": "7cb805a4-595b-4ec3-9854-90fcac0e8e72",
        "colab": {
          "base_uri": "https://localhost:8080/",
          "height": 118
        }
      },
      "source": [
        "## Replace this with the name of your Cloud Storage bucket\n",
        "\n",
        "!gsutil cp keras_saved_model.h5 gs://stacktags\n",
        "!gsutil cp processor_state.pkl gs://stacktags"
      ],
      "execution_count": 0,
      "outputs": [
        {
          "output_type": "stream",
          "text": [
            "Copying file://keras_saved_model.h5 [Content-Type=application/octet-stream]...\n",
            "-\n",
            "Operation completed over 1 objects/6.8 MiB.                                      \n",
            "Copying file://processor_state.pkl [Content-Type=application/octet-stream]...\n",
            "\\\n",
            "Operation completed over 1 objects/61.3 MiB.                                     \n"
          ],
          "name": "stdout"
        }
      ]
    },
    {
      "cell_type": "code",
      "metadata": {
        "id": "J6-HFiN44Y63",
        "colab_type": "code",
        "outputId": "a3fddf8a-a024-496c-dcfb-bd338dbb4123",
        "colab": {
          "base_uri": "https://localhost:8080/",
          "height": 541
        }
      },
      "source": [
        "# Replace with your bucket name below\n",
        "!python setup.py sdist\n",
        "!gsutil cp ./dist/so_predict-0.1.tar.gz gs://stacktags/packages/so_predict-0.1.tar.gz"
      ],
      "execution_count": 0,
      "outputs": [
        {
          "output_type": "stream",
          "text": [
            "running sdist\n",
            "running egg_info\n",
            "writing so_predict.egg-info/PKG-INFO\n",
            "writing dependency_links to so_predict.egg-info/dependency_links.txt\n",
            "writing top-level names to so_predict.egg-info/top_level.txt\n",
            "reading manifest file 'so_predict.egg-info/SOURCES.txt'\n",
            "writing manifest file 'so_predict.egg-info/SOURCES.txt'\n",
            "warning: sdist: standard file not found: should have one of README, README.rst, README.txt, README.md\n",
            "\n",
            "running check\n",
            "warning: check: missing required meta-data: url\n",
            "\n",
            "warning: check: missing meta-data: either (author and author_email) or (maintainer and maintainer_email) must be supplied\n",
            "\n",
            "creating so_predict-0.1\n",
            "creating so_predict-0.1/so_predict.egg-info\n",
            "copying files to so_predict-0.1...\n",
            "copying model_prediction.py -> so_predict-0.1\n",
            "copying preprocess.py -> so_predict-0.1\n",
            "copying setup.py -> so_predict-0.1\n",
            "copying so_predict.egg-info/PKG-INFO -> so_predict-0.1/so_predict.egg-info\n",
            "copying so_predict.egg-info/SOURCES.txt -> so_predict-0.1/so_predict.egg-info\n",
            "copying so_predict.egg-info/dependency_links.txt -> so_predict-0.1/so_predict.egg-info\n",
            "copying so_predict.egg-info/top_level.txt -> so_predict-0.1/so_predict.egg-info\n",
            "Writing so_predict-0.1/setup.cfg\n",
            "Creating tar archive\n",
            "removing 'so_predict-0.1' (and everything under it)\n",
            "Copying file://./dist/so_predict-0.1.tar.gz [Content-Type=application/x-tar]...\n",
            "-\n",
            "Operation completed over 1 objects/1.1 KiB.                                      \n"
          ],
          "name": "stdout"
        }
      ]
    },
    {
      "cell_type": "code",
      "metadata": {
        "id": "5H4U-X_V5SQm",
        "colab_type": "code",
        "outputId": "ff399fe4-f755-4d84-dfc7-d32f9387fa84",
        "colab": {
          "base_uri": "https://localhost:8080/",
          "height": 118
        }
      },
      "source": [
        "!gcloud config set project \tdecent-oxygen-242311"
      ],
      "execution_count": 0,
      "outputs": [
        {
          "output_type": "stream",
          "text": [
            "Updated property [core/project].\n",
            "\n",
            "\n",
            "To take a quick anonymous survey, run:\n",
            "  $ gcloud alpha survey\n",
            "\n"
          ],
          "name": "stdout"
        }
      ]
    },
    {
      "cell_type": "code",
      "metadata": {
        "id": "omFkkQv85vpz",
        "colab_type": "code",
        "outputId": "fa334780-3acd-494e-b830-0164e9ec714f",
        "colab": {
          "base_uri": "https://localhost:8080/",
          "height": 87
        }
      },
      "source": [
        "!gcloud ml-engine models create stack_tag_predict"
      ],
      "execution_count": 0,
      "outputs": [
        {
          "output_type": "stream",
          "text": [
            "\u001b[1;33mWARNING:\u001b[0m The `gcloud ml-engine` commands have been renamed and will soon be removed. Please use `gcloud ai-platform` instead.\n",
            "\u001b[1;33mWARNING:\u001b[0m `--regions` flag will soon be required. Please explicitly specify a region. Using [us-central1] by default.\n",
            "Created ml engine model [projects/decent-oxygen-242311/models/stack_tag_predict].\n"
          ],
          "name": "stdout"
        }
      ]
    },
    {
      "cell_type": "code",
      "metadata": {
        "id": "nhLJD6qg5-tg",
        "colab_type": "code",
        "outputId": "16ae40bc-fb64-4fbf-eaa0-7dd245d0a041",
        "colab": {
          "base_uri": "https://localhost:8080/",
          "height": 70
        }
      },
      "source": [
        "# To use this custom code feature, fill out this form: bit.ly/cmle-custom-code-signup\n",
        "!gcloud alpha ml-engine versions create v1 --model stack_tag_predict \\\n",
        "--origin=gs://stacktags/ \\\n",
        "--python-version=3.5 \\\n",
        "--runtime-version=1.13 \\\n",
        "--package-uris=gs://stacktags/packages/so_predict-0.1.tar.gz \\\n",
        "--prediction-class=model_prediction.CustomModelPrediction"
      ],
      "execution_count": 0,
      "outputs": [
        {
          "output_type": "stream",
          "text": [
            "\u001b[1;33mWARNING:\u001b[0m The `gcloud ml-engine` commands have been renamed and will soon be removed. Please use `gcloud ai-platform` instead.\n",
            "\u001b[1;31mERROR:\u001b[0m (gcloud.alpha.ml-engine.versions.create) Create Version failed. Bad model detected with error:  \"Failed to load model: Unexpected error when loading the model: Unexpected keyword argument passed to optimizer: learning_rate (Error code: 0)\"\n"
          ],
          "name": "stdout"
        }
      ]
    },
    {
      "cell_type": "code",
      "metadata": {
        "id": "c2KWqjuR7Bya",
        "colab_type": "code",
        "outputId": "1f21c8e4-6956-47ef-8da7-82317f53dec7",
        "colab": {
          "base_uri": "https://localhost:8080/",
          "height": 54
        }
      },
      "source": [
        "tf.version"
      ],
      "execution_count": 0,
      "outputs": [
        {
          "output_type": "execute_result",
          "data": {
            "text/plain": [
              "<module 'tensorflow._api.v1.version' from '/usr/local/lib/python3.6/dist-packages/tensorflow/_api/v1/version/__init__.py'>"
            ]
          },
          "metadata": {
            "tags": []
          },
          "execution_count": 100
        }
      ]
    },
    {
      "cell_type": "code",
      "metadata": {
        "id": "IXXm9ctw95tZ",
        "colab_type": "code",
        "outputId": "023d1006-c85c-4adf-d599-b57c43c1b237",
        "colab": {
          "base_uri": "https://localhost:8080/",
          "height": 34
        }
      },
      "source": [
        "%%writefile predictions.txt\n",
        "\" want to create a list of 'Yes' buttons so I can loop through the list and click the 'Yes' button instead of targetting them individually. I'm getting an incorrect count when I try to add them to the list because I'm not sure how to ignore the empty columns within each section and each section has a different number of buttons. I came close to solving this by using two for loops but I'm not sure how to deal with the empty columns so it messes my loop up. Any tips or help is greatly appreciated. I'm quite new to the framework so learning how to solve something like this would be great for my development. I thought I could just search for all buttons and loop through them using indexing but that didn't seem to work:\""
      ],
      "execution_count": 0,
      "outputs": [
        {
          "output_type": "stream",
          "text": [
            "Overwriting predictions.txt\n"
          ],
          "name": "stdout"
        }
      ]
    },
    {
      "cell_type": "code",
      "metadata": {
        "id": "Yp61Dw7g--hq",
        "colab_type": "code",
        "outputId": "4679bd3c-8e61-4560-fabe-12dc6265bada",
        "colab": {
          "base_uri": "https://localhost:8080/",
          "height": 54
        }
      },
      "source": [
        "\n",
        "# Get predictions from our trained model\n",
        "predictions = !gcloud ai-platform predict --model='stack_tag_predict' --text-instances=predictions.txt --version=v2\n",
        "print(predictions)"
      ],
      "execution_count": 0,
      "outputs": [
        {
          "output_type": "stream",
          "text": [
            "['[[4.738569259643555e-06, 0.16678136587142944, 0.00750848650932312, 0.0014092028141021729, 0.0008029341697692871, 0.0008700191974639893, 1.8209218978881836e-05, 0.0008295774459838867, 7.596611976623535e-05, 1.4185905456542969e-05, 0.00038865208625793457, 0.01861727237701416, 0.047030627727508545, 0.008950591087341309, 0.004727780818939209, 3.269314765930176e-05, 0.00037792325019836426, 0.0001570582389831543, 0.000978320837020874, 0.6267008185386658, 0.028247088193893433, 0.026131629943847656, 0.0005345642566680908, 0.00012174248695373535, 7.987022399902344e-06, 0.024436771869659424, 0.0012642741203308105, 0.00024363398551940918, 0.00039643049240112305, 0.00017842650413513184, 0.00020182132720947266, 0.0005689859390258789, 0.00020197033882141113, 0.005464732646942139, 0.0018385052680969238, 9.763240814208984e-05, 0.0002669990062713623, 0.0012146234512329102, 0.002485036849975586, 0.005331218242645264, 0.014180600643157959, 0.001962631940841675, 7.420778274536133e-06, 0.0005295276641845703, 4.7326087951660156e-05, 0.0006408393383026123, 0.0005717575550079346, 0.3869989812374115, 0.008653253316879272, 0.0041509270668029785, 0.0007932186126708984, 7.340312004089355e-05, 2.154707908630371e-05, 0.000650942325592041, 0.00010845065116882324, 0.0034203529357910156, 0.004013955593109131, 0.018074631690979004, 0.003904789686203003, 0.0024269521236419678, 0.00011032819747924805, 1.940131187438965e-05, 3.743171691894531e-05, 4.106760025024414e-05, 6.142258644104004e-05, 0.0005299746990203857, 0.01103132963180542, 0.0005920827388763428, 7.62939453125e-05, 0.003455430269241333, 0.0038006603717803955, 0.0029070377349853516, 0.0003457963466644287, 4.073977470397949e-05, 0.00011557340621948242, 0.000233381986618042, 3.0875205993652344e-05, 0.0002098679542541504, 0.0002918839454650879, 0.00024774670600891113, 0.0006018579006195068, 0.008022844791412354, 0.000454634428024292, 0.008076369762420654, 0.019093066453933716, 0.0004393160343170166, 0.00027674436569213867, 0.0005347132682800293, 0.0011473894119262695, 0.0004552602767944336, 0.0002054274082183838, 8.302927017211914e-05, 0.1756393015384674, 0.0008545517921447754, 0.03399571776390076, 0.0034228861331939697, 0.00012502074241638184, 0.02702084183692932, 0.0008727610111236572, 0.00010091066360473633, 0.0011729001998901367, 8.130073547363281e-05, 0.0004680454730987549, 3.5762786865234375e-06, 0.00023937225341796875, 0.0008828043937683105, 0.010481297969818115, 0.0051038265228271484, 0.012890845537185669, 0.00021567940711975098, 0.0025393664836883545, 0.00012943148612976074, 0.014777958393096924, 0.0007986724376678467, 0.04137665033340454, 0.0001709461212158203, 0.0028494596481323242, 0.002072960138320923, 0.0009740889072418213, 0.00019747018814086914, 3.069639205932617e-05, 0.005568981170654297, 0.00126609206199646, 0.0010405182838439941, 4.661083221435547e-05, 0.0323566198348999, 0.0012901723384857178, 0.004363894462585449, 0.0004144608974456787, 0.0036743581295013428, 0.00537070631980896, 0.011215507984161377, 0.008044958114624023, 0.0015222430229187012, 6.973743438720703e-06, 0.0003161430358886719, 0.0005472004413604736, 0.00018933415412902832, 0.001851797103881836, 0.0010923147201538086, 0.0006710290908813477, 9.807944297790527e-05, 0.0007583498954772949, 0.0002346038818359375, 8.305907249450684e-05, 0.0003077685832977295, 0.0004998445510864258, 0.0002734959125518799, 0.003564000129699707, 0.0004909336566925049, 0.0021173954010009766, 0.0014965236186981201, 0.008099943399429321, 0.009658604860305786, 0.00107496976852417, 0.0019458532333374023, 0.0009088814258575439, 1.043081283569336e-05, 7.033348083496094e-06, 0.00528302788734436, 5.6236982345581055e-05, 0.004425793886184692, 0.003990679979324341, 0.0020078420639038086, 0.0007446408271789551, 2.0772218704223633e-05, 0.001677483320236206, 5.552172660827637e-05, 0.000134199857711792, 0.0033084452152252197, 0.00031235814094543457, 4.4286251068115234e-05, 0.006296068429946899, 0.004539370536804199, 0.018253087997436523, 0.003716379404067993, 1.2516975402832031e-05, 0.0002066195011138916, 0.0031975507736206055, 0.018924802541732788, 0.010114282369613647, 0.04488149285316467, 0.003133803606033325, 0.0007367730140686035, 0.000706404447555542, 0.0006810128688812256, 0.005899965763092041, 0.00018236041069030762, 5.823373794555664e-05, 0.0004245638847351074, 6.002187728881836e-05, 0.00019884109497070312, 0.17418178915977478, 0.00021642446517944336, 0.06402572989463806, 0.00370103120803833, 0.0009739696979522705, 0.0029984116554260254, 0.0004290938377380371, 0.01463383436203003]]']\n"
          ],
          "name": "stdout"
        }
      ]
    },
    {
      "cell_type": "code",
      "metadata": {
        "id": "v2JTqB3V_KgK",
        "colab_type": "code",
        "outputId": "fc354cfe-645f-4ebb-c806-2d6b271fbd30",
        "colab": {
          "base_uri": "https://localhost:8080/",
          "height": 84
        }
      },
      "source": [
        "#print(tag_encoder.classes_, '\\n')\n",
        "for sigmoid_arr in eval(predictions[0]):\n",
        "  #print(sigmoid_arr)\n",
        "  for idx,probability in enumerate(sigmoid_arr):\n",
        "    if probability > 0.3:\n",
        "      print(tag_encoder.classes_[idx])\n",
        "  print('\\n')"
      ],
      "execution_count": 0,
      "outputs": [
        {
          "output_type": "stream",
          "text": [
            "c#\n",
            "entity-framework\n",
            "\n",
            "\n"
          ],
          "name": "stdout"
        }
      ]
    },
    {
      "cell_type": "code",
      "metadata": {
        "id": "jarTD4uM_R30",
        "colab_type": "code",
        "colab": {}
      },
      "source": [
        ""
      ],
      "execution_count": 0,
      "outputs": []
    }
  ]
}