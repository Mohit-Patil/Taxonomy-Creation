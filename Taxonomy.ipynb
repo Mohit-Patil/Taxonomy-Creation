{
  "nbformat": 4,
  "nbformat_minor": 0,
  "metadata": {
    "colab": {
      "name": "Taxonomy.ipynb",
      "version": "0.3.2",
      "provenance": [],
      "collapsed_sections": [
        "GYeCFsOYnqwr",
        "hoLuFPY_sU9Y",
        "0NyAPdAlhQe1",
        "LvHN3pdiyDHw",
        "kVaE4Ck4tPe_",
        "HFQYk8fet-vu",
        "224ARGRiu47e"
      ],
      "machine_shape": "hm",
      "include_colab_link": true
    },
    "kernelspec": {
      "name": "python3",
      "display_name": "Python 3"
    },
    "accelerator": "GPU"
  },
  "cells": [
    {
      "cell_type": "markdown",
      "metadata": {
        "id": "view-in-github",
        "colab_type": "text"
      },
      "source": [
        "<a href=\"https://colab.research.google.com/github/Mohit-Patil/Taxonomy-Creation/blob/master/Taxonomy.ipynb\" target=\"_parent\"><img src=\"https://colab.research.google.com/assets/colab-badge.svg\" alt=\"Open In Colab\"/></a>"
      ]
    },
    {
      "cell_type": "markdown",
      "metadata": {
        "id": "QLV0bQuJghCU",
        "colab_type": "text"
      },
      "source": [
        "# **-----TAXONOMY CREATION-----**"
      ]
    },
    {
      "cell_type": "markdown",
      "metadata": {
        "id": "GYeCFsOYnqwr",
        "colab_type": "text"
      },
      "source": [
        "## 1. Importing Libraries."
      ]
    },
    {
      "cell_type": "code",
      "metadata": {
        "id": "WnRokUZmCAl6",
        "colab_type": "code",
        "outputId": "fde3d591-6de0-4ffe-d1df-35e537c7795b",
        "colab": {
          "base_uri": "https://localhost:8080/",
          "height": 101
        }
      },
      "source": [
        "import pandas as pd\n",
        "import collections\n",
        "import random\n",
        "from bs4 import BeautifulSoup\n",
        "from nltk.corpus import stopwords\n",
        "import re\n",
        "from sklearn.preprocessing import MultiLabelBinarizer\n",
        "from sklearn.utils import shuffle\n",
        "import tensorflow as tf \n",
        "import nltk\n",
        "nltk.download('stopwords')\n",
        "nltk.download('punkt')\n"
      ],
      "execution_count": 1,
      "outputs": [
        {
          "output_type": "stream",
          "text": [
            "[nltk_data] Downloading package stopwords to /root/nltk_data...\n",
            "[nltk_data]   Package stopwords is already up-to-date!\n",
            "[nltk_data] Downloading package punkt to /root/nltk_data...\n",
            "[nltk_data]   Package punkt is already up-to-date!\n"
          ],
          "name": "stdout"
        },
        {
          "output_type": "execute_result",
          "data": {
            "text/plain": [
              "True"
            ]
          },
          "metadata": {
            "tags": []
          },
          "execution_count": 1
        }
      ]
    },
    {
      "cell_type": "markdown",
      "metadata": {
        "id": "hoLuFPY_sU9Y",
        "colab_type": "text"
      },
      "source": [
        "\n",
        "##2. Connecting Google Drive to Save Processed Data sets.\n",
        "\n",
        "* Used to Store Data and Model on the Google Drive.\n",
        "* Data can be recovered if the Run time crashes."
      ]
    },
    {
      "cell_type": "code",
      "metadata": {
        "id": "ME48IUdFYrT-",
        "colab_type": "code",
        "outputId": "4169b8f9-3399-4f2f-882f-79f1f75b26bf",
        "colab": {
          "base_uri": "https://localhost:8080/",
          "height": 34
        }
      },
      "source": [
        "from google.colab import drive\n",
        "drive.mount('/content/drive')"
      ],
      "execution_count": 0,
      "outputs": [
        {
          "output_type": "stream",
          "text": [
            "Drive already mounted at /content/drive; to attempt to forcibly remount, call drive.mount(\"/content/drive\", force_remount=True).\n"
          ],
          "name": "stdout"
        }
      ]
    },
    {
      "cell_type": "markdown",
      "metadata": {
        "id": "0NyAPdAlhQe1",
        "colab_type": "text"
      },
      "source": [
        "## 3. Downloading Dataset from Kaggle.\n",
        "\n",
        "* Instead of Downloading the dataset locally, we download it to Colab Runtime utilizing the network speed and storage constraints.\n",
        "1. Install Kaggle API.\n",
        "2. Download the Dataset from the Competition list.\n",
        "3. Unzip the Train and Test Data."
      ]
    },
    {
      "cell_type": "code",
      "metadata": {
        "id": "EsOuCMjTge6S",
        "colab_type": "code",
        "outputId": "997e0051-50c7-4616-accb-a63dc86b6d4a",
        "colab": {
          "resources": {
            "http://localhost:8080/nbextensions/google.colab/files.js": {
              "data": "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",
              "ok": true,
              "headers": [
                [
                  "content-type",
                  "application/javascript"
                ]
              ],
              "status": 200,
              "status_text": ""
            }
          },
          "base_uri": "https://localhost:8080/",
          "height": 209
        }
      },
      "source": [
        "!pip install -q kaggle\n",
        "from google.colab import files\n",
        "files.upload()\n",
        "!mkdir ~/.kaggle\n",
        "!cp kaggle.json ~/.kaggle/\n",
        "!chmod 600 ~/.kaggle/kaggle.json\n",
        "!kaggle competitions download -c facebook-recruiting-iii-keyword-extraction\n",
        "!unzip Train.zip\n",
        "!unzip Test.zip"
      ],
      "execution_count": 0,
      "outputs": [
        {
          "output_type": "display_data",
          "data": {
            "text/html": [
              "\n",
              "     <input type=\"file\" id=\"files-9337ec31-55ff-41e8-9209-f3f35a3edd4a\" name=\"files[]\" multiple disabled />\n",
              "     <output id=\"result-9337ec31-55ff-41e8-9209-f3f35a3edd4a\">\n",
              "      Upload widget is only available when the cell has been executed in the\n",
              "      current browser session. Please rerun this cell to enable.\n",
              "      </output>\n",
              "      <script src=\"/nbextensions/google.colab/files.js\"></script> "
            ],
            "text/plain": [
              "<IPython.core.display.HTML object>"
            ]
          },
          "metadata": {
            "tags": []
          }
        },
        {
          "output_type": "stream",
          "text": [
            "Saving kaggle.json to kaggle (1).json\n",
            "mkdir: cannot create directory ‘/root/.kaggle’: File exists\n",
            "Train.zip: Skipping, found more recently modified local copy (use --force to force download)\n",
            "Test.zip: Skipping, found more recently modified local copy (use --force to force download)\n",
            "SampleSubmission.csv: Skipping, found more recently modified local copy (use --force to force download)\n",
            "Archive:  Train.zip\n",
            "replace Train.csv? [y]es, [n]o, [A]ll, [N]one, [r]ename: n\n",
            "Archive:  Test.zip\n",
            "replace Test.csv? [y]es, [n]o, [A]ll, [N]one, [r]ename: n\n"
          ],
          "name": "stdout"
        }
      ]
    },
    {
      "cell_type": "markdown",
      "metadata": {
        "id": "pEY2SjrftFtP",
        "colab_type": "text"
      },
      "source": [
        "\n",
        "## 4. Preproceesing and Cleaning the Data\n",
        "\n",
        "### Dataset Description\n",
        "**Id** - Unique identifier for each question.</br>\n",
        "**Title** - The question's title.</br>\n",
        "**Body** - The body of the question.</br>\n",
        "**Tags** - The tags associated with the question.</br>\n",
        "</br>\n",
        "*Size(Compressed)*: 2.19GB</br>\n",
        "*Size(Actual)*: 6.76GB</br>\n",
        "*No. of Rows*: 6034195 </br>\n",
        "*No. of Columns*: 4</br>\n",
        "</br>\n",
        "\n",
        "### Dataset Link\n",
        "Dataset: [Facebook Recruiting III - Keyword Extraction](https://www.kaggle.com/c/facebook-recruiting-iii-keyword-extraction/data) competition on Kaggle.\n",
        "\n",
        "</br>"
      ]
    },
    {
      "cell_type": "markdown",
      "metadata": {
        "id": "LvHN3pdiyDHw",
        "colab_type": "text"
      },
      "source": [
        "\n",
        "### Loading Datasets into Dataframe</br>\n",
        "\n",
        " - Using Pandas Library</br>\n"
      ]
    },
    {
      "cell_type": "code",
      "metadata": {
        "id": "55S9gnLjmpry",
        "colab_type": "code",
        "colab": {
          "base_uri": "https://localhost:8080/",
          "height": 34
        },
        "outputId": "f351bbca-5405-4011-b2a6-56a5a55ee9bf"
      },
      "source": [
        "df = pd.read_csv(\"Train.csv\")\n",
        "print(\"Dimensions of Data:\",df.shape)"
      ],
      "execution_count": 2,
      "outputs": [
        {
          "output_type": "stream",
          "text": [
            "Dimensions of Data: (6034195, 4)\n"
          ],
          "name": "stdout"
        }
      ]
    },
    {
      "cell_type": "markdown",
      "metadata": {
        "id": "kVaE4Ck4tPe_",
        "colab_type": "text"
      },
      "source": [
        "\n",
        "### 4.1 Deleting Missing data from the Rows</br>\n",
        "\n",
        " - Using Inbuilt Functions of Pandas library.</br>\n"
      ]
    },
    {
      "cell_type": "code",
      "metadata": {
        "id": "-zRQ_mth-i49",
        "colab_type": "code",
        "colab": {
          "base_uri": "https://localhost:8080/",
          "height": 195
        },
        "outputId": "266283ff-9983-4657-e65f-e052a0f70b85"
      },
      "source": [
        "df.dropna(inplace = True)\n",
        "df.reset_index(inplace = True)\n",
        "df.head()"
      ],
      "execution_count": 3,
      "outputs": [
        {
          "output_type": "execute_result",
          "data": {
            "text/html": [
              "<div>\n",
              "<style scoped>\n",
              "    .dataframe tbody tr th:only-of-type {\n",
              "        vertical-align: middle;\n",
              "    }\n",
              "\n",
              "    .dataframe tbody tr th {\n",
              "        vertical-align: top;\n",
              "    }\n",
              "\n",
              "    .dataframe thead th {\n",
              "        text-align: right;\n",
              "    }\n",
              "</style>\n",
              "<table border=\"1\" class=\"dataframe\">\n",
              "  <thead>\n",
              "    <tr style=\"text-align: right;\">\n",
              "      <th></th>\n",
              "      <th>index</th>\n",
              "      <th>Id</th>\n",
              "      <th>Title</th>\n",
              "      <th>Body</th>\n",
              "      <th>Tags</th>\n",
              "    </tr>\n",
              "  </thead>\n",
              "  <tbody>\n",
              "    <tr>\n",
              "      <th>0</th>\n",
              "      <td>0</td>\n",
              "      <td>1</td>\n",
              "      <td>How to check if an uploaded file is an image w...</td>\n",
              "      <td>&lt;p&gt;I'd like to check if an uploaded file is an...</td>\n",
              "      <td>php image-processing file-upload upload mime-t...</td>\n",
              "    </tr>\n",
              "    <tr>\n",
              "      <th>1</th>\n",
              "      <td>1</td>\n",
              "      <td>2</td>\n",
              "      <td>How can I prevent firefox from closing when I ...</td>\n",
              "      <td>&lt;p&gt;In my favorite editor (vim), I regularly us...</td>\n",
              "      <td>firefox</td>\n",
              "    </tr>\n",
              "    <tr>\n",
              "      <th>2</th>\n",
              "      <td>2</td>\n",
              "      <td>3</td>\n",
              "      <td>R Error Invalid type (list) for variable</td>\n",
              "      <td>&lt;p&gt;I am import matlab file and construct a dat...</td>\n",
              "      <td>r matlab machine-learning</td>\n",
              "    </tr>\n",
              "    <tr>\n",
              "      <th>3</th>\n",
              "      <td>3</td>\n",
              "      <td>4</td>\n",
              "      <td>How do I replace special characters in a URL?</td>\n",
              "      <td>&lt;p&gt;This is probably very simple, but I simply ...</td>\n",
              "      <td>c# url encoding</td>\n",
              "    </tr>\n",
              "    <tr>\n",
              "      <th>4</th>\n",
              "      <td>4</td>\n",
              "      <td>5</td>\n",
              "      <td>How to modify whois contact details?</td>\n",
              "      <td>&lt;pre&gt;&lt;code&gt;function modify(.......)\\n{\\n  $mco...</td>\n",
              "      <td>php api file-get-contents</td>\n",
              "    </tr>\n",
              "  </tbody>\n",
              "</table>\n",
              "</div>"
            ],
            "text/plain": [
              "   index  ...                                               Tags\n",
              "0      0  ...  php image-processing file-upload upload mime-t...\n",
              "1      1  ...                                            firefox\n",
              "2      2  ...                          r matlab machine-learning\n",
              "3      3  ...                                    c# url encoding\n",
              "4      4  ...                          php api file-get-contents\n",
              "\n",
              "[5 rows x 5 columns]"
            ]
          },
          "metadata": {
            "tags": []
          },
          "execution_count": 3
        }
      ]
    },
    {
      "cell_type": "code",
      "metadata": {
        "id": "XYShKngGCzwu",
        "colab_type": "code",
        "colab": {
          "base_uri": "https://localhost:8080/",
          "height": 34
        },
        "outputId": "5cf98afa-cc28-4acb-e1bf-7ef3be2a2a27"
      },
      "source": [
        "print(\"Dimensions of Data after Removing Null Rows:\",df.shape)"
      ],
      "execution_count": 4,
      "outputs": [
        {
          "output_type": "stream",
          "text": [
            "Dimensions of Data after Removing Null Rows: (6034187, 5)\n"
          ],
          "name": "stdout"
        }
      ]
    },
    {
      "cell_type": "markdown",
      "metadata": {
        "id": "HFQYk8fet-vu",
        "colab_type": "text"
      },
      "source": [
        "\n",
        "### 4.2: Deleting Unnecessary Columns.</br>\n",
        "\n",
        " - The Columns \"Id\" and \"Index\" are of no use</br>\n",
        " - Removing them using drop(...) function of Pandas Library</br>\n"
      ]
    },
    {
      "cell_type": "code",
      "metadata": {
        "id": "2JB6xvyk-1bl",
        "colab_type": "code",
        "colab": {
          "base_uri": "https://localhost:8080/",
          "height": 195
        },
        "outputId": "bc649d8f-fb0e-4920-e8ca-cf59814ad7d6"
      },
      "source": [
        "df.drop(columns = ['Id','index'],inplace = True)\n",
        "df.head()"
      ],
      "execution_count": 5,
      "outputs": [
        {
          "output_type": "execute_result",
          "data": {
            "text/html": [
              "<div>\n",
              "<style scoped>\n",
              "    .dataframe tbody tr th:only-of-type {\n",
              "        vertical-align: middle;\n",
              "    }\n",
              "\n",
              "    .dataframe tbody tr th {\n",
              "        vertical-align: top;\n",
              "    }\n",
              "\n",
              "    .dataframe thead th {\n",
              "        text-align: right;\n",
              "    }\n",
              "</style>\n",
              "<table border=\"1\" class=\"dataframe\">\n",
              "  <thead>\n",
              "    <tr style=\"text-align: right;\">\n",
              "      <th></th>\n",
              "      <th>Title</th>\n",
              "      <th>Body</th>\n",
              "      <th>Tags</th>\n",
              "    </tr>\n",
              "  </thead>\n",
              "  <tbody>\n",
              "    <tr>\n",
              "      <th>0</th>\n",
              "      <td>How to check if an uploaded file is an image w...</td>\n",
              "      <td>&lt;p&gt;I'd like to check if an uploaded file is an...</td>\n",
              "      <td>php image-processing file-upload upload mime-t...</td>\n",
              "    </tr>\n",
              "    <tr>\n",
              "      <th>1</th>\n",
              "      <td>How can I prevent firefox from closing when I ...</td>\n",
              "      <td>&lt;p&gt;In my favorite editor (vim), I regularly us...</td>\n",
              "      <td>firefox</td>\n",
              "    </tr>\n",
              "    <tr>\n",
              "      <th>2</th>\n",
              "      <td>R Error Invalid type (list) for variable</td>\n",
              "      <td>&lt;p&gt;I am import matlab file and construct a dat...</td>\n",
              "      <td>r matlab machine-learning</td>\n",
              "    </tr>\n",
              "    <tr>\n",
              "      <th>3</th>\n",
              "      <td>How do I replace special characters in a URL?</td>\n",
              "      <td>&lt;p&gt;This is probably very simple, but I simply ...</td>\n",
              "      <td>c# url encoding</td>\n",
              "    </tr>\n",
              "    <tr>\n",
              "      <th>4</th>\n",
              "      <td>How to modify whois contact details?</td>\n",
              "      <td>&lt;pre&gt;&lt;code&gt;function modify(.......)\\n{\\n  $mco...</td>\n",
              "      <td>php api file-get-contents</td>\n",
              "    </tr>\n",
              "  </tbody>\n",
              "</table>\n",
              "</div>"
            ],
            "text/plain": [
              "                                               Title  ...                                               Tags\n",
              "0  How to check if an uploaded file is an image w...  ...  php image-processing file-upload upload mime-t...\n",
              "1  How can I prevent firefox from closing when I ...  ...                                            firefox\n",
              "2           R Error Invalid type (list) for variable  ...                          r matlab machine-learning\n",
              "3      How do I replace special characters in a URL?  ...                                    c# url encoding\n",
              "4               How to modify whois contact details?  ...                          php api file-get-contents\n",
              "\n",
              "[5 rows x 3 columns]"
            ]
          },
          "metadata": {
            "tags": []
          },
          "execution_count": 5
        }
      ]
    },
    {
      "cell_type": "code",
      "metadata": {
        "id": "59jMPqgkC5yb",
        "colab_type": "code",
        "colab": {
          "base_uri": "https://localhost:8080/",
          "height": 34
        },
        "outputId": "40ae3ee1-9b71-436d-eb24-52c851628876"
      },
      "source": [
        "print(\"Dimensions of Data After Dropping Unnecessary Columns:\",df.shape)"
      ],
      "execution_count": 6,
      "outputs": [
        {
          "output_type": "stream",
          "text": [
            "Dimensions of Data After Dropping Unnecessary Columns: (6034187, 3)\n"
          ],
          "name": "stdout"
        }
      ]
    },
    {
      "cell_type": "markdown",
      "metadata": {
        "id": "224ARGRiu47e",
        "colab_type": "text"
      },
      "source": [
        "\n",
        "### 4.3: Removing Duplicates.</br>\n",
        "\n",
        " - Dataset contains duplicates in it.</br>\n",
        " - We only remove duplicates from only the \"Body\" column because the \"Title\" may be same for many data points but they may have different \"Body\"</br>\n",
        " - Also \"Tags\" may be same for 2 Questions so we do not remove duplicates from \"Tags\" column</br>\n",
        " - After Removing Duplicates we reset the index values.</br>\n"
      ]
    },
    {
      "cell_type": "code",
      "metadata": {
        "id": "tSsgSk6E_8ct",
        "colab_type": "code",
        "colab": {}
      },
      "source": [
        "df.drop_duplicates(subset='Body',keep = 'first',inplace=True)"
      ],
      "execution_count": 0,
      "outputs": []
    },
    {
      "cell_type": "code",
      "metadata": {
        "id": "G6TLV7cuAsVy",
        "colab_type": "code",
        "colab": {
          "base_uri": "https://localhost:8080/",
          "height": 34
        },
        "outputId": "78bc8231-3d86-465f-9925-df5d6ff43c22"
      },
      "source": [
        "print(\"Dimensions of Data After Removing Duplicates\",df.shape)"
      ],
      "execution_count": 8,
      "outputs": [
        {
          "output_type": "stream",
          "text": [
            "Dimensions of Data After Removing Duplicates (4154374, 3)\n"
          ],
          "name": "stdout"
        }
      ]
    },
    {
      "cell_type": "code",
      "metadata": {
        "id": "ZISS8636DWaS",
        "colab_type": "code",
        "colab": {
          "base_uri": "https://localhost:8080/",
          "height": 195
        },
        "outputId": "2553fdc0-25ce-434d-96f3-41eb397fa51e"
      },
      "source": [
        "df.reset_index(inplace = True)\n",
        "df.head()"
      ],
      "execution_count": 9,
      "outputs": [
        {
          "output_type": "execute_result",
          "data": {
            "text/html": [
              "<div>\n",
              "<style scoped>\n",
              "    .dataframe tbody tr th:only-of-type {\n",
              "        vertical-align: middle;\n",
              "    }\n",
              "\n",
              "    .dataframe tbody tr th {\n",
              "        vertical-align: top;\n",
              "    }\n",
              "\n",
              "    .dataframe thead th {\n",
              "        text-align: right;\n",
              "    }\n",
              "</style>\n",
              "<table border=\"1\" class=\"dataframe\">\n",
              "  <thead>\n",
              "    <tr style=\"text-align: right;\">\n",
              "      <th></th>\n",
              "      <th>index</th>\n",
              "      <th>Title</th>\n",
              "      <th>Body</th>\n",
              "      <th>Tags</th>\n",
              "    </tr>\n",
              "  </thead>\n",
              "  <tbody>\n",
              "    <tr>\n",
              "      <th>0</th>\n",
              "      <td>0</td>\n",
              "      <td>How to check if an uploaded file is an image w...</td>\n",
              "      <td>&lt;p&gt;I'd like to check if an uploaded file is an...</td>\n",
              "      <td>php image-processing file-upload upload mime-t...</td>\n",
              "    </tr>\n",
              "    <tr>\n",
              "      <th>1</th>\n",
              "      <td>1</td>\n",
              "      <td>How can I prevent firefox from closing when I ...</td>\n",
              "      <td>&lt;p&gt;In my favorite editor (vim), I regularly us...</td>\n",
              "      <td>firefox</td>\n",
              "    </tr>\n",
              "    <tr>\n",
              "      <th>2</th>\n",
              "      <td>2</td>\n",
              "      <td>R Error Invalid type (list) for variable</td>\n",
              "      <td>&lt;p&gt;I am import matlab file and construct a dat...</td>\n",
              "      <td>r matlab machine-learning</td>\n",
              "    </tr>\n",
              "    <tr>\n",
              "      <th>3</th>\n",
              "      <td>3</td>\n",
              "      <td>How do I replace special characters in a URL?</td>\n",
              "      <td>&lt;p&gt;This is probably very simple, but I simply ...</td>\n",
              "      <td>c# url encoding</td>\n",
              "    </tr>\n",
              "    <tr>\n",
              "      <th>4</th>\n",
              "      <td>4</td>\n",
              "      <td>How to modify whois contact details?</td>\n",
              "      <td>&lt;pre&gt;&lt;code&gt;function modify(.......)\\n{\\n  $mco...</td>\n",
              "      <td>php api file-get-contents</td>\n",
              "    </tr>\n",
              "  </tbody>\n",
              "</table>\n",
              "</div>"
            ],
            "text/plain": [
              "   index  ...                                               Tags\n",
              "0      0  ...  php image-processing file-upload upload mime-t...\n",
              "1      1  ...                                            firefox\n",
              "2      2  ...                          r matlab machine-learning\n",
              "3      3  ...                                    c# url encoding\n",
              "4      4  ...                          php api file-get-contents\n",
              "\n",
              "[5 rows x 4 columns]"
            ]
          },
          "metadata": {
            "tags": []
          },
          "execution_count": 9
        }
      ]
    },
    {
      "cell_type": "markdown",
      "metadata": {
        "id": "_OQlHMdWvlE0",
        "colab_type": "text"
      },
      "source": [
        "###4.4: Calculating Total Tags Present"
      ]
    },
    {
      "cell_type": "code",
      "metadata": {
        "id": "3S5SBeEEcnSw",
        "colab_type": "code",
        "colab": {
          "base_uri": "https://localhost:8080/",
          "height": 50
        },
        "outputId": "5b4085c8-15cc-435e-ced4-f805241d663a"
      },
      "source": [
        "Available_tags = [tag for slist in df[\"Tags\"].values for tag in slist.split()]\n",
        "print(\"Total Tags Present\",len(Available_tags))\n",
        "print(\"Average Number of Tags Present per Row\",float(len(Available_tags))/df.shape[0])"
      ],
      "execution_count": 10,
      "outputs": [
        {
          "output_type": "stream",
          "text": [
            "Total Tags Present 12030708\n",
            "Average Number of Tags Present per Row 2.8959135600213175\n"
          ],
          "name": "stdout"
        }
      ]
    },
    {
      "cell_type": "markdown",
      "metadata": {
        "id": "Nz5q5olkwHuk",
        "colab_type": "text"
      },
      "source": [
        "\n",
        "### 4.5: Frequently Occurring Tags\n",
        "\n",
        " - List of tags which occur the most number of times.\n",
        " - Freq_Tags : *size* = 100.\n",
        " - We take 100 frequent tags to limit the data size.\n"
      ]
    },
    {
      "cell_type": "code",
      "metadata": {
        "id": "My3FVVtOFd__",
        "colab_type": "code",
        "colab": {}
      },
      "source": [
        "Counter = collections.Counter(Available_tags)\n",
        "Counter = { x:y for x, y in sorted(Counter.items(), key=lambda x: x[1], reverse=True) }\n",
        "Freq_tags = set(list(Counter.keys())[:100])"
      ],
      "execution_count": 0,
      "outputs": []
    },
    {
      "cell_type": "code",
      "metadata": {
        "id": "fGkk5HuWGnIn",
        "colab_type": "code",
        "colab": {
          "base_uri": "https://localhost:8080/",
          "height": 54
        },
        "outputId": "41a4a629-94fa-4813-da53-72f82e6afb10"
      },
      "source": [
        "print(Freq_tags)"
      ],
      "execution_count": 12,
      "outputs": [
        {
          "output_type": "stream",
          "text": [
            "{'entity-framework', 'networking', 'objective-c', 'winforms', 'http', 'html5', 'java', 'homework', 'iphone', 'ruby-on-rails-3', 'mysql', 'visual-studio-2010', 'matlab', 'json', 'query', '.net', 'sql-server', 'firefox', 'facebook', 'bash', 'sql', 'performance', 'multithreading', 'file', 'api', 'c#', 'c++', 'osx', 'jquery', 'shell', 'asp.net', 'google-chrome', 'vb.net', 'perl', 'git', 'r', 'node.js', 'javascript', 'django', 'delphi', 'ipad', 'unit-testing', 'cocoa', 'ruby-on-rails', 'sqlite', 'regex', 'image', 'qt', 'wordpress', 'svn', 'visual-studio', 'windows', '.htaccess', 'swing', 'linux', 'android', 'oracle', 'cocoa-touch', 'linq', 'ios', 'apache', 'security', 'silverlight', 'apache2', 'algorithm', 'flash', 'spring', 'sql-server-2008', 'c', 'flex', 'html', 'internet-explorer', 'php', 'tsql', 'actionscript-3', 'hibernate', 'web-services', 'ajax', 'xcode', 'arrays', 'windows-7', 'asp.net-mvc-3', 'database', 'eclipse', 'oop', 'string', 'ubuntu', 'jquery-ui', 'list', 'codeigniter', 'asp.net-mvc', 'email', 'excel', 'ruby', 'python', 'forms', 'css', 'wcf', 'wpf', 'xml'}\n"
          ],
          "name": "stdout"
        }
      ]
    },
    {
      "cell_type": "markdown",
      "metadata": {
        "id": "a-ovU2tWxbE5",
        "colab_type": "text"
      },
      "source": [
        "\n",
        "### 4.6: Storing Indices of the Rows which Contain Frequent Tags</br>\n",
        "\n",
        " - We store the Indices of the data points which contain the most frequent tags.</br>\n",
        " - We do this by comparing Tags of each data point and storing the data point's index into Sample_Index.</br>\n"
      ]
    },
    {
      "cell_type": "code",
      "metadata": {
        "id": "2VTMhGXkdLHX",
        "colab_type": "code",
        "colab": {}
      },
      "source": [
        "Sample_Index = []\n",
        "for data in range(0,df.shape[0]):\n",
        "  tags = set(df[\"Tags\"][data].split())\n",
        "  if tags.issubset(Freq_tags):\n",
        "    Sample_Index.append(data)"
      ],
      "execution_count": 0,
      "outputs": []
    },
    {
      "cell_type": "code",
      "metadata": {
        "id": "VbyZIVMP-2VB",
        "colab_type": "code",
        "colab": {
          "base_uri": "https://localhost:8080/",
          "height": 34
        },
        "outputId": "f1e2b07c-8bde-4553-df0b-79073834e6dd"
      },
      "source": [
        "print(\"Number of Rows which contain Frequent Tags\",len(Sample_Index))"
      ],
      "execution_count": 14,
      "outputs": [
        {
          "output_type": "stream",
          "text": [
            "Number of Rows which contain Frequent Tags 674746\n"
          ],
          "name": "stdout"
        }
      ]
    },
    {
      "cell_type": "markdown",
      "metadata": {
        "id": "WM5537b3yqfW",
        "colab_type": "text"
      },
      "source": [
        "\n",
        "###  Randomly Choosing Indices with Frequent Tags</br>\n",
        "\n",
        " - Sample_Index now contains indices of *674746* data points.</br>\n",
        " - So we choose *600000* random data points out of those.</br>\n"
      ]
    },
    {
      "cell_type": "code",
      "metadata": {
        "id": "ObAGaL36eXYT",
        "colab_type": "code",
        "colab": {}
      },
      "source": [
        "Pre_index = random.sample(Sample_Index,k = 600000)"
      ],
      "execution_count": 0,
      "outputs": []
    },
    {
      "cell_type": "markdown",
      "metadata": {
        "id": "4pIUuE5vy_64",
        "colab_type": "text"
      },
      "source": [
        "\n",
        "### 4.7: Choosing Data with the above Randomly Chosen Indices</br>\n",
        "\n",
        " - Now we select the data points which match the indices in the above randomly fetched indices which have frequent tags.</br>\n",
        " - Using iloc(..) function present in pandas Library.</br>\n",
        " - Then, we reset the indices and drop the unwanted \"index\" column.</br>\n"
      ]
    },
    {
      "cell_type": "code",
      "metadata": {
        "id": "Lt1h04VFfGML",
        "colab_type": "code",
        "colab": {}
      },
      "source": [
        "df_Final = df.iloc[Pre_index, :]"
      ],
      "execution_count": 0,
      "outputs": []
    },
    {
      "cell_type": "code",
      "metadata": {
        "id": "vpv2agl4mI55",
        "colab_type": "code",
        "colab": {
          "base_uri": "https://localhost:8080/",
          "height": 195
        },
        "outputId": "ce0a4750-6057-46eb-8ce7-4fbe25f22489"
      },
      "source": [
        "df_Final.head()"
      ],
      "execution_count": 17,
      "outputs": [
        {
          "output_type": "execute_result",
          "data": {
            "text/html": [
              "<div>\n",
              "<style scoped>\n",
              "    .dataframe tbody tr th:only-of-type {\n",
              "        vertical-align: middle;\n",
              "    }\n",
              "\n",
              "    .dataframe tbody tr th {\n",
              "        vertical-align: top;\n",
              "    }\n",
              "\n",
              "    .dataframe thead th {\n",
              "        text-align: right;\n",
              "    }\n",
              "</style>\n",
              "<table border=\"1\" class=\"dataframe\">\n",
              "  <thead>\n",
              "    <tr style=\"text-align: right;\">\n",
              "      <th></th>\n",
              "      <th>index</th>\n",
              "      <th>Title</th>\n",
              "      <th>Body</th>\n",
              "      <th>Tags</th>\n",
              "    </tr>\n",
              "  </thead>\n",
              "  <tbody>\n",
              "    <tr>\n",
              "      <th>489471</th>\n",
              "      <td>504365</td>\n",
              "      <td>jQuery fast mouse move mouseleave event trigge...</td>\n",
              "      <td>&lt;p&gt;If a users mouse goes over a table cell the...</td>\n",
              "      <td>php jquery ajax</td>\n",
              "    </tr>\n",
              "    <tr>\n",
              "      <th>1998466</th>\n",
              "      <td>2297245</td>\n",
              "      <td>Why do i need to add /g when using string repl...</td>\n",
              "      <td>&lt;p&gt;Why is the '/g' required when using string ...</td>\n",
              "      <td>javascript</td>\n",
              "    </tr>\n",
              "    <tr>\n",
              "      <th>55203</th>\n",
              "      <td>55379</td>\n",
              "      <td>Collecting data from multiple sources using mu...</td>\n",
              "      <td>&lt;p&gt;Let's imagine the set of several data sourc...</td>\n",
              "      <td>c# .net windows</td>\n",
              "    </tr>\n",
              "    <tr>\n",
              "      <th>191621</th>\n",
              "      <td>193786</td>\n",
              "      <td>Uninitialized constant in application controller</td>\n",
              "      <td>&lt;p&gt;I have a model class in my Rails applicatio...</td>\n",
              "      <td>ruby-on-rails ruby</td>\n",
              "    </tr>\n",
              "    <tr>\n",
              "      <th>3982226</th>\n",
              "      <td>5642520</td>\n",
              "      <td>Unresolved externals error during compilation</td>\n",
              "      <td>&lt;p&gt;I am getting two unresolved externals error...</td>\n",
              "      <td>c++</td>\n",
              "    </tr>\n",
              "  </tbody>\n",
              "</table>\n",
              "</div>"
            ],
            "text/plain": [
              "           index  ...                Tags\n",
              "489471    504365  ...     php jquery ajax\n",
              "1998466  2297245  ...          javascript\n",
              "55203      55379  ...     c# .net windows\n",
              "191621    193786  ...  ruby-on-rails ruby\n",
              "3982226  5642520  ...                 c++\n",
              "\n",
              "[5 rows x 4 columns]"
            ]
          },
          "metadata": {
            "tags": []
          },
          "execution_count": 17
        }
      ]
    },
    {
      "cell_type": "code",
      "metadata": {
        "id": "5YCd6COXkPwt",
        "colab_type": "code",
        "colab": {}
      },
      "source": [
        "df_Final.reset_index(inplace=True)"
      ],
      "execution_count": 0,
      "outputs": []
    },
    {
      "cell_type": "code",
      "metadata": {
        "id": "Q3LhYjtFkd2m",
        "colab_type": "code",
        "colab": {
          "base_uri": "https://localhost:8080/",
          "height": 101
        },
        "outputId": "42651d66-5a34-4fba-a346-ef233901f022"
      },
      "source": [
        "df_Final.drop(columns = ['level_0','index'],inplace = True)"
      ],
      "execution_count": 19,
      "outputs": [
        {
          "output_type": "stream",
          "text": [
            "/usr/local/lib/python3.6/dist-packages/pandas/core/frame.py:3940: SettingWithCopyWarning: \n",
            "A value is trying to be set on a copy of a slice from a DataFrame\n",
            "\n",
            "See the caveats in the documentation: http://pandas.pydata.org/pandas-docs/stable/indexing.html#indexing-view-versus-copy\n",
            "  errors=errors)\n"
          ],
          "name": "stderr"
        }
      ]
    },
    {
      "cell_type": "code",
      "metadata": {
        "id": "51Y6_i4zkjyf",
        "colab_type": "code",
        "colab": {
          "base_uri": "https://localhost:8080/",
          "height": 195
        },
        "outputId": "d31a1a2a-9261-42a7-8a2b-cb135704c279"
      },
      "source": [
        "df_Final.head()"
      ],
      "execution_count": 20,
      "outputs": [
        {
          "output_type": "execute_result",
          "data": {
            "text/html": [
              "<div>\n",
              "<style scoped>\n",
              "    .dataframe tbody tr th:only-of-type {\n",
              "        vertical-align: middle;\n",
              "    }\n",
              "\n",
              "    .dataframe tbody tr th {\n",
              "        vertical-align: top;\n",
              "    }\n",
              "\n",
              "    .dataframe thead th {\n",
              "        text-align: right;\n",
              "    }\n",
              "</style>\n",
              "<table border=\"1\" class=\"dataframe\">\n",
              "  <thead>\n",
              "    <tr style=\"text-align: right;\">\n",
              "      <th></th>\n",
              "      <th>Title</th>\n",
              "      <th>Body</th>\n",
              "      <th>Tags</th>\n",
              "    </tr>\n",
              "  </thead>\n",
              "  <tbody>\n",
              "    <tr>\n",
              "      <th>0</th>\n",
              "      <td>jQuery fast mouse move mouseleave event trigge...</td>\n",
              "      <td>&lt;p&gt;If a users mouse goes over a table cell the...</td>\n",
              "      <td>php jquery ajax</td>\n",
              "    </tr>\n",
              "    <tr>\n",
              "      <th>1</th>\n",
              "      <td>Why do i need to add /g when using string repl...</td>\n",
              "      <td>&lt;p&gt;Why is the '/g' required when using string ...</td>\n",
              "      <td>javascript</td>\n",
              "    </tr>\n",
              "    <tr>\n",
              "      <th>2</th>\n",
              "      <td>Collecting data from multiple sources using mu...</td>\n",
              "      <td>&lt;p&gt;Let's imagine the set of several data sourc...</td>\n",
              "      <td>c# .net windows</td>\n",
              "    </tr>\n",
              "    <tr>\n",
              "      <th>3</th>\n",
              "      <td>Uninitialized constant in application controller</td>\n",
              "      <td>&lt;p&gt;I have a model class in my Rails applicatio...</td>\n",
              "      <td>ruby-on-rails ruby</td>\n",
              "    </tr>\n",
              "    <tr>\n",
              "      <th>4</th>\n",
              "      <td>Unresolved externals error during compilation</td>\n",
              "      <td>&lt;p&gt;I am getting two unresolved externals error...</td>\n",
              "      <td>c++</td>\n",
              "    </tr>\n",
              "  </tbody>\n",
              "</table>\n",
              "</div>"
            ],
            "text/plain": [
              "                                               Title  ...                Tags\n",
              "0  jQuery fast mouse move mouseleave event trigge...  ...     php jquery ajax\n",
              "1  Why do i need to add /g when using string repl...  ...          javascript\n",
              "2  Collecting data from multiple sources using mu...  ...     c# .net windows\n",
              "3   Uninitialized constant in application controller  ...  ruby-on-rails ruby\n",
              "4      Unresolved externals error during compilation  ...                 c++\n",
              "\n",
              "[5 rows x 3 columns]"
            ]
          },
          "metadata": {
            "tags": []
          },
          "execution_count": 20
        }
      ]
    },
    {
      "cell_type": "markdown",
      "metadata": {
        "id": "uQc8oy1Z0dNX",
        "colab_type": "text"
      },
      "source": [
        "\n",
        "### 4.8: Separating Tags in a row</br>\n",
        "\n",
        " - We separate space separated tags in each data point to comma spearated.</br>\n",
        " > Example: [c++ clion array] now becomes [c++, clion, array]</br>\n",
        "\n",
        "\n"
      ]
    },
    {
      "cell_type": "code",
      "metadata": {
        "id": "GF0WU0EVgZPy",
        "colab_type": "code",
        "colab": {
          "base_uri": "https://localhost:8080/",
          "height": 118
        },
        "outputId": "334b25a6-3a00-48c8-a121-4d88a3e96cef"
      },
      "source": [
        "Tags_Sep = []\n",
        "for tags in range(0,df_Final.shape[0]):\n",
        "  Tags_Sep.append(df_Final['Tags'][tags].replace(\" \",\",\"))\n",
        "  if tags % 100000 == 0:\n",
        "    print(tags)\n",
        "tags_split = [Tags.split(\",\") for Tags in Tags_Sep]"
      ],
      "execution_count": 21,
      "outputs": [
        {
          "output_type": "stream",
          "text": [
            "0\n",
            "100000\n",
            "200000\n",
            "300000\n",
            "400000\n",
            "500000\n"
          ],
          "name": "stdout"
        }
      ]
    },
    {
      "cell_type": "code",
      "metadata": {
        "id": "isZPv6bwimrE",
        "colab_type": "code",
        "colab": {
          "base_uri": "https://localhost:8080/",
          "height": 134
        },
        "outputId": "61bba7aa-46dd-4eef-f7e1-ff240559116f"
      },
      "source": [
        "df_Final[\"Tags\"] = Tags_Sep\n",
        "Tags_Sep.clear"
      ],
      "execution_count": 22,
      "outputs": [
        {
          "output_type": "stream",
          "text": [
            "/usr/local/lib/python3.6/dist-packages/ipykernel_launcher.py:1: SettingWithCopyWarning: \n",
            "A value is trying to be set on a copy of a slice from a DataFrame.\n",
            "Try using .loc[row_indexer,col_indexer] = value instead\n",
            "\n",
            "See the caveats in the documentation: http://pandas.pydata.org/pandas-docs/stable/indexing.html#indexing-view-versus-copy\n",
            "  \"\"\"Entry point for launching an IPython kernel.\n"
          ],
          "name": "stderr"
        },
        {
          "output_type": "execute_result",
          "data": {
            "text/plain": [
              "<function list.clear>"
            ]
          },
          "metadata": {
            "tags": []
          },
          "execution_count": 22
        }
      ]
    },
    {
      "cell_type": "code",
      "metadata": {
        "id": "86aSYsdzn1PR",
        "colab_type": "code",
        "colab": {
          "base_uri": "https://localhost:8080/",
          "height": 195
        },
        "outputId": "bdfe571f-76b9-4aab-f9cc-0a4430f12400"
      },
      "source": [
        "df_Final.head()"
      ],
      "execution_count": 23,
      "outputs": [
        {
          "output_type": "execute_result",
          "data": {
            "text/html": [
              "<div>\n",
              "<style scoped>\n",
              "    .dataframe tbody tr th:only-of-type {\n",
              "        vertical-align: middle;\n",
              "    }\n",
              "\n",
              "    .dataframe tbody tr th {\n",
              "        vertical-align: top;\n",
              "    }\n",
              "\n",
              "    .dataframe thead th {\n",
              "        text-align: right;\n",
              "    }\n",
              "</style>\n",
              "<table border=\"1\" class=\"dataframe\">\n",
              "  <thead>\n",
              "    <tr style=\"text-align: right;\">\n",
              "      <th></th>\n",
              "      <th>Title</th>\n",
              "      <th>Body</th>\n",
              "      <th>Tags</th>\n",
              "    </tr>\n",
              "  </thead>\n",
              "  <tbody>\n",
              "    <tr>\n",
              "      <th>0</th>\n",
              "      <td>jQuery fast mouse move mouseleave event trigge...</td>\n",
              "      <td>&lt;p&gt;If a users mouse goes over a table cell the...</td>\n",
              "      <td>php,jquery,ajax</td>\n",
              "    </tr>\n",
              "    <tr>\n",
              "      <th>1</th>\n",
              "      <td>Why do i need to add /g when using string repl...</td>\n",
              "      <td>&lt;p&gt;Why is the '/g' required when using string ...</td>\n",
              "      <td>javascript</td>\n",
              "    </tr>\n",
              "    <tr>\n",
              "      <th>2</th>\n",
              "      <td>Collecting data from multiple sources using mu...</td>\n",
              "      <td>&lt;p&gt;Let's imagine the set of several data sourc...</td>\n",
              "      <td>c#,.net,windows</td>\n",
              "    </tr>\n",
              "    <tr>\n",
              "      <th>3</th>\n",
              "      <td>Uninitialized constant in application controller</td>\n",
              "      <td>&lt;p&gt;I have a model class in my Rails applicatio...</td>\n",
              "      <td>ruby-on-rails,ruby</td>\n",
              "    </tr>\n",
              "    <tr>\n",
              "      <th>4</th>\n",
              "      <td>Unresolved externals error during compilation</td>\n",
              "      <td>&lt;p&gt;I am getting two unresolved externals error...</td>\n",
              "      <td>c++</td>\n",
              "    </tr>\n",
              "  </tbody>\n",
              "</table>\n",
              "</div>"
            ],
            "text/plain": [
              "                                               Title  ...                Tags\n",
              "0  jQuery fast mouse move mouseleave event trigge...  ...     php,jquery,ajax\n",
              "1  Why do i need to add /g when using string repl...  ...          javascript\n",
              "2  Collecting data from multiple sources using mu...  ...     c#,.net,windows\n",
              "3   Uninitialized constant in application controller  ...  ruby-on-rails,ruby\n",
              "4      Unresolved externals error during compilation  ...                 c++\n",
              "\n",
              "[5 rows x 3 columns]"
            ]
          },
          "metadata": {
            "tags": []
          },
          "execution_count": 23
        }
      ]
    },
    {
      "cell_type": "markdown",
      "metadata": {
        "id": "cVtWZFYH0s5x",
        "colab_type": "text"
      },
      "source": [
        "\n",
        "### 4.9: Removing Html Tags From the Body Column</br>\n",
        "\n",
        " - Html Tags are removed as they add too much noise to the data and can make model to perform abruptly</br>\n",
        " - Removed using 're' function.</br>\n"
      ]
    },
    {
      "cell_type": "code",
      "metadata": {
        "id": "mJy8ureqtE4a",
        "colab_type": "code",
        "colab": {}
      },
      "source": [
        "import re\n",
        "\n",
        "def cleanhtml(raw_html):\n",
        "  cleanr = re.compile('<.*?>|&([a-z0-9]+|#[0-9]{1,6}|#x[0-9a-f]{1,6});')\n",
        "  cleantext = re.sub(cleanr, '', raw_html)\n",
        "  return cleantext"
      ],
      "execution_count": 0,
      "outputs": []
    },
    {
      "cell_type": "code",
      "metadata": {
        "id": "r4j91Yhptxxu",
        "colab_type": "code",
        "colab": {
          "base_uri": "https://localhost:8080/",
          "height": 437
        },
        "outputId": "b94ef105-d243-4647-ac29-3f7eca6c3a34"
      },
      "source": [
        "Body_Final = []\n",
        "Title_Final = []\n",
        "Tags_Final = []\n",
        "for b in range(0,df_Final.shape[0]):\n",
        "    Title_Final.append(cleanhtml(df_Final[\"Title\"][b].lower()))\n",
        "    Tags_Final.append(cleanhtml(df_Final[\"Tags\"][b].lower()))\n",
        "    Body_Final.append(cleanhtml(df_Final[\"Body\"][b].lower()))\n",
        "    if b % 100000 == 0:\n",
        "      print(b)\n",
        "df_Final[\"Body\"] = Body_Final\n",
        "df_Final[\"Tags\"] = Tags_Final\n",
        "df_Final[\"Title\"] = Title_Final\n",
        "Body_Final.clear\n",
        "Title_Final.clear\n",
        "Tags_Final.clear"
      ],
      "execution_count": 25,
      "outputs": [
        {
          "output_type": "stream",
          "text": [
            "0\n",
            "100000\n",
            "200000\n",
            "300000\n",
            "400000\n",
            "500000\n"
          ],
          "name": "stdout"
        },
        {
          "output_type": "stream",
          "text": [
            "/usr/local/lib/python3.6/dist-packages/ipykernel_launcher.py:10: SettingWithCopyWarning: \n",
            "A value is trying to be set on a copy of a slice from a DataFrame.\n",
            "Try using .loc[row_indexer,col_indexer] = value instead\n",
            "\n",
            "See the caveats in the documentation: http://pandas.pydata.org/pandas-docs/stable/indexing.html#indexing-view-versus-copy\n",
            "  # Remove the CWD from sys.path while we load stuff.\n",
            "/usr/local/lib/python3.6/dist-packages/ipykernel_launcher.py:11: SettingWithCopyWarning: \n",
            "A value is trying to be set on a copy of a slice from a DataFrame.\n",
            "Try using .loc[row_indexer,col_indexer] = value instead\n",
            "\n",
            "See the caveats in the documentation: http://pandas.pydata.org/pandas-docs/stable/indexing.html#indexing-view-versus-copy\n",
            "  # This is added back by InteractiveShellApp.init_path()\n",
            "/usr/local/lib/python3.6/dist-packages/ipykernel_launcher.py:12: SettingWithCopyWarning: \n",
            "A value is trying to be set on a copy of a slice from a DataFrame.\n",
            "Try using .loc[row_indexer,col_indexer] = value instead\n",
            "\n",
            "See the caveats in the documentation: http://pandas.pydata.org/pandas-docs/stable/indexing.html#indexing-view-versus-copy\n",
            "  if sys.path[0] == '':\n"
          ],
          "name": "stderr"
        },
        {
          "output_type": "execute_result",
          "data": {
            "text/plain": [
              "<function list.clear>"
            ]
          },
          "metadata": {
            "tags": []
          },
          "execution_count": 25
        }
      ]
    },
    {
      "cell_type": "code",
      "metadata": {
        "id": "gNqcsB7O4lkD",
        "colab_type": "code",
        "colab": {
          "base_uri": "https://localhost:8080/",
          "height": 195
        },
        "outputId": "3144e9de-206c-4822-98c5-2f4f6947fec3"
      },
      "source": [
        "df_Final.head()"
      ],
      "execution_count": 26,
      "outputs": [
        {
          "output_type": "execute_result",
          "data": {
            "text/html": [
              "<div>\n",
              "<style scoped>\n",
              "    .dataframe tbody tr th:only-of-type {\n",
              "        vertical-align: middle;\n",
              "    }\n",
              "\n",
              "    .dataframe tbody tr th {\n",
              "        vertical-align: top;\n",
              "    }\n",
              "\n",
              "    .dataframe thead th {\n",
              "        text-align: right;\n",
              "    }\n",
              "</style>\n",
              "<table border=\"1\" class=\"dataframe\">\n",
              "  <thead>\n",
              "    <tr style=\"text-align: right;\">\n",
              "      <th></th>\n",
              "      <th>Title</th>\n",
              "      <th>Body</th>\n",
              "      <th>Tags</th>\n",
              "    </tr>\n",
              "  </thead>\n",
              "  <tbody>\n",
              "    <tr>\n",
              "      <th>0</th>\n",
              "      <td>jquery fast mouse move mouseleave event trigge...</td>\n",
              "      <td>if a users mouse goes over a table cell then a...</td>\n",
              "      <td>php,jquery,ajax</td>\n",
              "    </tr>\n",
              "    <tr>\n",
              "      <th>1</th>\n",
              "      <td>why do i need to add /g when using string repl...</td>\n",
              "      <td>why is the '/g' required when using string rep...</td>\n",
              "      <td>javascript</td>\n",
              "    </tr>\n",
              "    <tr>\n",
              "      <th>2</th>\n",
              "      <td>collecting data from multiple sources using mu...</td>\n",
              "      <td>let's imagine the set of several data sources,...</td>\n",
              "      <td>c#,.net,windows</td>\n",
              "    </tr>\n",
              "    <tr>\n",
              "      <th>3</th>\n",
              "      <td>uninitialized constant in application controller</td>\n",
              "      <td>i have a model class in my rails application c...</td>\n",
              "      <td>ruby-on-rails,ruby</td>\n",
              "    </tr>\n",
              "    <tr>\n",
              "      <th>4</th>\n",
              "      <td>unresolved externals error during compilation</td>\n",
              "      <td>i am getting two unresolved externals error wh...</td>\n",
              "      <td>c++</td>\n",
              "    </tr>\n",
              "  </tbody>\n",
              "</table>\n",
              "</div>"
            ],
            "text/plain": [
              "                                               Title  ...                Tags\n",
              "0  jquery fast mouse move mouseleave event trigge...  ...     php,jquery,ajax\n",
              "1  why do i need to add /g when using string repl...  ...          javascript\n",
              "2  collecting data from multiple sources using mu...  ...     c#,.net,windows\n",
              "3   uninitialized constant in application controller  ...  ruby-on-rails,ruby\n",
              "4      unresolved externals error during compilation  ...                 c++\n",
              "\n",
              "[5 rows x 3 columns]"
            ]
          },
          "metadata": {
            "tags": []
          },
          "execution_count": 26
        }
      ]
    },
    {
      "cell_type": "markdown",
      "metadata": {
        "id": "z1TRGIvm1Dte",
        "colab_type": "text"
      },
      "source": [
        "\n",
        "### 4.10: Concatenating Title And Body Into One Column</br>\n",
        "\n",
        " - Joining both \"Title\" and \"Body\" Columns of every data point to form a single Column.</br>\n",
        " - Also converting them to lowercase to maintain uniformity.</br>\n"
      ]
    },
    {
      "cell_type": "code",
      "metadata": {
        "id": "sfMXXXwbC3pq",
        "colab_type": "code",
        "colab": {
          "base_uri": "https://localhost:8080/",
          "height": 235
        },
        "outputId": "ec07f0e2-7f8d-4f90-eb68-47de8d6c43c1"
      },
      "source": [
        "Body_Final = []\n",
        "for b in range(0,df_Final.shape[0]):\n",
        "    Body_Final.append(cleanhtml(df_Final[\"Title\"][b].lower()) + \" \" + df_Final[\"Body\"][b].lower())\n",
        "    if b % 100000 == 0:\n",
        "      print(b)\n",
        "df_Final[\"Body\"] = Body_Final\n",
        "Body_Final.clear"
      ],
      "execution_count": 27,
      "outputs": [
        {
          "output_type": "stream",
          "text": [
            "0\n",
            "100000\n",
            "200000\n",
            "300000\n",
            "400000\n",
            "500000\n"
          ],
          "name": "stdout"
        },
        {
          "output_type": "stream",
          "text": [
            "/usr/local/lib/python3.6/dist-packages/ipykernel_launcher.py:6: SettingWithCopyWarning: \n",
            "A value is trying to be set on a copy of a slice from a DataFrame.\n",
            "Try using .loc[row_indexer,col_indexer] = value instead\n",
            "\n",
            "See the caveats in the documentation: http://pandas.pydata.org/pandas-docs/stable/indexing.html#indexing-view-versus-copy\n",
            "  \n"
          ],
          "name": "stderr"
        },
        {
          "output_type": "execute_result",
          "data": {
            "text/plain": [
              "<function list.clear>"
            ]
          },
          "metadata": {
            "tags": []
          },
          "execution_count": 27
        }
      ]
    },
    {
      "cell_type": "code",
      "metadata": {
        "id": "J_dSjNgkN7EU",
        "colab_type": "code",
        "colab": {
          "base_uri": "https://localhost:8080/",
          "height": 195
        },
        "outputId": "406e383b-7832-4a46-b2af-394fdc0f7d77"
      },
      "source": [
        "df_Final.head()"
      ],
      "execution_count": 28,
      "outputs": [
        {
          "output_type": "execute_result",
          "data": {
            "text/html": [
              "<div>\n",
              "<style scoped>\n",
              "    .dataframe tbody tr th:only-of-type {\n",
              "        vertical-align: middle;\n",
              "    }\n",
              "\n",
              "    .dataframe tbody tr th {\n",
              "        vertical-align: top;\n",
              "    }\n",
              "\n",
              "    .dataframe thead th {\n",
              "        text-align: right;\n",
              "    }\n",
              "</style>\n",
              "<table border=\"1\" class=\"dataframe\">\n",
              "  <thead>\n",
              "    <tr style=\"text-align: right;\">\n",
              "      <th></th>\n",
              "      <th>Title</th>\n",
              "      <th>Body</th>\n",
              "      <th>Tags</th>\n",
              "    </tr>\n",
              "  </thead>\n",
              "  <tbody>\n",
              "    <tr>\n",
              "      <th>0</th>\n",
              "      <td>jquery fast mouse move mouseleave event trigge...</td>\n",
              "      <td>jquery fast mouse move mouseleave event trigge...</td>\n",
              "      <td>php,jquery,ajax</td>\n",
              "    </tr>\n",
              "    <tr>\n",
              "      <th>1</th>\n",
              "      <td>why do i need to add /g when using string repl...</td>\n",
              "      <td>why do i need to add /g when using string repl...</td>\n",
              "      <td>javascript</td>\n",
              "    </tr>\n",
              "    <tr>\n",
              "      <th>2</th>\n",
              "      <td>collecting data from multiple sources using mu...</td>\n",
              "      <td>collecting data from multiple sources using mu...</td>\n",
              "      <td>c#,.net,windows</td>\n",
              "    </tr>\n",
              "    <tr>\n",
              "      <th>3</th>\n",
              "      <td>uninitialized constant in application controller</td>\n",
              "      <td>uninitialized constant in application controll...</td>\n",
              "      <td>ruby-on-rails,ruby</td>\n",
              "    </tr>\n",
              "    <tr>\n",
              "      <th>4</th>\n",
              "      <td>unresolved externals error during compilation</td>\n",
              "      <td>unresolved externals error during compilation ...</td>\n",
              "      <td>c++</td>\n",
              "    </tr>\n",
              "  </tbody>\n",
              "</table>\n",
              "</div>"
            ],
            "text/plain": [
              "                                               Title  ...                Tags\n",
              "0  jquery fast mouse move mouseleave event trigge...  ...     php,jquery,ajax\n",
              "1  why do i need to add /g when using string repl...  ...          javascript\n",
              "2  collecting data from multiple sources using mu...  ...     c#,.net,windows\n",
              "3   uninitialized constant in application controller  ...  ruby-on-rails,ruby\n",
              "4      unresolved externals error during compilation  ...                 c++\n",
              "\n",
              "[5 rows x 3 columns]"
            ]
          },
          "metadata": {
            "tags": []
          },
          "execution_count": 28
        }
      ]
    },
    {
      "cell_type": "code",
      "metadata": {
        "id": "df_rZZOjN9UX",
        "colab_type": "code",
        "colab": {
          "base_uri": "https://localhost:8080/",
          "height": 101
        },
        "outputId": "a85309a6-3455-4262-9694-5e0e750de4e0"
      },
      "source": [
        "df_Final.drop(columns= 'Title',inplace = True)"
      ],
      "execution_count": 29,
      "outputs": [
        {
          "output_type": "stream",
          "text": [
            "/usr/local/lib/python3.6/dist-packages/pandas/core/frame.py:3940: SettingWithCopyWarning: \n",
            "A value is trying to be set on a copy of a slice from a DataFrame\n",
            "\n",
            "See the caveats in the documentation: http://pandas.pydata.org/pandas-docs/stable/indexing.html#indexing-view-versus-copy\n",
            "  errors=errors)\n"
          ],
          "name": "stderr"
        }
      ]
    },
    {
      "cell_type": "code",
      "metadata": {
        "id": "oyak7WHAznHR",
        "colab_type": "code",
        "colab": {
          "base_uri": "https://localhost:8080/",
          "height": 195
        },
        "outputId": "03d14f60-a151-4579-d04d-b39caade280f"
      },
      "source": [
        "df_Final.head()"
      ],
      "execution_count": 30,
      "outputs": [
        {
          "output_type": "execute_result",
          "data": {
            "text/html": [
              "<div>\n",
              "<style scoped>\n",
              "    .dataframe tbody tr th:only-of-type {\n",
              "        vertical-align: middle;\n",
              "    }\n",
              "\n",
              "    .dataframe tbody tr th {\n",
              "        vertical-align: top;\n",
              "    }\n",
              "\n",
              "    .dataframe thead th {\n",
              "        text-align: right;\n",
              "    }\n",
              "</style>\n",
              "<table border=\"1\" class=\"dataframe\">\n",
              "  <thead>\n",
              "    <tr style=\"text-align: right;\">\n",
              "      <th></th>\n",
              "      <th>Body</th>\n",
              "      <th>Tags</th>\n",
              "    </tr>\n",
              "  </thead>\n",
              "  <tbody>\n",
              "    <tr>\n",
              "      <th>0</th>\n",
              "      <td>jquery fast mouse move mouseleave event trigge...</td>\n",
              "      <td>php,jquery,ajax</td>\n",
              "    </tr>\n",
              "    <tr>\n",
              "      <th>1</th>\n",
              "      <td>why do i need to add /g when using string repl...</td>\n",
              "      <td>javascript</td>\n",
              "    </tr>\n",
              "    <tr>\n",
              "      <th>2</th>\n",
              "      <td>collecting data from multiple sources using mu...</td>\n",
              "      <td>c#,.net,windows</td>\n",
              "    </tr>\n",
              "    <tr>\n",
              "      <th>3</th>\n",
              "      <td>uninitialized constant in application controll...</td>\n",
              "      <td>ruby-on-rails,ruby</td>\n",
              "    </tr>\n",
              "    <tr>\n",
              "      <th>4</th>\n",
              "      <td>unresolved externals error during compilation ...</td>\n",
              "      <td>c++</td>\n",
              "    </tr>\n",
              "  </tbody>\n",
              "</table>\n",
              "</div>"
            ],
            "text/plain": [
              "                                                Body                Tags\n",
              "0  jquery fast mouse move mouseleave event trigge...     php,jquery,ajax\n",
              "1  why do i need to add /g when using string repl...          javascript\n",
              "2  collecting data from multiple sources using mu...     c#,.net,windows\n",
              "3  uninitialized constant in application controll...  ruby-on-rails,ruby\n",
              "4  unresolved externals error during compilation ...                 c++"
            ]
          },
          "metadata": {
            "tags": []
          },
          "execution_count": 30
        }
      ]
    },
    {
      "cell_type": "markdown",
      "metadata": {
        "id": "GeXSJDEB1oIa",
        "colab_type": "text"
      },
      "source": [
        "\n",
        "### 4.11: Removing Stop Words and Frequent Tags from The Body Column</br>\n",
        "\n",
        " - Removing words such as I, am, he, was, .... from the \"Body\" of each data point as it adds noise and can cause model to overfit.</br>\n",
        " - We also remove the frequent tags so that the model does not closely train on the frequent occurring words.</br>\n",
        " - Also the reason is some Questions have the tags in their question itself but some do not have any tag mentioned in the Question. So to avoid this, we remove stopwords and frequent tags also.</br>\n",
        " - Using NLTK Library and its Tokenizer and StopWords.</br>\n"
      ]
    },
    {
      "cell_type": "code",
      "metadata": {
        "id": "-xKWBbys9Olr",
        "colab_type": "code",
        "colab": {
          "base_uri": "https://localhost:8080/",
          "height": 118
        },
        "outputId": "c5ade618-a77f-43c1-ed0a-aa2d38d83640"
      },
      "source": [
        "from nltk.corpus import stopwords\n",
        "from nltk.tokenize import word_tokenize\n",
        "\n",
        "stop_words = set(stopwords.words('english'))\n",
        "\n",
        "stop_words = stop_words.union(Freq_tags)\n",
        "\n",
        "Body_Final = []\n",
        "#print(stop_words)\n",
        "\n",
        "for b in range(0,df_Final.shape[0]):\n",
        "    word_tokens = word_tokenize(df_Final[\"Body\"][b])\n",
        "    filtered_sentence = []\n",
        "    filtered_sentence = [w for w in word_tokens if not w in stop_words]\n",
        "    Body_Final.append(\" \".join(filtered_sentence))\n",
        "    if b % 100000 == 0:\n",
        "      print(b)"
      ],
      "execution_count": 31,
      "outputs": [
        {
          "output_type": "stream",
          "text": [
            "0\n",
            "100000\n",
            "200000\n",
            "300000\n",
            "400000\n",
            "500000\n"
          ],
          "name": "stdout"
        }
      ]
    },
    {
      "cell_type": "code",
      "metadata": {
        "id": "1R8cVtwBGqBV",
        "colab_type": "code",
        "colab": {
          "base_uri": "https://localhost:8080/",
          "height": 118
        },
        "outputId": "ff08a2d7-92c8-4fb9-d9f7-b1656a428e2a"
      },
      "source": [
        "df_Final[\"Body\"] = Body_Final"
      ],
      "execution_count": 32,
      "outputs": [
        {
          "output_type": "stream",
          "text": [
            "/usr/local/lib/python3.6/dist-packages/ipykernel_launcher.py:1: SettingWithCopyWarning: \n",
            "A value is trying to be set on a copy of a slice from a DataFrame.\n",
            "Try using .loc[row_indexer,col_indexer] = value instead\n",
            "\n",
            "See the caveats in the documentation: http://pandas.pydata.org/pandas-docs/stable/indexing.html#indexing-view-versus-copy\n",
            "  \"\"\"Entry point for launching an IPython kernel.\n"
          ],
          "name": "stderr"
        }
      ]
    },
    {
      "cell_type": "code",
      "metadata": {
        "id": "uBcE3FgHOLqE",
        "colab_type": "code",
        "colab": {}
      },
      "source": [
        "df_Final = shuffle(df_Final, random_state = 40)"
      ],
      "execution_count": 0,
      "outputs": []
    },
    {
      "cell_type": "code",
      "metadata": {
        "id": "U2sLA7hGz7Eu",
        "colab_type": "code",
        "colab": {
          "base_uri": "https://localhost:8080/",
          "height": 195
        },
        "outputId": "aed14e67-0118-4776-9f1b-8f12b57be57a"
      },
      "source": [
        "df_Final.reset_index(inplace = True)\n",
        "df_Final.head()"
      ],
      "execution_count": 34,
      "outputs": [
        {
          "output_type": "execute_result",
          "data": {
            "text/html": [
              "<div>\n",
              "<style scoped>\n",
              "    .dataframe tbody tr th:only-of-type {\n",
              "        vertical-align: middle;\n",
              "    }\n",
              "\n",
              "    .dataframe tbody tr th {\n",
              "        vertical-align: top;\n",
              "    }\n",
              "\n",
              "    .dataframe thead th {\n",
              "        text-align: right;\n",
              "    }\n",
              "</style>\n",
              "<table border=\"1\" class=\"dataframe\">\n",
              "  <thead>\n",
              "    <tr style=\"text-align: right;\">\n",
              "      <th></th>\n",
              "      <th>index</th>\n",
              "      <th>Body</th>\n",
              "      <th>Tags</th>\n",
              "    </tr>\n",
              "  </thead>\n",
              "  <tbody>\n",
              "    <tr>\n",
              "      <th>0</th>\n",
              "      <td>534389</td>\n",
              "      <td>trigger function blur unless specific elements...</td>\n",
              "      <td>javascript,jquery</td>\n",
              "    </tr>\n",
              "    <tr>\n",
              "      <th>1</th>\n",
              "      <td>524450</td>\n",
              "      <td>content rotator various widths content rotator...</td>\n",
              "      <td>jquery</td>\n",
              "    </tr>\n",
              "    <tr>\n",
              "      <th>2</th>\n",
              "      <td>84140</td>\n",
              "      <td>find column group another column given date us...</td>\n",
              "      <td>mysql</td>\n",
              "    </tr>\n",
              "    <tr>\n",
              "      <th>3</th>\n",
              "      <td>373751</td>\n",
              "      <td>using bit flags purposes 'm conflicted one . '...</td>\n",
              "      <td>windows</td>\n",
              "    </tr>\n",
              "    <tr>\n",
              "      <th>4</th>\n",
              "      <td>219648</td>\n",
              "      <td>issues ip address vs netbios name 7 ultimate m...</td>\n",
              "      <td>windows-7,networking</td>\n",
              "    </tr>\n",
              "  </tbody>\n",
              "</table>\n",
              "</div>"
            ],
            "text/plain": [
              "    index  ...                  Tags\n",
              "0  534389  ...     javascript,jquery\n",
              "1  524450  ...                jquery\n",
              "2   84140  ...                 mysql\n",
              "3  373751  ...               windows\n",
              "4  219648  ...  windows-7,networking\n",
              "\n",
              "[5 rows x 3 columns]"
            ]
          },
          "metadata": {
            "tags": []
          },
          "execution_count": 34
        }
      ]
    },
    {
      "cell_type": "markdown",
      "metadata": {
        "id": "LpokVnNV2Ixd",
        "colab_type": "text"
      },
      "source": [
        "\n",
        "## 5. Data Preparation</br>\n",
        "\n",
        " - Now that our data is cleaned we now divide the dependent and independent columns from each other.</br>"
      ]
    },
    {
      "cell_type": "markdown",
      "metadata": {
        "id": "U_kdDWSh2Qqj",
        "colab_type": "text"
      },
      "source": [
        "\n",
        "### 5.1 Encoding Tags</br>\n",
        "\n",
        " - We now Encode top tags to multi-hot array.</br>\n",
        " - We first split the tag values of each dataset and the multi-hot encode them using MultiLabelBinarizer() from sklearn library.</br>\n"
      ]
    },
    {
      "cell_type": "code",
      "metadata": {
        "id": "T2pTgk0BUUcM",
        "colab_type": "code",
        "colab": {
          "base_uri": "https://localhost:8080/",
          "height": 185
        },
        "outputId": "4d58bc0b-462e-492c-a4ca-58715ddd38eb"
      },
      "source": [
        "tags_split = [tags.split(',') for tags in df_Final['Tags'].values]\n",
        "tags_split[0:10]"
      ],
      "execution_count": 35,
      "outputs": [
        {
          "output_type": "execute_result",
          "data": {
            "text/plain": [
              "[['javascript', 'jquery'],\n",
              " ['jquery'],\n",
              " ['mysql'],\n",
              " ['windows'],\n",
              " ['windows-7', 'networking'],\n",
              " ['c++'],\n",
              " ['android'],\n",
              " ['c#'],\n",
              " ['php'],\n",
              " ['hibernate', 'list']]"
            ]
          },
          "metadata": {
            "tags": []
          },
          "execution_count": 35
        }
      ]
    },
    {
      "cell_type": "code",
      "metadata": {
        "id": "Q9Yg5coBZZF5",
        "colab_type": "code",
        "colab": {
          "base_uri": "https://localhost:8080/",
          "height": 356
        },
        "outputId": "967dc5d3-ba7c-43ee-890e-8806dabbbc19"
      },
      "source": [
        "tag_encoder = MultiLabelBinarizer()\n",
        "tags_encoded = tag_encoder.fit_transform(tags_split)\n",
        "num_tags = len(tags_encoded[0])\n",
        "print(df_Final['Body'].values[0])\n",
        "print(tag_encoder.classes_)\n",
        "print(tags_encoded[0])"
      ],
      "execution_count": 36,
      "outputs": [
        {
          "output_type": "stream",
          "text": [
            "trigger function blur unless specific elements clicked login form . inputs get focused `` forgotten password '' `` remember '' elements get shown adding class , blur , elements hidden removing class `` sho '' . would like elements keep class `` show '' click either one login link $ ( document ) .ready ( function ( ) { $ ( '.login * ' ) .focus ( showlogin ) ; $ ( '.login * ' ) .blur ( hidelogin ) ; } ) ; function showlogin ( ) { $ ( '.login .hidden ' ) .addclass ( `` show '' ) ; } function hidelogin ( ) { $ ( '.login .hidden ' ) .removeclass ( `` show '' ) ; } : form class= '' login '' input type= '' text '' / input type= '' password '' / class= '' loginbutton '' href= '' # '' log in/a br / class= '' hidden '' href= '' # '' forgotten password/a label class= '' hidden '' input type= '' checkbox '' / remember me/label /form\n",
            "['.htaccess' '.net' 'actionscript-3' 'ajax' 'algorithm' 'android' 'apache'\n",
            " 'apache2' 'api' 'arrays' 'asp.net' 'asp.net-mvc' 'asp.net-mvc-3' 'bash'\n",
            " 'c' 'c#' 'c++' 'cocoa' 'cocoa-touch' 'codeigniter' 'css' 'database'\n",
            " 'delphi' 'django' 'eclipse' 'email' 'entity-framework' 'excel' 'facebook'\n",
            " 'file' 'firefox' 'flash' 'flex' 'forms' 'git' 'google-chrome' 'hibernate'\n",
            " 'homework' 'html' 'html5' 'http' 'image' 'internet-explorer' 'ios' 'ipad'\n",
            " 'iphone' 'java' 'javascript' 'jquery' 'jquery-ui' 'json' 'linq' 'linux'\n",
            " 'list' 'matlab' 'multithreading' 'mysql' 'networking' 'node.js'\n",
            " 'objective-c' 'oop' 'oracle' 'osx' 'performance' 'perl' 'php' 'python'\n",
            " 'qt' 'query' 'r' 'regex' 'ruby' 'ruby-on-rails' 'ruby-on-rails-3'\n",
            " 'security' 'shell' 'silverlight' 'spring' 'sql' 'sql-server'\n",
            " 'sql-server-2008' 'sqlite' 'string' 'svn' 'swing' 'tsql' 'ubuntu'\n",
            " 'unit-testing' 'vb.net' 'visual-studio' 'visual-studio-2010' 'wcf'\n",
            " 'web-services' 'windows' 'windows-7' 'winforms' 'wordpress' 'wpf' 'xcode'\n",
            " 'xml']\n",
            "[0 0 0 0 0 0 0 0 0 0 0 0 0 0 0 0 0 0 0 0 0 0 0 0 0 0 0 0 0 0 0 0 0 0 0 0 0\n",
            " 0 0 0 0 0 0 0 0 0 0 1 1 0 0 0 0 0 0 0 0 0 0 0 0 0 0 0 0 0 0 0 0 0 0 0 0 0\n",
            " 0 0 0 0 0 0 0 0 0 0 0 0 0 0 0 0 0 0 0 0 0 0 0 0 0 0]\n"
          ],
          "name": "stdout"
        }
      ]
    },
    {
      "cell_type": "markdown",
      "metadata": {
        "id": "_WXTg3gN25IX",
        "colab_type": "text"
      },
      "source": [
        "### 5.2: Splitting Prepared Data into Train and Cross Validation Set\n",
        "\n",
        " - We now Split the data into Train and Test Set using 80/20 split.</br>\n"
      ]
    },
    {
      "cell_type": "code",
      "metadata": {
        "id": "wN9DBKucZvIf",
        "colab_type": "code",
        "colab": {
          "base_uri": "https://localhost:8080/",
          "height": 50
        },
        "outputId": "f5005750-5682-46da-f145-3816c914a6bb"
      },
      "source": [
        "train_size = int(len(df_Final) * .8)\n",
        "print (\"Train size: %d\" % train_size)\n",
        "print (\"Test size: %d\" % (len(df_Final) - train_size))"
      ],
      "execution_count": 37,
      "outputs": [
        {
          "output_type": "stream",
          "text": [
            "Train size: 480000\n",
            "Test size: 120000\n"
          ],
          "name": "stdout"
        }
      ]
    },
    {
      "cell_type": "code",
      "metadata": {
        "id": "tjWX5PWYazY9",
        "colab_type": "code",
        "colab": {}
      },
      "source": [
        "train_tags = tags_encoded[:train_size]\n",
        "test_tags = tags_encoded[train_size:]"
      ],
      "execution_count": 0,
      "outputs": []
    },
    {
      "cell_type": "markdown",
      "metadata": {
        "id": "muHlZHv_sPK1",
        "colab_type": "text"
      },
      "source": [
        "### 5.3: Tokenizing and Transforming.</br>\n",
        "\n",
        " - First \"Body\" of each Data Point is Tokenized and then transformed to matrices of 0's and 1's depending if the word is in Bag of Words.</br>\n"
      ]
    },
    {
      "cell_type": "code",
      "metadata": {
        "id": "84V6PYHja7Y3",
        "colab_type": "code",
        "colab": {
          "base_uri": "https://localhost:8080/",
          "height": 34
        },
        "outputId": "1a656bb9-6e77-416f-bad5-6c28495b9eb1"
      },
      "source": [
        "%%writefile preprocess.py\n",
        "from tensorflow.keras.preprocessing import text\n",
        "\n",
        "class TextPreprocessor(object):\n",
        "  def __init__(self, vocab_size):\n",
        "    self._vocab_size = vocab_size\n",
        "    self._tokenizer = None\n",
        "  \n",
        "  def create_tokenizer(self, text_list):\n",
        "    tokenizer = text.Tokenizer(num_words=self._vocab_size)\n",
        "    tokenizer.fit_on_texts(text_list)\n",
        "    self._tokenizer = tokenizer\n",
        "\n",
        "  def transform_text(self, text_list):\n",
        "    text_matrix = self._tokenizer.texts_to_matrix(text_list)\n",
        "    return text_matrix"
      ],
      "execution_count": 39,
      "outputs": [
        {
          "output_type": "stream",
          "text": [
            "Overwriting preprocess.py\n"
          ],
          "name": "stdout"
        }
      ]
    },
    {
      "cell_type": "code",
      "metadata": {
        "id": "WLS7DCe2bCeU",
        "colab_type": "code",
        "colab": {}
      },
      "source": [
        "from preprocess import TextPreprocessor\n",
        "\n",
        "VOCAB_SIZE = 200 \n",
        "\n",
        "train_qs = df_Final['Body'].values[:train_size]\n",
        "test_qs = df_Final['Body'].values[train_size:]\n",
        "\n",
        "processor = TextPreprocessor(VOCAB_SIZE)\n",
        "processor.create_tokenizer(train_qs)\n",
        "\n",
        "body_train = processor.transform_text(train_qs)\n",
        "body_test = processor.transform_text(test_qs)"
      ],
      "execution_count": 0,
      "outputs": []
    },
    {
      "cell_type": "code",
      "metadata": {
        "id": "a6U4Vwq0bbvp",
        "colab_type": "code",
        "colab": {
          "base_uri": "https://localhost:8080/",
          "height": 185
        },
        "outputId": "1ea7e32c-7798-4777-c3c9-b01653cab450"
      },
      "source": [
        "print(len(body_train[0]))\n",
        "print(body_train[0])"
      ],
      "execution_count": 41,
      "outputs": [
        {
          "output_type": "stream",
          "text": [
            "200\n",
            "[0. 1. 1. 0. 0. 0. 1. 0. 0. 0. 0. 1. 1. 0. 0. 0. 0. 1. 1. 0. 0. 1. 0. 0.\n",
            " 0. 0. 0. 0. 0. 0. 0. 1. 0. 0. 1. 0. 0. 0. 0. 0. 0. 0. 1. 0. 0. 0. 0. 0.\n",
            " 0. 0. 1. 0. 0. 0. 0. 0. 0. 1. 0. 0. 0. 0. 0. 0. 0. 0. 0. 0. 0. 0. 0. 0.\n",
            " 0. 0. 0. 0. 0. 0. 0. 0. 0. 0. 0. 0. 0. 0. 0. 0. 0. 0. 0. 1. 0. 0. 0. 0.\n",
            " 0. 0. 0. 0. 0. 0. 0. 0. 0. 0. 1. 0. 0. 0. 0. 0. 0. 0. 0. 0. 0. 0. 1. 0.\n",
            " 0. 0. 0. 1. 0. 0. 0. 0. 0. 0. 0. 0. 0. 0. 0. 0. 1. 0. 0. 0. 0. 0. 0. 0.\n",
            " 0. 0. 0. 0. 0. 0. 0. 0. 0. 0. 0. 0. 0. 0. 0. 0. 0. 0. 0. 0. 0. 0. 0. 0.\n",
            " 0. 0. 0. 0. 0. 0. 0. 0. 0. 0. 0. 0. 1. 0. 1. 0. 0. 0. 0. 0. 0. 0. 0. 0.\n",
            " 0. 0. 0. 0. 0. 0. 0. 0.]\n"
          ],
          "name": "stdout"
        }
      ]
    },
    {
      "cell_type": "markdown",
      "metadata": {
        "id": "fYQZWtjmtJe4",
        "colab_type": "text"
      },
      "source": [
        "When all the data is converted and transformed, we then save the Processed Data"
      ]
    },
    {
      "cell_type": "code",
      "metadata": {
        "id": "4wJ8UjvHNM0z",
        "colab_type": "code",
        "colab": {
          "base_uri": "https://localhost:8080/",
          "height": 195
        },
        "outputId": "de59c1d4-88a6-4ba8-f64e-671dd35b4901"
      },
      "source": [
        "df_Final.to_csv(\"Train_Processed.csv\", index=False)\n",
        "df_Final.head()"
      ],
      "execution_count": 42,
      "outputs": [
        {
          "output_type": "execute_result",
          "data": {
            "text/html": [
              "<div>\n",
              "<style scoped>\n",
              "    .dataframe tbody tr th:only-of-type {\n",
              "        vertical-align: middle;\n",
              "    }\n",
              "\n",
              "    .dataframe tbody tr th {\n",
              "        vertical-align: top;\n",
              "    }\n",
              "\n",
              "    .dataframe thead th {\n",
              "        text-align: right;\n",
              "    }\n",
              "</style>\n",
              "<table border=\"1\" class=\"dataframe\">\n",
              "  <thead>\n",
              "    <tr style=\"text-align: right;\">\n",
              "      <th></th>\n",
              "      <th>index</th>\n",
              "      <th>Body</th>\n",
              "      <th>Tags</th>\n",
              "    </tr>\n",
              "  </thead>\n",
              "  <tbody>\n",
              "    <tr>\n",
              "      <th>0</th>\n",
              "      <td>534389</td>\n",
              "      <td>trigger function blur unless specific elements...</td>\n",
              "      <td>javascript,jquery</td>\n",
              "    </tr>\n",
              "    <tr>\n",
              "      <th>1</th>\n",
              "      <td>524450</td>\n",
              "      <td>content rotator various widths content rotator...</td>\n",
              "      <td>jquery</td>\n",
              "    </tr>\n",
              "    <tr>\n",
              "      <th>2</th>\n",
              "      <td>84140</td>\n",
              "      <td>find column group another column given date us...</td>\n",
              "      <td>mysql</td>\n",
              "    </tr>\n",
              "    <tr>\n",
              "      <th>3</th>\n",
              "      <td>373751</td>\n",
              "      <td>using bit flags purposes 'm conflicted one . '...</td>\n",
              "      <td>windows</td>\n",
              "    </tr>\n",
              "    <tr>\n",
              "      <th>4</th>\n",
              "      <td>219648</td>\n",
              "      <td>issues ip address vs netbios name 7 ultimate m...</td>\n",
              "      <td>windows-7,networking</td>\n",
              "    </tr>\n",
              "  </tbody>\n",
              "</table>\n",
              "</div>"
            ],
            "text/plain": [
              "    index  ...                  Tags\n",
              "0  534389  ...     javascript,jquery\n",
              "1  524450  ...                jquery\n",
              "2   84140  ...                 mysql\n",
              "3  373751  ...               windows\n",
              "4  219648  ...  windows-7,networking\n",
              "\n",
              "[5 rows x 3 columns]"
            ]
          },
          "metadata": {
            "tags": []
          },
          "execution_count": 42
        }
      ]
    },
    {
      "cell_type": "markdown",
      "metadata": {
        "id": "5XDrlCXfb08B",
        "colab_type": "text"
      },
      "source": [
        "# 6. Building and Training the Model"
      ]
    },
    {
      "cell_type": "code",
      "metadata": {
        "id": "l4Vw4VfNb31I",
        "colab_type": "code",
        "colab": {}
      },
      "source": [
        "import pickle\n",
        "\n",
        "with open('./processor_state.pkl', 'wb') as f:\n",
        "  pickle.dump(processor, f)"
      ],
      "execution_count": 0,
      "outputs": []
    },
    {
      "cell_type": "markdown",
      "metadata": {
        "id": "Ks2M4fbgtdwL",
        "colab_type": "text"
      },
      "source": [
        "\n",
        "### Model</br>\n",
        "\n",
        " - The Model is a sequential model comprising of different Layers\n",
        "\t\t - Input Layer(shape = 50)\n",
        "\t\t - Dense/ Fully Connected Layer(shape = 80)\n",
        "\t\t - Dense/ Fully Connected Layer(shape = 140)\n",
        "\t\t - Output Layer(shape = 100)\n",
        "\t\n",
        " - The First Three Layers use Relu Activation function whereas the last layer uses Sigmoid Activation function to output if a tag is related or not.</br>\n",
        " - Sigmoid outputs values between [0,1], so this tells of strong or how weak is a tag related.</br>\n",
        " - Extensively uses Tensorflow and keras.</br>\n"
      ]
    },
    {
      "cell_type": "code",
      "metadata": {
        "id": "kiY3HZ2Wb8QU",
        "colab_type": "code",
        "colab": {}
      },
      "source": [
        "def create_model(vocab_size, num_tags):\n",
        "  \n",
        "  model = tf.keras.models.Sequential()\n",
        "  model.add(tf.keras.layers.Dense(50, input_shape=(VOCAB_SIZE,), activation='relu'))\n",
        "  model.add(tf.keras.layers.Dense(80, activation='relu'))\n",
        "  model.add(tf.keras.layers.Dense(140, activation='relu'))\n",
        "  model.add(tf.keras.layers.Dense(num_tags, activation='sigmoid'))\n",
        "\n",
        "\n",
        "  model.compile(loss='binary_crossentropy', optimizer='adam', metrics=['accuracy'])\n",
        "  return model"
      ],
      "execution_count": 0,
      "outputs": []
    },
    {
      "cell_type": "code",
      "metadata": {
        "id": "r1Slq9llcDao",
        "colab_type": "code",
        "colab": {
          "base_uri": "https://localhost:8080/",
          "height": 437
        },
        "outputId": "84d1ea2e-588f-4d2a-fcf5-655d672c2fd1"
      },
      "source": [
        "model = create_model(VOCAB_SIZE, num_tags)\n",
        "model.summary()\n",
        "\n",
        "# Train and evaluate the model\n",
        "model.fit(body_train, train_tags, epochs=3, batch_size=2048, validation_split=0.1)\n",
        "print('Eval loss/accuracy:{}'.format(\n",
        "model.evaluate(body_test, test_tags, batch_size=2048)))\n",
        "\n",
        "# Export the model to a file\n",
        "model.save('keras_saved_model.h5')"
      ],
      "execution_count": 66,
      "outputs": [
        {
          "output_type": "stream",
          "text": [
            "Model: \"sequential_10\"\n",
            "_________________________________________________________________\n",
            "Layer (type)                 Output Shape              Param #   \n",
            "=================================================================\n",
            "dense_40 (Dense)             (None, 50)                10050     \n",
            "_________________________________________________________________\n",
            "dense_41 (Dense)             (None, 80)                4080      \n",
            "_________________________________________________________________\n",
            "dense_42 (Dense)             (None, 140)               11340     \n",
            "_________________________________________________________________\n",
            "dense_43 (Dense)             (None, 100)               14100     \n",
            "=================================================================\n",
            "Total params: 39,570\n",
            "Trainable params: 39,570\n",
            "Non-trainable params: 0\n",
            "_________________________________________________________________\n",
            "Train on 432000 samples, validate on 48000 samples\n",
            "Epoch 1/3\n",
            "432000/432000 [==============================] - 2s 6us/sample - loss: 0.1372 - acc: 0.9677 - val_loss: 0.0753 - val_acc: 0.9819\n",
            "Epoch 2/3\n",
            "432000/432000 [==============================] - 2s 4us/sample - loss: 0.0681 - acc: 0.9825 - val_loss: 0.0635 - val_acc: 0.9830\n",
            "Epoch 3/3\n",
            "432000/432000 [==============================] - 2s 4us/sample - loss: 0.0607 - acc: 0.9834 - val_loss: 0.0593 - val_acc: 0.9835\n",
            "120000/120000 [==============================] - 0s 3us/sample - loss: 0.0592 - acc: 0.9836\n",
            "Eval loss/accuracy:[0.059188420738776525, 0.98355633]\n"
          ],
          "name": "stdout"
        }
      ]
    },
    {
      "cell_type": "markdown",
      "metadata": {
        "id": "KTfWQCwYDrO9",
        "colab_type": "text"
      },
      "source": [
        "\n",
        "### Performance on Validation Set</br>\n",
        "\n",
        " - The Model performs well on the cross validation set while training as well as test set.</br>\n",
        " - Accuracy = 98%</br>\n"
      ]
    },
    {
      "cell_type": "code",
      "metadata": {
        "id": "d68ILGe5Dpkp",
        "colab_type": "code",
        "colab": {
          "base_uri": "https://localhost:8080/",
          "height": 50
        },
        "outputId": "cf054651-ec9e-47a1-d4d1-e43298c47e98"
      },
      "source": [
        "print('Eval loss/accuracy:{}'.format(\n",
        "model.evaluate(body_test, test_tags, batch_size=2048)))"
      ],
      "execution_count": 67,
      "outputs": [
        {
          "output_type": "stream",
          "text": [
            "120000/120000 [==============================] - 0s 3us/sample - loss: 0.0592 - acc: 0.9836\n",
            "Eval loss/accuracy:[0.059188420738776525, 0.98355633]\n"
          ],
          "name": "stdout"
        }
      ]
    },
    {
      "cell_type": "markdown",
      "metadata": {
        "id": "gtQHvlX03xtn",
        "colab_type": "text"
      },
      "source": [
        "#7. Predictions"
      ]
    },
    {
      "cell_type": "code",
      "metadata": {
        "id": "IOi0kmhTcy86",
        "colab_type": "code",
        "colab": {
          "base_uri": "https://localhost:8080/",
          "height": 34
        },
        "outputId": "9627ed69-e812-4859-98ea-ac421314416e"
      },
      "source": [
        "%%writefile model_prediction.py\n",
        "import pickle\n",
        "import os\n",
        "import numpy as np\n",
        "\n",
        "class CustomModelPrediction(object):\n",
        "\n",
        "  def __init__(self, model, processor):\n",
        "    self._model = model\n",
        "    self._processor = processor\n",
        "  \n",
        "  def predict(self, instances, **kwargs):\n",
        "    preprocessed_data = self._processor.transform_text(instances)\n",
        "    predictions = self._model.predict(preprocessed_data)\n",
        "    return predictions.tolist()\n",
        "\n",
        "  @classmethod\n",
        "  def from_path(cls, model_dir):\n",
        "    import tensorflow.keras as keras\n",
        "    model = keras.models.load_model(\n",
        "      os.path.join(model_dir,'keras_saved_model.h5'))\n",
        "    with open(os.path.join(model_dir, 'processor_state.pkl'), 'rb') as f:\n",
        "      processor = pickle.load(f)\n",
        "\n",
        "    return cls(model, processor)"
      ],
      "execution_count": 74,
      "outputs": [
        {
          "output_type": "stream",
          "text": [
            "Overwriting model_prediction.py\n"
          ],
          "name": "stdout"
        }
      ]
    },
    {
      "cell_type": "markdown",
      "metadata": {
        "id": "NcYillAD9Qfs",
        "colab_type": "text"
      },
      "source": [
        "## Write the Question in the test_request Variable"
      ]
    },
    {
      "cell_type": "code",
      "metadata": {
        "id": "liIYwljF9Xy3",
        "colab_type": "code",
        "colab": {}
      },
      "source": [
        "test_requests = [\n",
        "  \"Change the bar item name in Pandas I have a test excel file like: df = pd.DataFrame({'name':list('abcdefg'), 'age':[10,20,5,23,58,4,6]}) print (df) name  age 0    a   10 1    b   20 2    c    5 3    d   23 4    e   58 5    f    4 6    g    6 I use Pandas and matplotlib to read and plot it: import pandas as pd import numpy as np import matplotlib.pyplot as plt import os excel_file = 'test.xlsx' df = pd.read_excel(excel_file, sheet_name=0) df.plot(kind='bar') plt.show() the result shows: enter image description here it use index number as item name, how can I change it to the name, which stored in column name?\"\n",
        "]"
      ],
      "execution_count": 0,
      "outputs": []
    },
    {
      "cell_type": "code",
      "metadata": {
        "id": "RLg7V3-Qc2li",
        "colab_type": "code",
        "colab": {
          "base_uri": "https://localhost:8080/",
          "height": 84
        },
        "outputId": "a104b9f7-1e63-49a4-9513-b78671c4da1f"
      },
      "source": [
        "from model_prediction import CustomModelPrediction\n",
        "\n",
        "classifier = CustomModelPrediction.from_path('.')\n",
        "results = classifier.predict(test_requests)\n",
        "#print(results)\n",
        "\n",
        "for i in range(len(results)):\n",
        "  print('Predicted labels:')\n",
        "  for idx,val in enumerate(results[i]):\n",
        "    if val > 0.4:\n",
        "      print(tag_encoder.classes_[idx])\n",
        "      #print(val)\n",
        "  print('\\n')"
      ],
      "execution_count": 79,
      "outputs": [
        {
          "output_type": "stream",
          "text": [
            "Predicted labels:\n",
            "python\n",
            "\n",
            "\n"
          ],
          "name": "stdout"
        }
      ]
    },
    {
      "cell_type": "markdown",
      "metadata": {
        "id": "BSpTNEHz8k9v",
        "colab_type": "text"
      },
      "source": [
        "# Hardware and Software Used:\n",
        "\n",
        "\n",
        "*   GPU: Tesla T4\n",
        "\n",
        "*   RAM: 25.81 GB\n",
        "*   Softwares: Pandas, Keras, Tensorflow, Sklearn, nltk, pickle\n",
        "\n",
        "\n",
        "\n"
      ]
    },
    {
      "cell_type": "code",
      "metadata": {
        "id": "UVnwtjI0zIv2",
        "colab_type": "code",
        "colab": {
          "base_uri": "https://localhost:8080/",
          "height": 470
        },
        "outputId": "db89d37d-30d2-4db7-9288-f61b7ada0e60"
      },
      "source": [
        "from tensorflow.python.client import device_lib\n",
        "device_lib.list_local_devices()"
      ],
      "execution_count": 54,
      "outputs": [
        {
          "output_type": "execute_result",
          "data": {
            "text/plain": [
              "[name: \"/device:CPU:0\"\n",
              " device_type: \"CPU\"\n",
              " memory_limit: 268435456\n",
              " locality {\n",
              " }\n",
              " incarnation: 5199780674223167954, name: \"/device:XLA_CPU:0\"\n",
              " device_type: \"XLA_CPU\"\n",
              " memory_limit: 17179869184\n",
              " locality {\n",
              " }\n",
              " incarnation: 2880498197868775359\n",
              " physical_device_desc: \"device: XLA_CPU device\", name: \"/device:XLA_GPU:0\"\n",
              " device_type: \"XLA_GPU\"\n",
              " memory_limit: 17179869184\n",
              " locality {\n",
              " }\n",
              " incarnation: 7862391114126866291\n",
              " physical_device_desc: \"device: XLA_GPU device\", name: \"/device:GPU:0\"\n",
              " device_type: \"GPU\"\n",
              " memory_limit: 14912199066\n",
              " locality {\n",
              "   bus_id: 1\n",
              "   links {\n",
              "   }\n",
              " }\n",
              " incarnation: 16676038523866578715\n",
              " physical_device_desc: \"device: 0, name: Tesla T4, pci bus id: 0000:00:04.0, compute capability: 7.5\"]"
            ]
          },
          "metadata": {
            "tags": []
          },
          "execution_count": 54
        }
      ]
    },
    {
      "cell_type": "code",
      "metadata": {
        "id": "tPw0hPz_LHiO",
        "colab_type": "code",
        "colab": {}
      },
      "source": [
        ""
      ],
      "execution_count": 0,
      "outputs": []
    }
  ]
}